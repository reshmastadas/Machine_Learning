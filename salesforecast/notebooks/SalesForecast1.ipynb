{
 "cells": [
  {
   "cell_type": "code",
   "execution_count": 1,
   "metadata": {},
   "outputs": [],
   "source": [
    "import pandas as pd\n",
    "import numpy as np\n",
    "import matplotlib.pyplot as plt\n",
    "from sklearn.model_selection import train_test_split\n",
    "from sklearn.metrics import mean_squared_error\n",
    "import statsmodels.api as sm\n",
    "from statsmodels.tsa.vector_ar.vecm import coint_johansen\n",
    "import statsmodels.api as sm\n",
    "import math\n",
    "#from statsmodels.tsa.seasonal import seasonal_decompose\n",
    "#from pandas import Series\n",
    "#from statsmodels.tsa.stattools import adfuller"
   ]
  },
  {
   "cell_type": "code",
   "execution_count": 2,
   "metadata": {},
   "outputs": [],
   "source": [
    "data = pd.read_csv(\"D:\\ML_Stock_Forecast\\Walmart.csv\",parse_dates=['Date'])\n",
    "datastores = pd.read_csv(\"D:\\ML_Stock_Forecast\\WalmartStores.csv\")\n",
    "#data = pd.read_csv(\"E:\\Walmart\\Walmart.csv\",parse_dates=['Date'])\n",
    "#datastores = pd.read_csv(\"E:\\Walmart\\WalmartStores.csv\")"
   ]
  },
  {
   "cell_type": "code",
   "execution_count": 3,
   "metadata": {},
   "outputs": [
    {
     "data": {
      "text/html": [
       "<div>\n",
       "<style scoped>\n",
       "    .dataframe tbody tr th:only-of-type {\n",
       "        vertical-align: middle;\n",
       "    }\n",
       "\n",
       "    .dataframe tbody tr th {\n",
       "        vertical-align: top;\n",
       "    }\n",
       "\n",
       "    .dataframe thead th {\n",
       "        text-align: right;\n",
       "    }\n",
       "</style>\n",
       "<table border=\"1\" class=\"dataframe\">\n",
       "  <thead>\n",
       "    <tr style=\"text-align: right;\">\n",
       "      <th></th>\n",
       "      <th>Store</th>\n",
       "      <th>Dept</th>\n",
       "      <th>Date</th>\n",
       "      <th>Weekly_Sales</th>\n",
       "      <th>IsHoliday</th>\n",
       "    </tr>\n",
       "  </thead>\n",
       "  <tbody>\n",
       "    <tr>\n",
       "      <th>0</th>\n",
       "      <td>1</td>\n",
       "      <td>1</td>\n",
       "      <td>2010-02-05</td>\n",
       "      <td>24924.50</td>\n",
       "      <td>False</td>\n",
       "    </tr>\n",
       "    <tr>\n",
       "      <th>1</th>\n",
       "      <td>1</td>\n",
       "      <td>1</td>\n",
       "      <td>2010-02-12</td>\n",
       "      <td>46039.49</td>\n",
       "      <td>True</td>\n",
       "    </tr>\n",
       "    <tr>\n",
       "      <th>2</th>\n",
       "      <td>1</td>\n",
       "      <td>1</td>\n",
       "      <td>2010-02-19</td>\n",
       "      <td>41595.55</td>\n",
       "      <td>False</td>\n",
       "    </tr>\n",
       "    <tr>\n",
       "      <th>3</th>\n",
       "      <td>1</td>\n",
       "      <td>1</td>\n",
       "      <td>2010-02-26</td>\n",
       "      <td>19403.54</td>\n",
       "      <td>False</td>\n",
       "    </tr>\n",
       "    <tr>\n",
       "      <th>4</th>\n",
       "      <td>1</td>\n",
       "      <td>1</td>\n",
       "      <td>2010-03-05</td>\n",
       "      <td>21827.90</td>\n",
       "      <td>False</td>\n",
       "    </tr>\n",
       "  </tbody>\n",
       "</table>\n",
       "</div>"
      ],
      "text/plain": [
       "   Store  Dept       Date  Weekly_Sales  IsHoliday\n",
       "0      1     1 2010-02-05      24924.50      False\n",
       "1      1     1 2010-02-12      46039.49       True\n",
       "2      1     1 2010-02-19      41595.55      False\n",
       "3      1     1 2010-02-26      19403.54      False\n",
       "4      1     1 2010-03-05      21827.90      False"
      ]
     },
     "execution_count": 3,
     "metadata": {},
     "output_type": "execute_result"
    }
   ],
   "source": [
    "data.head()"
   ]
  },
  {
   "cell_type": "code",
   "execution_count": 4,
   "metadata": {},
   "outputs": [
    {
     "data": {
      "text/html": [
       "<div>\n",
       "<style scoped>\n",
       "    .dataframe tbody tr th:only-of-type {\n",
       "        vertical-align: middle;\n",
       "    }\n",
       "\n",
       "    .dataframe tbody tr th {\n",
       "        vertical-align: top;\n",
       "    }\n",
       "\n",
       "    .dataframe thead th {\n",
       "        text-align: right;\n",
       "    }\n",
       "</style>\n",
       "<table border=\"1\" class=\"dataframe\">\n",
       "  <thead>\n",
       "    <tr style=\"text-align: right;\">\n",
       "      <th></th>\n",
       "      <th>Store</th>\n",
       "      <th>Type</th>\n",
       "      <th>Size</th>\n",
       "    </tr>\n",
       "  </thead>\n",
       "  <tbody>\n",
       "    <tr>\n",
       "      <th>0</th>\n",
       "      <td>1</td>\n",
       "      <td>A</td>\n",
       "      <td>151315</td>\n",
       "    </tr>\n",
       "    <tr>\n",
       "      <th>1</th>\n",
       "      <td>2</td>\n",
       "      <td>A</td>\n",
       "      <td>202307</td>\n",
       "    </tr>\n",
       "    <tr>\n",
       "      <th>2</th>\n",
       "      <td>3</td>\n",
       "      <td>B</td>\n",
       "      <td>37392</td>\n",
       "    </tr>\n",
       "    <tr>\n",
       "      <th>3</th>\n",
       "      <td>4</td>\n",
       "      <td>A</td>\n",
       "      <td>205863</td>\n",
       "    </tr>\n",
       "    <tr>\n",
       "      <th>4</th>\n",
       "      <td>5</td>\n",
       "      <td>B</td>\n",
       "      <td>34875</td>\n",
       "    </tr>\n",
       "  </tbody>\n",
       "</table>\n",
       "</div>"
      ],
      "text/plain": [
       "   Store Type    Size\n",
       "0      1    A  151315\n",
       "1      2    A  202307\n",
       "2      3    B   37392\n",
       "3      4    A  205863\n",
       "4      5    B   34875"
      ]
     },
     "execution_count": 4,
     "metadata": {},
     "output_type": "execute_result"
    }
   ],
   "source": [
    "datastores.head()"
   ]
  },
  {
   "cell_type": "code",
   "execution_count": 5,
   "metadata": {},
   "outputs": [
    {
     "name": "stdout",
     "output_type": "stream",
     "text": [
      "<class 'pandas.core.frame.DataFrame'>\n",
      "RangeIndex: 45 entries, 0 to 44\n",
      "Data columns (total 3 columns):\n",
      "Store    45 non-null int64\n",
      "Type     45 non-null object\n",
      "Size     45 non-null int64\n",
      "dtypes: int64(2), object(1)\n",
      "memory usage: 1.1+ KB\n"
     ]
    }
   ],
   "source": [
    "datastores.info()"
   ]
  },
  {
   "cell_type": "code",
   "execution_count": 6,
   "metadata": {},
   "outputs": [],
   "source": [
    "#Merge Sales and Store data\n",
    "Salesdata = pd.merge(data,datastores, on = 'Store', how = 'left')"
   ]
  },
  {
   "cell_type": "code",
   "execution_count": 7,
   "metadata": {},
   "outputs": [
    {
     "data": {
      "text/html": [
       "<div>\n",
       "<style scoped>\n",
       "    .dataframe tbody tr th:only-of-type {\n",
       "        vertical-align: middle;\n",
       "    }\n",
       "\n",
       "    .dataframe tbody tr th {\n",
       "        vertical-align: top;\n",
       "    }\n",
       "\n",
       "    .dataframe thead th {\n",
       "        text-align: right;\n",
       "    }\n",
       "</style>\n",
       "<table border=\"1\" class=\"dataframe\">\n",
       "  <thead>\n",
       "    <tr style=\"text-align: right;\">\n",
       "      <th></th>\n",
       "      <th>Store</th>\n",
       "      <th>Dept</th>\n",
       "      <th>Date</th>\n",
       "      <th>Weekly_Sales</th>\n",
       "      <th>IsHoliday</th>\n",
       "      <th>Type</th>\n",
       "      <th>Size</th>\n",
       "    </tr>\n",
       "  </thead>\n",
       "  <tbody>\n",
       "    <tr>\n",
       "      <th>0</th>\n",
       "      <td>1</td>\n",
       "      <td>1</td>\n",
       "      <td>2010-02-05</td>\n",
       "      <td>24924.50</td>\n",
       "      <td>False</td>\n",
       "      <td>A</td>\n",
       "      <td>151315</td>\n",
       "    </tr>\n",
       "    <tr>\n",
       "      <th>1</th>\n",
       "      <td>1</td>\n",
       "      <td>1</td>\n",
       "      <td>2010-02-12</td>\n",
       "      <td>46039.49</td>\n",
       "      <td>True</td>\n",
       "      <td>A</td>\n",
       "      <td>151315</td>\n",
       "    </tr>\n",
       "    <tr>\n",
       "      <th>2</th>\n",
       "      <td>1</td>\n",
       "      <td>1</td>\n",
       "      <td>2010-02-19</td>\n",
       "      <td>41595.55</td>\n",
       "      <td>False</td>\n",
       "      <td>A</td>\n",
       "      <td>151315</td>\n",
       "    </tr>\n",
       "    <tr>\n",
       "      <th>3</th>\n",
       "      <td>1</td>\n",
       "      <td>1</td>\n",
       "      <td>2010-02-26</td>\n",
       "      <td>19403.54</td>\n",
       "      <td>False</td>\n",
       "      <td>A</td>\n",
       "      <td>151315</td>\n",
       "    </tr>\n",
       "    <tr>\n",
       "      <th>4</th>\n",
       "      <td>1</td>\n",
       "      <td>1</td>\n",
       "      <td>2010-03-05</td>\n",
       "      <td>21827.90</td>\n",
       "      <td>False</td>\n",
       "      <td>A</td>\n",
       "      <td>151315</td>\n",
       "    </tr>\n",
       "  </tbody>\n",
       "</table>\n",
       "</div>"
      ],
      "text/plain": [
       "   Store  Dept       Date  Weekly_Sales  IsHoliday Type    Size\n",
       "0      1     1 2010-02-05      24924.50      False    A  151315\n",
       "1      1     1 2010-02-12      46039.49       True    A  151315\n",
       "2      1     1 2010-02-19      41595.55      False    A  151315\n",
       "3      1     1 2010-02-26      19403.54      False    A  151315\n",
       "4      1     1 2010-03-05      21827.90      False    A  151315"
      ]
     },
     "execution_count": 7,
     "metadata": {},
     "output_type": "execute_result"
    }
   ],
   "source": [
    "Salesdata.head()"
   ]
  },
  {
   "cell_type": "code",
   "execution_count": 8,
   "metadata": {},
   "outputs": [
    {
     "data": {
      "text/html": [
       "<div>\n",
       "<style scoped>\n",
       "    .dataframe tbody tr th:only-of-type {\n",
       "        vertical-align: middle;\n",
       "    }\n",
       "\n",
       "    .dataframe tbody tr th {\n",
       "        vertical-align: top;\n",
       "    }\n",
       "\n",
       "    .dataframe thead th {\n",
       "        text-align: right;\n",
       "    }\n",
       "</style>\n",
       "<table border=\"1\" class=\"dataframe\">\n",
       "  <thead>\n",
       "    <tr style=\"text-align: right;\">\n",
       "      <th></th>\n",
       "      <th>Store</th>\n",
       "      <th>Dept</th>\n",
       "      <th>Weekly_Sales</th>\n",
       "      <th>Size</th>\n",
       "    </tr>\n",
       "  </thead>\n",
       "  <tbody>\n",
       "    <tr>\n",
       "      <th>count</th>\n",
       "      <td>421570.000000</td>\n",
       "      <td>421570.000000</td>\n",
       "      <td>421570.000000</td>\n",
       "      <td>421570.000000</td>\n",
       "    </tr>\n",
       "    <tr>\n",
       "      <th>mean</th>\n",
       "      <td>22.200546</td>\n",
       "      <td>44.260317</td>\n",
       "      <td>15981.258123</td>\n",
       "      <td>136727.915739</td>\n",
       "    </tr>\n",
       "    <tr>\n",
       "      <th>std</th>\n",
       "      <td>12.785297</td>\n",
       "      <td>30.492054</td>\n",
       "      <td>22711.183519</td>\n",
       "      <td>60980.583328</td>\n",
       "    </tr>\n",
       "    <tr>\n",
       "      <th>min</th>\n",
       "      <td>1.000000</td>\n",
       "      <td>1.000000</td>\n",
       "      <td>-4988.940000</td>\n",
       "      <td>34875.000000</td>\n",
       "    </tr>\n",
       "    <tr>\n",
       "      <th>25%</th>\n",
       "      <td>11.000000</td>\n",
       "      <td>18.000000</td>\n",
       "      <td>2079.650000</td>\n",
       "      <td>93638.000000</td>\n",
       "    </tr>\n",
       "    <tr>\n",
       "      <th>50%</th>\n",
       "      <td>22.000000</td>\n",
       "      <td>37.000000</td>\n",
       "      <td>7612.030000</td>\n",
       "      <td>140167.000000</td>\n",
       "    </tr>\n",
       "    <tr>\n",
       "      <th>75%</th>\n",
       "      <td>33.000000</td>\n",
       "      <td>74.000000</td>\n",
       "      <td>20205.852500</td>\n",
       "      <td>202505.000000</td>\n",
       "    </tr>\n",
       "    <tr>\n",
       "      <th>max</th>\n",
       "      <td>45.000000</td>\n",
       "      <td>99.000000</td>\n",
       "      <td>693099.360000</td>\n",
       "      <td>219622.000000</td>\n",
       "    </tr>\n",
       "  </tbody>\n",
       "</table>\n",
       "</div>"
      ],
      "text/plain": [
       "               Store           Dept   Weekly_Sales           Size\n",
       "count  421570.000000  421570.000000  421570.000000  421570.000000\n",
       "mean       22.200546      44.260317   15981.258123  136727.915739\n",
       "std        12.785297      30.492054   22711.183519   60980.583328\n",
       "min         1.000000       1.000000   -4988.940000   34875.000000\n",
       "25%        11.000000      18.000000    2079.650000   93638.000000\n",
       "50%        22.000000      37.000000    7612.030000  140167.000000\n",
       "75%        33.000000      74.000000   20205.852500  202505.000000\n",
       "max        45.000000      99.000000  693099.360000  219622.000000"
      ]
     },
     "execution_count": 8,
     "metadata": {},
     "output_type": "execute_result"
    }
   ],
   "source": [
    "Salesdata.describe()"
   ]
  },
  {
   "cell_type": "code",
   "execution_count": 9,
   "metadata": {},
   "outputs": [
    {
     "name": "stdout",
     "output_type": "stream",
     "text": [
      "<class 'pandas.core.frame.DataFrame'>\n",
      "Int64Index: 421570 entries, 0 to 421569\n",
      "Data columns (total 7 columns):\n",
      "Store           421570 non-null int64\n",
      "Dept            421570 non-null int64\n",
      "Date            421570 non-null datetime64[ns]\n",
      "Weekly_Sales    421570 non-null float64\n",
      "IsHoliday       421570 non-null bool\n",
      "Type            421570 non-null object\n",
      "Size            421570 non-null int64\n",
      "dtypes: bool(1), datetime64[ns](1), float64(1), int64(3), object(1)\n",
      "memory usage: 22.9+ MB\n"
     ]
    }
   ],
   "source": [
    "# We can see negative Sales\n",
    "Salesdata.info()"
   ]
  },
  {
   "cell_type": "code",
   "execution_count": 10,
   "metadata": {},
   "outputs": [
    {
     "data": {
      "text/plain": [
       "Store           0\n",
       "Dept            0\n",
       "Date            0\n",
       "Weekly_Sales    0\n",
       "IsHoliday       0\n",
       "Type            0\n",
       "Size            0\n",
       "dtype: int64"
      ]
     },
     "execution_count": 10,
     "metadata": {},
     "output_type": "execute_result"
    }
   ],
   "source": [
    "# Check Null values\n",
    "Salesdata.isnull().sum()"
   ]
  },
  {
   "cell_type": "code",
   "execution_count": 11,
   "metadata": {},
   "outputs": [
    {
     "data": {
      "text/plain": [
       "False    391909\n",
       "True      29661\n",
       "Name: IsHoliday, dtype: int64"
      ]
     },
     "execution_count": 11,
     "metadata": {},
     "output_type": "execute_result"
    }
   ],
   "source": [
    "Salesdata.IsHoliday.value_counts()"
   ]
  },
  {
   "cell_type": "code",
   "execution_count": 12,
   "metadata": {},
   "outputs": [
    {
     "data": {
      "text/plain": [
       "A    215478\n",
       "B    163495\n",
       "C     42597\n",
       "Name: Type, dtype: int64"
      ]
     },
     "execution_count": 12,
     "metadata": {},
     "output_type": "execute_result"
    }
   ],
   "source": [
    "Salesdata.Type.value_counts()"
   ]
  },
  {
   "cell_type": "code",
   "execution_count": 13,
   "metadata": {},
   "outputs": [],
   "source": [
    "# Dummy variable creation for categorical columns\n",
    "walmartdata=pd.get_dummies(Salesdata,columns = ['IsHoliday','Type'])"
   ]
  },
  {
   "cell_type": "code",
   "execution_count": 14,
   "metadata": {},
   "outputs": [
    {
     "data": {
      "text/html": [
       "<div>\n",
       "<style scoped>\n",
       "    .dataframe tbody tr th:only-of-type {\n",
       "        vertical-align: middle;\n",
       "    }\n",
       "\n",
       "    .dataframe tbody tr th {\n",
       "        vertical-align: top;\n",
       "    }\n",
       "\n",
       "    .dataframe thead th {\n",
       "        text-align: right;\n",
       "    }\n",
       "</style>\n",
       "<table border=\"1\" class=\"dataframe\">\n",
       "  <thead>\n",
       "    <tr style=\"text-align: right;\">\n",
       "      <th></th>\n",
       "      <th>Store</th>\n",
       "      <th>Dept</th>\n",
       "      <th>Date</th>\n",
       "      <th>Weekly_Sales</th>\n",
       "      <th>Size</th>\n",
       "      <th>IsHoliday_False</th>\n",
       "      <th>IsHoliday_True</th>\n",
       "      <th>Type_A</th>\n",
       "      <th>Type_B</th>\n",
       "      <th>Type_C</th>\n",
       "    </tr>\n",
       "  </thead>\n",
       "  <tbody>\n",
       "    <tr>\n",
       "      <th>0</th>\n",
       "      <td>1</td>\n",
       "      <td>1</td>\n",
       "      <td>2010-02-05</td>\n",
       "      <td>24924.50</td>\n",
       "      <td>151315</td>\n",
       "      <td>1</td>\n",
       "      <td>0</td>\n",
       "      <td>1</td>\n",
       "      <td>0</td>\n",
       "      <td>0</td>\n",
       "    </tr>\n",
       "    <tr>\n",
       "      <th>1</th>\n",
       "      <td>1</td>\n",
       "      <td>1</td>\n",
       "      <td>2010-02-12</td>\n",
       "      <td>46039.49</td>\n",
       "      <td>151315</td>\n",
       "      <td>0</td>\n",
       "      <td>1</td>\n",
       "      <td>1</td>\n",
       "      <td>0</td>\n",
       "      <td>0</td>\n",
       "    </tr>\n",
       "    <tr>\n",
       "      <th>2</th>\n",
       "      <td>1</td>\n",
       "      <td>1</td>\n",
       "      <td>2010-02-19</td>\n",
       "      <td>41595.55</td>\n",
       "      <td>151315</td>\n",
       "      <td>1</td>\n",
       "      <td>0</td>\n",
       "      <td>1</td>\n",
       "      <td>0</td>\n",
       "      <td>0</td>\n",
       "    </tr>\n",
       "    <tr>\n",
       "      <th>3</th>\n",
       "      <td>1</td>\n",
       "      <td>1</td>\n",
       "      <td>2010-02-26</td>\n",
       "      <td>19403.54</td>\n",
       "      <td>151315</td>\n",
       "      <td>1</td>\n",
       "      <td>0</td>\n",
       "      <td>1</td>\n",
       "      <td>0</td>\n",
       "      <td>0</td>\n",
       "    </tr>\n",
       "    <tr>\n",
       "      <th>4</th>\n",
       "      <td>1</td>\n",
       "      <td>1</td>\n",
       "      <td>2010-03-05</td>\n",
       "      <td>21827.90</td>\n",
       "      <td>151315</td>\n",
       "      <td>1</td>\n",
       "      <td>0</td>\n",
       "      <td>1</td>\n",
       "      <td>0</td>\n",
       "      <td>0</td>\n",
       "    </tr>\n",
       "  </tbody>\n",
       "</table>\n",
       "</div>"
      ],
      "text/plain": [
       "   Store  Dept       Date  Weekly_Sales    Size  IsHoliday_False  \\\n",
       "0      1     1 2010-02-05      24924.50  151315                1   \n",
       "1      1     1 2010-02-12      46039.49  151315                0   \n",
       "2      1     1 2010-02-19      41595.55  151315                1   \n",
       "3      1     1 2010-02-26      19403.54  151315                1   \n",
       "4      1     1 2010-03-05      21827.90  151315                1   \n",
       "\n",
       "   IsHoliday_True  Type_A  Type_B  Type_C  \n",
       "0               0       1       0       0  \n",
       "1               1       1       0       0  \n",
       "2               0       1       0       0  \n",
       "3               0       1       0       0  \n",
       "4               0       1       0       0  "
      ]
     },
     "execution_count": 14,
     "metadata": {},
     "output_type": "execute_result"
    }
   ],
   "source": [
    "#Verify if Dummy varaiables are created\n",
    "walmartdata.head()"
   ]
  },
  {
   "cell_type": "code",
   "execution_count": 15,
   "metadata": {},
   "outputs": [],
   "source": [
    "# Check correlation between varaibles\n",
    "Salesdata.IsHoliday=Salesdata.IsHoliday.apply(lambda x: int(x)) \n",
    "df_str_type={'A':1,'B':2,'C':3} \n",
    "Salesdata['Type']=Salesdata['Type'].map(df_str_type)"
   ]
  },
  {
   "cell_type": "code",
   "execution_count": 16,
   "metadata": {},
   "outputs": [
    {
     "data": {
      "text/html": [
       "<div>\n",
       "<style scoped>\n",
       "    .dataframe tbody tr th:only-of-type {\n",
       "        vertical-align: middle;\n",
       "    }\n",
       "\n",
       "    .dataframe tbody tr th {\n",
       "        vertical-align: top;\n",
       "    }\n",
       "\n",
       "    .dataframe thead th {\n",
       "        text-align: right;\n",
       "    }\n",
       "</style>\n",
       "<table border=\"1\" class=\"dataframe\">\n",
       "  <thead>\n",
       "    <tr style=\"text-align: right;\">\n",
       "      <th></th>\n",
       "      <th>Store</th>\n",
       "      <th>Dept</th>\n",
       "      <th>Weekly_Sales</th>\n",
       "      <th>IsHoliday</th>\n",
       "      <th>Type</th>\n",
       "      <th>Size</th>\n",
       "    </tr>\n",
       "  </thead>\n",
       "  <tbody>\n",
       "    <tr>\n",
       "      <th>Store</th>\n",
       "      <td>1.000000</td>\n",
       "      <td>0.009812</td>\n",
       "      <td>-0.068593</td>\n",
       "      <td>-0.000451</td>\n",
       "      <td>0.114958</td>\n",
       "      <td>-0.115744</td>\n",
       "    </tr>\n",
       "    <tr>\n",
       "      <th>Dept</th>\n",
       "      <td>0.009812</td>\n",
       "      <td>1.000000</td>\n",
       "      <td>-0.020025</td>\n",
       "      <td>0.000664</td>\n",
       "      <td>-0.008585</td>\n",
       "      <td>0.007606</td>\n",
       "    </tr>\n",
       "    <tr>\n",
       "      <th>Weekly_Sales</th>\n",
       "      <td>-0.068593</td>\n",
       "      <td>-0.020025</td>\n",
       "      <td>1.000000</td>\n",
       "      <td>0.004591</td>\n",
       "      <td>-0.180432</td>\n",
       "      <td>0.198256</td>\n",
       "    </tr>\n",
       "    <tr>\n",
       "      <th>IsHoliday</th>\n",
       "      <td>-0.000451</td>\n",
       "      <td>0.000664</td>\n",
       "      <td>0.004591</td>\n",
       "      <td>1.000000</td>\n",
       "      <td>-0.000656</td>\n",
       "      <td>0.000469</td>\n",
       "    </tr>\n",
       "    <tr>\n",
       "      <th>Type</th>\n",
       "      <td>0.114958</td>\n",
       "      <td>-0.008585</td>\n",
       "      <td>-0.180432</td>\n",
       "      <td>-0.000656</td>\n",
       "      <td>1.000000</td>\n",
       "      <td>-0.681443</td>\n",
       "    </tr>\n",
       "    <tr>\n",
       "      <th>Size</th>\n",
       "      <td>-0.115744</td>\n",
       "      <td>0.007606</td>\n",
       "      <td>0.198256</td>\n",
       "      <td>0.000469</td>\n",
       "      <td>-0.681443</td>\n",
       "      <td>1.000000</td>\n",
       "    </tr>\n",
       "  </tbody>\n",
       "</table>\n",
       "</div>"
      ],
      "text/plain": [
       "                 Store      Dept  Weekly_Sales  IsHoliday      Type      Size\n",
       "Store         1.000000  0.009812     -0.068593  -0.000451  0.114958 -0.115744\n",
       "Dept          0.009812  1.000000     -0.020025   0.000664 -0.008585  0.007606\n",
       "Weekly_Sales -0.068593 -0.020025      1.000000   0.004591 -0.180432  0.198256\n",
       "IsHoliday    -0.000451  0.000664      0.004591   1.000000 -0.000656  0.000469\n",
       "Type          0.114958 -0.008585     -0.180432  -0.000656  1.000000 -0.681443\n",
       "Size         -0.115744  0.007606      0.198256   0.000469 -0.681443  1.000000"
      ]
     },
     "execution_count": 16,
     "metadata": {},
     "output_type": "execute_result"
    }
   ],
   "source": [
    "Salesdata.corr(method ='kendall') "
   ]
  },
  {
   "cell_type": "code",
   "execution_count": 17,
   "metadata": {},
   "outputs": [
    {
     "data": {
      "text/html": [
       "<div>\n",
       "<style scoped>\n",
       "    .dataframe tbody tr th:only-of-type {\n",
       "        vertical-align: middle;\n",
       "    }\n",
       "\n",
       "    .dataframe tbody tr th {\n",
       "        vertical-align: top;\n",
       "    }\n",
       "\n",
       "    .dataframe thead th {\n",
       "        text-align: right;\n",
       "    }\n",
       "</style>\n",
       "<table border=\"1\" class=\"dataframe\">\n",
       "  <thead>\n",
       "    <tr style=\"text-align: right;\">\n",
       "      <th></th>\n",
       "      <th>Store</th>\n",
       "      <th>Dept</th>\n",
       "      <th>Weekly_Sales</th>\n",
       "      <th>Size</th>\n",
       "      <th>IsHoliday_False</th>\n",
       "      <th>IsHoliday_True</th>\n",
       "      <th>Type_A</th>\n",
       "      <th>Type_B</th>\n",
       "      <th>Type_C</th>\n",
       "    </tr>\n",
       "  </thead>\n",
       "  <tbody>\n",
       "    <tr>\n",
       "      <th>count</th>\n",
       "      <td>420285.000000</td>\n",
       "      <td>420285.000000</td>\n",
       "      <td>420285.000000</td>\n",
       "      <td>420285.000000</td>\n",
       "      <td>420285.00000</td>\n",
       "      <td>420285.00000</td>\n",
       "      <td>420285.000000</td>\n",
       "      <td>420285.000000</td>\n",
       "      <td>420285.000000</td>\n",
       "    </tr>\n",
       "    <tr>\n",
       "      <th>mean</th>\n",
       "      <td>22.195477</td>\n",
       "      <td>44.242771</td>\n",
       "      <td>16030.329773</td>\n",
       "      <td>136749.569176</td>\n",
       "      <td>0.92966</td>\n",
       "      <td>0.07034</td>\n",
       "      <td>0.511541</td>\n",
       "      <td>0.387401</td>\n",
       "      <td>0.101058</td>\n",
       "    </tr>\n",
       "    <tr>\n",
       "      <th>std</th>\n",
       "      <td>12.787213</td>\n",
       "      <td>30.507197</td>\n",
       "      <td>22728.500149</td>\n",
       "      <td>60992.688568</td>\n",
       "      <td>0.25572</td>\n",
       "      <td>0.25572</td>\n",
       "      <td>0.499867</td>\n",
       "      <td>0.487157</td>\n",
       "      <td>0.301405</td>\n",
       "    </tr>\n",
       "    <tr>\n",
       "      <th>min</th>\n",
       "      <td>1.000000</td>\n",
       "      <td>1.000000</td>\n",
       "      <td>0.000000</td>\n",
       "      <td>34875.000000</td>\n",
       "      <td>0.00000</td>\n",
       "      <td>0.00000</td>\n",
       "      <td>0.000000</td>\n",
       "      <td>0.000000</td>\n",
       "      <td>0.000000</td>\n",
       "    </tr>\n",
       "    <tr>\n",
       "      <th>25%</th>\n",
       "      <td>11.000000</td>\n",
       "      <td>18.000000</td>\n",
       "      <td>2117.560000</td>\n",
       "      <td>93638.000000</td>\n",
       "      <td>1.00000</td>\n",
       "      <td>0.00000</td>\n",
       "      <td>0.000000</td>\n",
       "      <td>0.000000</td>\n",
       "      <td>0.000000</td>\n",
       "    </tr>\n",
       "    <tr>\n",
       "      <th>50%</th>\n",
       "      <td>22.000000</td>\n",
       "      <td>37.000000</td>\n",
       "      <td>7659.090000</td>\n",
       "      <td>140167.000000</td>\n",
       "      <td>1.00000</td>\n",
       "      <td>0.00000</td>\n",
       "      <td>1.000000</td>\n",
       "      <td>0.000000</td>\n",
       "      <td>0.000000</td>\n",
       "    </tr>\n",
       "    <tr>\n",
       "      <th>75%</th>\n",
       "      <td>33.000000</td>\n",
       "      <td>74.000000</td>\n",
       "      <td>20268.380000</td>\n",
       "      <td>202505.000000</td>\n",
       "      <td>1.00000</td>\n",
       "      <td>0.00000</td>\n",
       "      <td>1.000000</td>\n",
       "      <td>1.000000</td>\n",
       "      <td>0.000000</td>\n",
       "    </tr>\n",
       "    <tr>\n",
       "      <th>max</th>\n",
       "      <td>45.000000</td>\n",
       "      <td>99.000000</td>\n",
       "      <td>693099.360000</td>\n",
       "      <td>219622.000000</td>\n",
       "      <td>1.00000</td>\n",
       "      <td>1.00000</td>\n",
       "      <td>1.000000</td>\n",
       "      <td>1.000000</td>\n",
       "      <td>1.000000</td>\n",
       "    </tr>\n",
       "  </tbody>\n",
       "</table>\n",
       "</div>"
      ],
      "text/plain": [
       "               Store           Dept   Weekly_Sales           Size  \\\n",
       "count  420285.000000  420285.000000  420285.000000  420285.000000   \n",
       "mean       22.195477      44.242771   16030.329773  136749.569176   \n",
       "std        12.787213      30.507197   22728.500149   60992.688568   \n",
       "min         1.000000       1.000000       0.000000   34875.000000   \n",
       "25%        11.000000      18.000000    2117.560000   93638.000000   \n",
       "50%        22.000000      37.000000    7659.090000  140167.000000   \n",
       "75%        33.000000      74.000000   20268.380000  202505.000000   \n",
       "max        45.000000      99.000000  693099.360000  219622.000000   \n",
       "\n",
       "       IsHoliday_False  IsHoliday_True         Type_A         Type_B  \\\n",
       "count     420285.00000    420285.00000  420285.000000  420285.000000   \n",
       "mean           0.92966         0.07034       0.511541       0.387401   \n",
       "std            0.25572         0.25572       0.499867       0.487157   \n",
       "min            0.00000         0.00000       0.000000       0.000000   \n",
       "25%            1.00000         0.00000       0.000000       0.000000   \n",
       "50%            1.00000         0.00000       1.000000       0.000000   \n",
       "75%            1.00000         0.00000       1.000000       1.000000   \n",
       "max            1.00000         1.00000       1.000000       1.000000   \n",
       "\n",
       "              Type_C  \n",
       "count  420285.000000  \n",
       "mean        0.101058  \n",
       "std         0.301405  \n",
       "min         0.000000  \n",
       "25%         0.000000  \n",
       "50%         0.000000  \n",
       "75%         0.000000  \n",
       "max         1.000000  "
      ]
     },
     "execution_count": 17,
     "metadata": {},
     "output_type": "execute_result"
    }
   ],
   "source": [
    "#Remove negative Sales\n",
    "\n",
    "# Get names of indexes for which column Weekly_Sales < 0 (-ve Sales)\n",
    "indexNames = walmartdata[ walmartdata['Weekly_Sales'] < 0 ].index\n",
    " # Delete these row indexes from dataFrame\n",
    "walmartdata.drop(indexNames , inplace=True)\n",
    "walmartdata.describe() #Cehck min value for Weekly_sales if it is -ve"
   ]
  },
  {
   "cell_type": "code",
   "execution_count": 18,
   "metadata": {},
   "outputs": [
    {
     "data": {
      "text/plain": [
       "<matplotlib.axes._subplots.AxesSubplot at 0x1acc9429780>"
      ]
     },
     "execution_count": 18,
     "metadata": {},
     "output_type": "execute_result"
    },
    {
     "data": {
      "image/png": "[encoded data removed]",
      "text/plain": [
       "<Figure size 432x288 with 1 Axes>"
      ]
     },
     "metadata": {
      "needs_background": "light"
     },
     "output_type": "display_data"
    }
   ],
   "source": [
    "# Check Outliers for Weekly Sales\n",
    "walmartdata.Weekly_Sales.plot(kind='box')"
   ]
  },
  {
   "cell_type": "code",
   "execution_count": 19,
   "metadata": {},
   "outputs": [
    {
     "data": {
      "text/plain": [
       "<matplotlib.axes._subplots.AxesSubplot at 0x1acc9695780>"
      ]
     },
     "execution_count": 19,
     "metadata": {},
     "output_type": "execute_result"
    },
    {
     "data": {
      "image/png": "[encoded data removed]",
      "text/plain": [
       "<Figure size 432x288 with 1 Axes>"
      ]
     },
     "metadata": {
      "needs_background": "light"
     },
     "output_type": "display_data"
    }
   ],
   "source": [
    "# date vs sales to see the behaviour of Outliers\n",
    "WeeklySales = walmartdata[['Date','Weekly_Sales']].groupby('Date').sum()\n",
    "WeeklySales.plot()"
   ]
  },
  {
   "cell_type": "code",
   "execution_count": 20,
   "metadata": {},
   "outputs": [
    {
     "data": {
      "text/plain": [
       "<matplotlib.axes._subplots.AxesSubplot at 0x1acc9794cc0>"
      ]
     },
     "execution_count": 20,
     "metadata": {},
     "output_type": "execute_result"
    },
    {
     "data": {
      "image/png": "[encoded data removed]",
      "text/plain": [
       "<Figure size 432x288 with 1 Axes>"
      ]
     },
     "metadata": {
      "needs_background": "light"
     },
     "output_type": "display_data"
    }
   ],
   "source": [
    "# Check the outliers for other continuous variables\n",
    "walmartdata.Size.plot(kind='box')"
   ]
  },
  {
   "cell_type": "code",
   "execution_count": 21,
   "metadata": {},
   "outputs": [
    {
     "data": {
      "text/plain": [
       "Type_A  Type_B  Type_C\n",
       "0       0       1         4.055080e+08\n",
       "        1       0         2.000742e+09\n",
       "1       0       0         4.331057e+09\n",
       "Name: Weekly_Sales, dtype: float64"
      ]
     },
     "execution_count": 21,
     "metadata": {},
     "output_type": "execute_result"
    }
   ],
   "source": [
    "#walmartdata.plot.scatter(x='Type',y='Size',color ='c',title = 'scatter Plot : Type vs. Size')\n",
    "walmartdata.groupby(['Type_A','Type_B','Type_C'])['Weekly_Sales'].sum()"
   ]
  },
  {
   "cell_type": "code",
   "execution_count": 22,
   "metadata": {},
   "outputs": [],
   "source": [
    "#walmartdata['Year'] = pd.DatetimeIndex(walmartdata['Date']).year \n",
    "#walmartdata['Month'] = pd.DatetimeIndex(walmartdata['Date']).month \n",
    "#walmartdata['Day'] = pd.DatetimeIndex(walmartdata['Date']).day  "
   ]
  },
  {
   "cell_type": "code",
   "execution_count": 23,
   "metadata": {},
   "outputs": [
    {
     "data": {
      "text/html": [
       "<div>\n",
       "<style scoped>\n",
       "    .dataframe tbody tr th:only-of-type {\n",
       "        vertical-align: middle;\n",
       "    }\n",
       "\n",
       "    .dataframe tbody tr th {\n",
       "        vertical-align: top;\n",
       "    }\n",
       "\n",
       "    .dataframe thead th {\n",
       "        text-align: right;\n",
       "    }\n",
       "</style>\n",
       "<table border=\"1\" class=\"dataframe\">\n",
       "  <thead>\n",
       "    <tr style=\"text-align: right;\">\n",
       "      <th></th>\n",
       "      <th>Store</th>\n",
       "      <th>Dept</th>\n",
       "      <th>Date</th>\n",
       "      <th>Weekly_Sales</th>\n",
       "      <th>Size</th>\n",
       "      <th>IsHoliday_False</th>\n",
       "      <th>IsHoliday_True</th>\n",
       "      <th>Type_A</th>\n",
       "      <th>Type_B</th>\n",
       "      <th>Type_C</th>\n",
       "    </tr>\n",
       "  </thead>\n",
       "  <tbody>\n",
       "    <tr>\n",
       "      <th>0</th>\n",
       "      <td>1</td>\n",
       "      <td>1</td>\n",
       "      <td>2010-02-05</td>\n",
       "      <td>24924.50</td>\n",
       "      <td>151315</td>\n",
       "      <td>1</td>\n",
       "      <td>0</td>\n",
       "      <td>1</td>\n",
       "      <td>0</td>\n",
       "      <td>0</td>\n",
       "    </tr>\n",
       "    <tr>\n",
       "      <th>1</th>\n",
       "      <td>1</td>\n",
       "      <td>1</td>\n",
       "      <td>2010-02-12</td>\n",
       "      <td>46039.49</td>\n",
       "      <td>151315</td>\n",
       "      <td>0</td>\n",
       "      <td>1</td>\n",
       "      <td>1</td>\n",
       "      <td>0</td>\n",
       "      <td>0</td>\n",
       "    </tr>\n",
       "    <tr>\n",
       "      <th>2</th>\n",
       "      <td>1</td>\n",
       "      <td>1</td>\n",
       "      <td>2010-02-19</td>\n",
       "      <td>41595.55</td>\n",
       "      <td>151315</td>\n",
       "      <td>1</td>\n",
       "      <td>0</td>\n",
       "      <td>1</td>\n",
       "      <td>0</td>\n",
       "      <td>0</td>\n",
       "    </tr>\n",
       "    <tr>\n",
       "      <th>3</th>\n",
       "      <td>1</td>\n",
       "      <td>1</td>\n",
       "      <td>2010-02-26</td>\n",
       "      <td>19403.54</td>\n",
       "      <td>151315</td>\n",
       "      <td>1</td>\n",
       "      <td>0</td>\n",
       "      <td>1</td>\n",
       "      <td>0</td>\n",
       "      <td>0</td>\n",
       "    </tr>\n",
       "    <tr>\n",
       "      <th>4</th>\n",
       "      <td>1</td>\n",
       "      <td>1</td>\n",
       "      <td>2010-03-05</td>\n",
       "      <td>21827.90</td>\n",
       "      <td>151315</td>\n",
       "      <td>1</td>\n",
       "      <td>0</td>\n",
       "      <td>1</td>\n",
       "      <td>0</td>\n",
       "      <td>0</td>\n",
       "    </tr>\n",
       "  </tbody>\n",
       "</table>\n",
       "</div>"
      ],
      "text/plain": [
       "   Store  Dept       Date  Weekly_Sales    Size  IsHoliday_False  \\\n",
       "0      1     1 2010-02-05      24924.50  151315                1   \n",
       "1      1     1 2010-02-12      46039.49  151315                0   \n",
       "2      1     1 2010-02-19      41595.55  151315                1   \n",
       "3      1     1 2010-02-26      19403.54  151315                1   \n",
       "4      1     1 2010-03-05      21827.90  151315                1   \n",
       "\n",
       "   IsHoliday_True  Type_A  Type_B  Type_C  \n",
       "0               0       1       0       0  \n",
       "1               1       1       0       0  \n",
       "2               0       1       0       0  \n",
       "3               0       1       0       0  \n",
       "4               0       1       0       0  "
      ]
     },
     "execution_count": 23,
     "metadata": {},
     "output_type": "execute_result"
    }
   ],
   "source": [
    "#walmartdata.plot.scatter(x='Type_A',y='Weekly_Sales',color ='c',title = 'Scatter Plot : Sales vs. Type')\n",
    "#Verify if date has been set as index\n",
    "walmartdata.head()"
   ]
  },
  {
   "cell_type": "code",
   "execution_count": 24,
   "metadata": {},
   "outputs": [
    {
     "data": {
      "text/plain": [
       "<matplotlib.axes._subplots.AxesSubplot at 0x1acc9801128>"
      ]
     },
     "execution_count": 24,
     "metadata": {},
     "output_type": "execute_result"
    },
    {
     "data": {
      "image/png": "[encoded data removed]",
      "text/plain": [
       "<Figure size 1080x360 with 1 Axes>"
      ]
     },
     "metadata": {
      "needs_background": "light"
     },
     "output_type": "display_data"
    }
   ],
   "source": [
    "#pd.crosstab(walmartdata.Store,walmartdata.Size)\n",
    "walmartdata.plot.scatter(x='Size',y='Weekly_Sales',color ='c',title = 'Scatter Plot : Sales vs. Size',figsize = (15,5))"
   ]
  },
  {
   "cell_type": "code",
   "execution_count": 25,
   "metadata": {},
   "outputs": [
    {
     "data": {
      "text/plain": [
       "<matplotlib.axes._subplots.AxesSubplot at 0x1acc9871ba8>"
      ]
     },
     "execution_count": 25,
     "metadata": {},
     "output_type": "execute_result"
    },
    {
     "data": {
      "image/png": "[encoded data removed]",
      "text/plain": [
       "<Figure size 1080x360 with 1 Axes>"
      ]
     },
     "metadata": {
      "needs_background": "light"
     },
     "output_type": "display_data"
    }
   ],
   "source": [
    "walmartdata.plot.scatter(x='Store',y='Weekly_Sales',color ='c',title = 'Scatter Plot : Sales vs. Store',figsize = (15,5))"
   ]
  },
  {
   "cell_type": "code",
   "execution_count": 26,
   "metadata": {},
   "outputs": [
    {
     "data": {
      "text/plain": [
       "<matplotlib.axes._subplots.AxesSubplot at 0x1acc98cc748>"
      ]
     },
     "execution_count": 26,
     "metadata": {},
     "output_type": "execute_result"
    },
    {
     "data": {
      "image/png": "[encoded data removed]",
      "text/plain": [
       "<Figure size 1080x360 with 1 Axes>"
      ]
     },
     "metadata": {
      "needs_background": "light"
     },
     "output_type": "display_data"
    }
   ],
   "source": [
    "walmartdata.plot.scatter(x='Dept',y='Weekly_Sales',color ='c',title = 'scatter Plot : Sales vs. Dept',figsize = (15,5))"
   ]
  },
  {
   "cell_type": "code",
   "execution_count": 27,
   "metadata": {},
   "outputs": [],
   "source": [
    "originaldata = walmartdata"
   ]
  },
  {
   "cell_type": "code",
   "execution_count": 28,
   "metadata": {},
   "outputs": [],
   "source": [
    "#walmartdata.plot.scatter(x='IsHoliday',y='Weekly_Sales',color ='c',title = 'Scatter Plot : Sales vs. IsHoliday')"
   ]
  },
  {
   "cell_type": "code",
   "execution_count": 29,
   "metadata": {},
   "outputs": [],
   "source": [
    "#coint_johansen(walmartdata,-1,1).eig"
   ]
  },
  {
   "cell_type": "code",
   "execution_count": 30,
   "metadata": {},
   "outputs": [],
   "source": [
    "#Splitting the model as Train and Test split\n",
    "#y=walmartdata.Weekly_Sales\n",
    "#X_train, X_test, y_train, y_test = train_test_split(walmartdata, y, test_size=0.2)"
   ]
  },
  {
   "cell_type": "code",
   "execution_count": 31,
   "metadata": {},
   "outputs": [],
   "source": [
    "def make_subset(df,store, dept):\n",
    "    final_subset = df[df['Store']==store ]\n",
    "    final_subset = final_subset[final_subset['Dept']==dept]\n",
    "    return final_subset"
   ]
  },
  {
   "cell_type": "code",
   "execution_count": 32,
   "metadata": {},
   "outputs": [
    {
     "name": "stdout",
     "output_type": "stream",
     "text": [
      "[1]\n",
      "[1]\n"
     ]
    }
   ],
   "source": [
    "data = make_subset(walmartdata,1,1)\n",
    "print(data['Store'].unique())\n",
    "print(data['Dept'].unique())"
   ]
  },
  {
   "cell_type": "code",
   "execution_count": 33,
   "metadata": {},
   "outputs": [
    {
     "data": {
      "text/plain": [
       "<matplotlib.axes._subplots.AxesSubplot at 0x1acc99364e0>"
      ]
     },
     "execution_count": 33,
     "metadata": {},
     "output_type": "execute_result"
    },
    {
     "data": {
      "image/png": "[encoded data removed]",
      "text/plain": [
       "<Figure size 432x288 with 1 Axes>"
      ]
     },
     "metadata": {
      "needs_background": "light"
     },
     "output_type": "display_data"
    }
   ],
   "source": [
    "StoreSales = data[['Date','Weekly_Sales']].groupby('Date').sum()\n",
    "StoreSales.plot()"
   ]
  },
  {
   "cell_type": "code",
   "execution_count": 34,
   "metadata": {},
   "outputs": [],
   "source": [
    "data = data.set_index('Date')"
   ]
  },
  {
   "cell_type": "code",
   "execution_count": 35,
   "metadata": {},
   "outputs": [],
   "source": [
    "#Split the data into Train and Test by sorting it using dates\n",
    "walmartdata = data\n",
    "#n = walmartdata.shape[0]\n",
    "#train_size = 0.8\n",
    "\n",
    "walmartdata = walmartdata.sort_values('Date')\n",
    "#train_dataframe = walmartdata.iloc[:int(n * train_size)]\n",
    "#test_dataframe = walmartdata.iloc[int(n * train_size):]\n",
    "train_dataframe = walmartdata.loc[:'2012-02-29']\n",
    "test_dataframe =  walmartdata.loc['2012-03-01':]"
   ]
  },
  {
   "cell_type": "code",
   "execution_count": 36,
   "metadata": {},
   "outputs": [
    {
     "name": "stdout",
     "output_type": "stream",
     "text": [
      "143\n",
      "108\n",
      "35\n"
     ]
    }
   ],
   "source": [
    "print(len(walmartdata))\n",
    "print(len(train_dataframe))\n",
    "print(len(test_dataframe))"
   ]
  },
  {
   "cell_type": "code",
   "execution_count": 37,
   "metadata": {},
   "outputs": [
    {
     "name": "stdout",
     "output_type": "stream",
     "text": [
      "            Store  Dept  Weekly_Sales    Size  IsHoliday_False  \\\n",
      "Date                                                             \n",
      "2012-03-02      1     1      20113.03  151315                1   \n",
      "2012-03-09      1     1      21140.07  151315                1   \n",
      "2012-03-16      1     1      22366.88  151315                1   \n",
      "2012-03-23      1     1      22107.70  151315                1   \n",
      "2012-03-30      1     1      28952.86  151315                1   \n",
      "2012-04-06      1     1      57592.12  151315                1   \n",
      "2012-04-13      1     1      34684.21  151315                1   \n",
      "2012-04-20      1     1      16976.19  151315                1   \n",
      "2012-04-27      1     1      16347.60  151315                1   \n",
      "2012-05-04      1     1      17147.44  151315                1   \n",
      "2012-05-11      1     1      18164.20  151315                1   \n",
      "2012-05-18      1     1      18517.79  151315                1   \n",
      "2012-05-25      1     1      16963.55  151315                1   \n",
      "2012-06-01      1     1      16065.49  151315                1   \n",
      "2012-06-08      1     1      17666.00  151315                1   \n",
      "2012-06-15      1     1      17558.82  151315                1   \n",
      "2012-06-22      1     1      16633.41  151315                1   \n",
      "2012-06-29      1     1      15722.82  151315                1   \n",
      "2012-07-06      1     1      17823.37  151315                1   \n",
      "2012-07-13      1     1      16566.18  151315                1   \n",
      "2012-07-20      1     1      16348.06  151315                1   \n",
      "2012-07-27      1     1      15731.18  151315                1   \n",
      "2012-08-03      1     1      16628.31  151315                1   \n",
      "2012-08-10      1     1      16119.92  151315                1   \n",
      "2012-08-17      1     1      17330.70  151315                1   \n",
      "2012-08-24      1     1      16286.40  151315                1   \n",
      "2012-08-31      1     1      16680.24  151315                1   \n",
      "2012-09-07      1     1      18322.37  151315                0   \n",
      "2012-09-14      1     1      19616.22  151315                1   \n",
      "2012-09-21      1     1      19251.50  151315                1   \n",
      "2012-09-28      1     1      18947.81  151315                1   \n",
      "2012-10-05      1     1      21904.47  151315                1   \n",
      "2012-10-12      1     1      22764.01  151315                1   \n",
      "2012-10-19      1     1      24185.27  151315                1   \n",
      "2012-10-26      1     1      27390.81  151315                1   \n",
      "\n",
      "            IsHoliday_True  Type_A  Type_B  Type_C  \n",
      "Date                                                \n",
      "2012-03-02               0       1       0       0  \n",
      "2012-03-09               0       1       0       0  \n",
      "2012-03-16               0       1       0       0  \n",
      "2012-03-23               0       1       0       0  \n",
      "2012-03-30               0       1       0       0  \n",
      "2012-04-06               0       1       0       0  \n",
      "2012-04-13               0       1       0       0  \n",
      "2012-04-20               0       1       0       0  \n",
      "2012-04-27               0       1       0       0  \n",
      "2012-05-04               0       1       0       0  \n",
      "2012-05-11               0       1       0       0  \n",
      "2012-05-18               0       1       0       0  \n",
      "2012-05-25               0       1       0       0  \n",
      "2012-06-01               0       1       0       0  \n",
      "2012-06-08               0       1       0       0  \n",
      "2012-06-15               0       1       0       0  \n",
      "2012-06-22               0       1       0       0  \n",
      "2012-06-29               0       1       0       0  \n",
      "2012-07-06               0       1       0       0  \n",
      "2012-07-13               0       1       0       0  \n",
      "2012-07-20               0       1       0       0  \n",
      "2012-07-27               0       1       0       0  \n",
      "2012-08-03               0       1       0       0  \n",
      "2012-08-10               0       1       0       0  \n",
      "2012-08-17               0       1       0       0  \n",
      "2012-08-24               0       1       0       0  \n",
      "2012-08-31               0       1       0       0  \n",
      "2012-09-07               1       1       0       0  \n",
      "2012-09-14               0       1       0       0  \n",
      "2012-09-21               0       1       0       0  \n",
      "2012-09-28               0       1       0       0  \n",
      "2012-10-05               0       1       0       0  \n",
      "2012-10-12               0       1       0       0  \n",
      "2012-10-19               0       1       0       0  \n",
      "2012-10-26               0       1       0       0  \n"
     ]
    }
   ],
   "source": [
    "print(test_dataframe)"
   ]
  },
  {
   "cell_type": "code",
   "execution_count": 53,
   "metadata": {},
   "outputs": [],
   "source": [
    "endog_train=train_dataframe[['Weekly_Sales']]\n",
    "exog_train=train_dataframe[['Size','IsHoliday_False','IsHoliday_True']]"
   ]
  },
  {
   "cell_type": "code",
   "execution_count": 74,
   "metadata": {},
   "outputs": [
    {
     "name": "stdout",
     "output_type": "stream",
     "text": [
      "[[2.492450e+04 1.513150e+05 1.000000e+00 0.000000e+00]\n",
      " [4.603949e+04 1.513150e+05 0.000000e+00 1.000000e+00]\n",
      " [4.159555e+04 1.513150e+05 1.000000e+00 0.000000e+00]\n",
      " [1.940354e+04 1.513150e+05 1.000000e+00 0.000000e+00]\n",
      " [2.182790e+04 1.513150e+05 1.000000e+00 0.000000e+00]\n",
      " [2.104339e+04 1.513150e+05 1.000000e+00 0.000000e+00]\n",
      " [2.213664e+04 1.513150e+05 1.000000e+00 0.000000e+00]\n",
      " [2.622921e+04 1.513150e+05 1.000000e+00 0.000000e+00]\n",
      " [5.725843e+04 1.513150e+05 1.000000e+00 0.000000e+00]\n",
      " [4.296091e+04 1.513150e+05 1.000000e+00 0.000000e+00]\n",
      " [1.759696e+04 1.513150e+05 1.000000e+00 0.000000e+00]\n",
      " [1.614535e+04 1.513150e+05 1.000000e+00 0.000000e+00]\n",
      " [1.655511e+04 1.513150e+05 1.000000e+00 0.000000e+00]\n",
      " [1.741394e+04 1.513150e+05 1.000000e+00 0.000000e+00]\n",
      " [1.892674e+04 1.513150e+05 1.000000e+00 0.000000e+00]\n",
      " [1.477304e+04 1.513150e+05 1.000000e+00 0.000000e+00]\n",
      " [1.558043e+04 1.513150e+05 1.000000e+00 0.000000e+00]\n",
      " [1.755809e+04 1.513150e+05 1.000000e+00 0.000000e+00]\n",
      " [1.663762e+04 1.513150e+05 1.000000e+00 0.000000e+00]\n",
      " [1.621627e+04 1.513150e+05 1.000000e+00 0.000000e+00]\n",
      " [1.632872e+04 1.513150e+05 1.000000e+00 0.000000e+00]\n",
      " [1.633314e+04 1.513150e+05 1.000000e+00 0.000000e+00]\n",
      " [1.768876e+04 1.513150e+05 1.000000e+00 0.000000e+00]\n",
      " [1.715084e+04 1.513150e+05 1.000000e+00 0.000000e+00]\n",
      " [1.536045e+04 1.513150e+05 1.000000e+00 0.000000e+00]\n",
      " [1.538182e+04 1.513150e+05 1.000000e+00 0.000000e+00]\n",
      " [1.750841e+04 1.513150e+05 1.000000e+00 0.000000e+00]\n",
      " [1.553640e+04 1.513150e+05 1.000000e+00 0.000000e+00]\n",
      " [1.574013e+04 1.513150e+05 1.000000e+00 0.000000e+00]\n",
      " [1.579387e+04 1.513150e+05 1.000000e+00 0.000000e+00]\n",
      " [1.624178e+04 1.513150e+05 1.000000e+00 0.000000e+00]\n",
      " [1.819474e+04 1.513150e+05 0.000000e+00 1.000000e+00]\n",
      " [1.935423e+04 1.513150e+05 1.000000e+00 0.000000e+00]\n",
      " [1.812252e+04 1.513150e+05 1.000000e+00 0.000000e+00]\n",
      " [2.009419e+04 1.513150e+05 1.000000e+00 0.000000e+00]\n",
      " [2.338803e+04 1.513150e+05 1.000000e+00 0.000000e+00]\n",
      " [2.697834e+04 1.513150e+05 1.000000e+00 0.000000e+00]\n",
      " [2.554304e+04 1.513150e+05 1.000000e+00 0.000000e+00]\n",
      " [3.864093e+04 1.513150e+05 1.000000e+00 0.000000e+00]\n",
      " [3.423888e+04 1.513150e+05 1.000000e+00 0.000000e+00]\n",
      " [1.954939e+04 1.513150e+05 1.000000e+00 0.000000e+00]\n",
      " [1.955284e+04 1.513150e+05 1.000000e+00 0.000000e+00]\n",
      " [1.882029e+04 1.513150e+05 0.000000e+00 1.000000e+00]\n",
      " [2.251756e+04 1.513150e+05 1.000000e+00 0.000000e+00]\n",
      " [3.149765e+04 1.513150e+05 1.000000e+00 0.000000e+00]\n",
      " [4.491286e+04 1.513150e+05 1.000000e+00 0.000000e+00]\n",
      " [5.593123e+04 1.513150e+05 1.000000e+00 0.000000e+00]\n",
      " [1.912458e+04 1.513150e+05 0.000000e+00 1.000000e+00]\n",
      " [1.598424e+04 1.513150e+05 1.000000e+00 0.000000e+00]\n",
      " [1.735970e+04 1.513150e+05 1.000000e+00 0.000000e+00]\n",
      " [1.734147e+04 1.513150e+05 1.000000e+00 0.000000e+00]\n",
      " [1.846118e+04 1.513150e+05 1.000000e+00 0.000000e+00]\n",
      " [2.166576e+04 1.513150e+05 1.000000e+00 0.000000e+00]\n",
      " [3.788717e+04 1.513150e+05 0.000000e+00 1.000000e+00]\n",
      " [4.684587e+04 1.513150e+05 1.000000e+00 0.000000e+00]\n",
      " [1.936383e+04 1.513150e+05 1.000000e+00 0.000000e+00]\n",
      " [2.032761e+04 1.513150e+05 1.000000e+00 0.000000e+00]\n",
      " [2.128040e+04 1.513150e+05 1.000000e+00 0.000000e+00]\n",
      " [2.033423e+04 1.513150e+05 1.000000e+00 0.000000e+00]\n",
      " [2.088110e+04 1.513150e+05 1.000000e+00 0.000000e+00]\n",
      " [2.039809e+04 1.513150e+05 1.000000e+00 0.000000e+00]\n",
      " [2.387379e+04 1.513150e+05 1.000000e+00 0.000000e+00]\n",
      " [2.876237e+04 1.513150e+05 1.000000e+00 0.000000e+00]\n",
      " [5.051031e+04 1.513150e+05 1.000000e+00 0.000000e+00]\n",
      " [4.151239e+04 1.513150e+05 1.000000e+00 0.000000e+00]\n",
      " [2.013819e+04 1.513150e+05 1.000000e+00 0.000000e+00]\n",
      " [1.723515e+04 1.513150e+05 1.000000e+00 0.000000e+00]\n",
      " [1.513678e+04 1.513150e+05 1.000000e+00 0.000000e+00]\n",
      " [1.574160e+04 1.513150e+05 1.000000e+00 0.000000e+00]\n",
      " [1.643415e+04 1.513150e+05 1.000000e+00 0.000000e+00]\n",
      " [1.588352e+04 1.513150e+05 1.000000e+00 0.000000e+00]\n",
      " [1.497809e+04 1.513150e+05 1.000000e+00 0.000000e+00]\n",
      " [1.568281e+04 1.513150e+05 1.000000e+00 0.000000e+00]\n",
      " [1.536350e+04 1.513150e+05 1.000000e+00 0.000000e+00]\n",
      " [1.614887e+04 1.513150e+05 1.000000e+00 0.000000e+00]\n",
      " [1.565485e+04 1.513150e+05 1.000000e+00 0.000000e+00]\n",
      " [1.576660e+04 1.513150e+05 1.000000e+00 0.000000e+00]\n",
      " [1.592241e+04 1.513150e+05 1.000000e+00 0.000000e+00]\n",
      " [1.529555e+04 1.513150e+05 1.000000e+00 0.000000e+00]\n",
      " [1.453979e+04 1.513150e+05 1.000000e+00 0.000000e+00]\n",
      " [1.468924e+04 1.513150e+05 1.000000e+00 0.000000e+00]\n",
      " [1.453737e+04 1.513150e+05 1.000000e+00 0.000000e+00]\n",
      " [1.527727e+04 1.513150e+05 1.000000e+00 0.000000e+00]\n",
      " [1.774668e+04 1.513150e+05 0.000000e+00 1.000000e+00]\n",
      " [1.853548e+04 1.513150e+05 1.000000e+00 0.000000e+00]\n",
      " [1.785930e+04 1.513150e+05 1.000000e+00 0.000000e+00]\n",
      " [1.833768e+04 1.513150e+05 1.000000e+00 0.000000e+00]\n",
      " [2.079758e+04 1.513150e+05 1.000000e+00 0.000000e+00]\n",
      " [2.307755e+04 1.513150e+05 1.000000e+00 0.000000e+00]\n",
      " [2.335180e+04 1.513150e+05 1.000000e+00 0.000000e+00]\n",
      " [3.157990e+04 1.513150e+05 1.000000e+00 0.000000e+00]\n",
      " [3.988606e+04 1.513150e+05 1.000000e+00 0.000000e+00]\n",
      " [1.868954e+04 1.513150e+05 1.000000e+00 0.000000e+00]\n",
      " [1.905066e+04 1.513150e+05 1.000000e+00 0.000000e+00]\n",
      " [2.091125e+04 1.513150e+05 0.000000e+00 1.000000e+00]\n",
      " [2.529349e+04 1.513150e+05 1.000000e+00 0.000000e+00]\n",
      " [3.330592e+04 1.513150e+05 1.000000e+00 0.000000e+00]\n",
      " [4.577303e+04 1.513150e+05 1.000000e+00 0.000000e+00]\n",
      " [4.678875e+04 1.513150e+05 1.000000e+00 0.000000e+00]\n",
      " [2.335088e+04 1.513150e+05 0.000000e+00 1.000000e+00]\n",
      " [1.656769e+04 1.513150e+05 1.000000e+00 0.000000e+00]\n",
      " [1.689440e+04 1.513150e+05 1.000000e+00 0.000000e+00]\n",
      " [1.836510e+04 1.513150e+05 1.000000e+00 0.000000e+00]\n",
      " [1.837816e+04 1.513150e+05 1.000000e+00 0.000000e+00]\n",
      " [2.351049e+04 1.513150e+05 1.000000e+00 0.000000e+00]\n",
      " [3.698849e+04 1.513150e+05 0.000000e+00 1.000000e+00]\n",
      " [5.406010e+04 1.513150e+05 1.000000e+00 0.000000e+00]\n",
      " [2.012422e+04 1.513150e+05 1.000000e+00 0.000000e+00]]\n"
     ]
    }
   ],
   "source": [
    "len(endog_train)\n",
    "#exogarr=exog_train.to_xarray\n",
    "type(exogarr)\n",
    "exogarr =np.array(exog_train)\n",
    "print(exogarr)"
   ]
  },
  {
   "cell_type": "code",
   "execution_count": 95,
   "metadata": {},
   "outputs": [
    {
     "name": "stderr",
     "output_type": "stream",
     "text": [
      "C:\\Users\\shweta11714\\AppData\\Local\\Continuum\\anaconda3\\lib\\site-packages\\statsmodels\\tsa\\base\\tsa_model.py:171: ValueWarning: No frequency information was provided, so inferred frequency W-FRI will be used.\n",
      "  % freq, ValueWarning)\n",
      "C:\\Users\\shweta11714\\AppData\\Local\\Continuum\\anaconda3\\lib\\site-packages\\statsmodels\\tsa\\statespace\\representation.py:375: FutureWarning: Using a non-tuple sequence for multidimensional indexing is deprecated; use `arr[tuple(seq)]` instead of `arr[seq]`. In the future this will be interpreted as an array index, `arr[np.array(seq)]`, which will result either in an error or a different result.\n",
      "  return matrix[[slice(None)]*(matrix.ndim-1) + [0]]\n"
     ]
    }
   ],
   "source": [
    "#model = sm.tsa.statespace.SARIMAX(train_dataframe)\n",
    "# fit model\n",
    "model = sm.tsa.statespace.SARIMAX(endog_train,order = (1,1,1), seasonal_order = (0,0,0,52), enforce_invertibility=False).fit()\n",
    "#model_fit = model.fit()\n",
    "# one step forecast\n",
    "prediction = model.predict(start=109, end=143)"
   ]
  },
  {
   "cell_type": "code",
   "execution_count": null,
   "metadata": {},
   "outputs": [],
   "source": [
    " #Perform Dickey-Fuller test: To check stationarity\n",
    "    #print ('Results of Dickey-Fuller Test:')\n",
    "    #dftest = adfuller(train_dataframe, autolag='AIC')\n",
    "   # dfoutput = pd.Series(dftest[0:4], index=['Test Statistic','p-value','#Lags Used','Number of Observations Used'])\n",
    "  #  for key,value in dftest[4].items():\n",
    "     #   dfoutput['Critical Value (%s)'%key] = value\n",
    "   # print (dfoutput)"
   ]
  },
  {
   "cell_type": "code",
   "execution_count": null,
   "metadata": {},
   "outputs": [],
   "source": [
    "#coint_johansen(train_dataframe,-1,1).eig"
   ]
  },
  {
   "cell_type": "code",
   "execution_count": 96,
   "metadata": {
    "scrolled": true
   },
   "outputs": [
    {
     "name": "stdout",
     "output_type": "stream",
     "text": [
      "2012-03-09    13941.925152\n",
      "2012-03-16    13941.925152\n",
      "2012-03-23    13941.925152\n",
      "2012-03-30    13941.925152\n",
      "2012-04-06    13941.925152\n",
      "2012-04-13    13941.925152\n",
      "2012-04-20    13941.925152\n",
      "2012-04-27    13941.925152\n",
      "2012-05-04    13941.925152\n",
      "2012-05-11    13941.925152\n",
      "2012-05-18    13941.925152\n",
      "2012-05-25    13941.925152\n",
      "2012-06-01    13941.925152\n",
      "2012-06-08    13941.925152\n",
      "2012-06-15    13941.925152\n",
      "2012-06-22    13941.925152\n",
      "2012-06-29    13941.925152\n",
      "2012-07-06    13941.925152\n",
      "2012-07-13    13941.925152\n",
      "2012-07-20    13941.925152\n",
      "2012-07-27    13941.925152\n",
      "2012-08-03    13941.925152\n",
      "2012-08-10    13941.925152\n",
      "2012-08-17    13941.925152\n",
      "2012-08-24    13941.925152\n",
      "2012-08-31    13941.925152\n",
      "2012-09-07    13941.925152\n",
      "2012-09-14    13941.925152\n",
      "2012-09-21    13941.925152\n",
      "2012-09-28    13941.925152\n",
      "2012-10-05    13941.925152\n",
      "2012-10-12    13941.925152\n",
      "2012-10-19    13941.925152\n",
      "2012-10-26    13941.925152\n",
      "2012-11-02    13941.925152\n",
      "Freq: W-FRI, dtype: float64\n"
     ]
    }
   ],
   "source": [
    "#model = VAR(endog=train_dataframe)\n",
    "#model_fit = model.fit()\n",
    "# make prediction on validation\n",
    "#prediction = model_fit.forecast(model_fit.y, steps=len(test_dataframe))\n",
    "print(prediction)\n"
   ]
  },
  {
   "cell_type": "code",
   "execution_count": null,
   "metadata": {},
   "outputs": [],
   "source": [
    "#converting predictions to dataframe\n",
    "#cols = walmartdata.columns\n",
    "#pred = pd.DataFrame(index=range(0,len(prediction)),columns=[cols])\n",
    "#for j in range(0,8):\n",
    "    #for i in range(0, len(prediction)):\n",
    "       #pred.iloc[i][j] = prediction[i][j]"
   ]
  },
  {
   "cell_type": "code",
   "execution_count": null,
   "metadata": {},
   "outputs": [],
   "source": [
    "#pred.info()\n",
    "#predict = pred.drop('Type_C', axis=1)\n",
    "#predict.head()"
   ]
  },
  {
   "cell_type": "code",
   "execution_count": null,
   "metadata": {},
   "outputs": [],
   "source": [
    "#Type_C from test data\n",
    "#validation = test_dataframe.drop('Type_C', axis=1)\n",
    "#validation.head()"
   ]
  },
  {
   "cell_type": "code",
   "execution_count": null,
   "metadata": {},
   "outputs": [],
   "source": [
    "print('VAR model RMSE:{} %.4f' % np.sqrt(mean_squared_error(predict,validation)))"
   ]
  },
  {
   "cell_type": "code",
   "execution_count": null,
   "metadata": {},
   "outputs": [],
   "source": [
    "#check rmse\n",
    "Finalcols = validation.columns\n",
    "for i in Finalcols:\n",
    "    print('rmse value for', i, 'is : ', math.sqrt(mean_squared_error(predict[i], validation[i])))"
   ]
  },
  {
   "cell_type": "code",
   "execution_count": null,
   "metadata": {},
   "outputs": [],
   "source": [
    "predict.head()"
   ]
  },
  {
   "cell_type": "code",
   "execution_count": null,
   "metadata": {},
   "outputs": [],
   "source": [
    "validation.reset_index(inplace = True)\n",
    "validation.head()"
   ]
  },
  {
   "cell_type": "code",
   "execution_count": null,
   "metadata": {},
   "outputs": [],
   "source": [
    "fig, axs = plt.subplots(ncols=1)\n",
    "plt.plot(predict['Weekly_Sales'], color='blue')\n",
    "#Validatedsales = validation[['Date','Weekly_Sales']].groupby('Date').sum()\n",
    "#Validatedsales.plot()\n",
    "\n",
    "Predictedsales = validation[['Date','Weekly_Sales']].groupby('Date').sum()\n",
    "Predictedsales.plot()\n",
    "plt.show()"
   ]
  },
  {
   "cell_type": "code",
   "execution_count": null,
   "metadata": {},
   "outputs": [],
   "source": [
    "walmartdata.head()\n",
    "index1 = [i for i in range(len(predict))]\n",
    "\n",
    "walmartdata.head()"
   ]
  },
  {
   "cell_type": "code",
   "execution_count": null,
   "metadata": {},
   "outputs": [],
   "source": [
    "test_dataframe.reset_index(inplace = True)\n",
    "test_dataframe.head()"
   ]
  },
  {
   "cell_type": "code",
   "execution_count": null,
   "metadata": {},
   "outputs": [],
   "source": [
    "predict.reset_index(inplace = True)\n",
    "predict.head()"
   ]
  },
  {
   "cell_type": "code",
   "execution_count": null,
   "metadata": {},
   "outputs": [],
   "source": [
    "\n",
    "predict.info()"
   ]
  },
  {
   "cell_type": "code",
   "execution_count": null,
   "metadata": {},
   "outputs": [],
   "source": [
    "fig = plt.figure (figsize = (8,7))\n",
    "#plt.plot(test_dataframe['Date'],test_dataframe['Weekly_Sales'] , 'r') # plotting t, a separately \n",
    "plt.plot(predict[['index']], predict[['Weekly_Sales']], 'b') # plotting t, b separately \n",
    "#plt.plot(t, c, 'g') # plotting t, c separately \n",
    "plt.show()"
   ]
  },
  {
   "cell_type": "code",
   "execution_count": null,
   "metadata": {},
   "outputs": [],
   "source": [
    "predict.info()"
   ]
  },
  {
   "cell_type": "code",
   "execution_count": null,
   "metadata": {},
   "outputs": [],
   "source": [
    "fig, axs = plt.subplots(ncols=2)\n",
    "sns.regplot(x='value', y='wage', data=df_melt, ax=axs[0])\n",
    "sns.regplot(x='value', y='wage', data=df_melt, ax=axs[1])\n",
    "sns.boxplot(x='education',y='wage', data=df_melt, ax=axs[2])"
   ]
  }
 ],
 "metadata": {
  "kernelspec": {
   "display_name": "Python 3",
   "language": "python",
   "name": "python3"
  },
  "language_info": {
   "codemirror_mode": {
    "name": "ipython",
    "version": 3
   },
   "file_extension": ".py",
   "mimetype": "text/x-python",
   "name": "python",
   "nbconvert_exporter": "python",
   "pygments_lexer": "ipython3",
   "version": "3.7.1"
  }
 },
 "nbformat": 4,
 "nbformat_minor": 2
}
