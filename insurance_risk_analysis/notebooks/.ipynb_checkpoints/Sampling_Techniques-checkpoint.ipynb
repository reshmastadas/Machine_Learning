{
 "cells": [
  {
   "cell_type": "code",
   "execution_count": 9,
   "metadata": {},
   "outputs": [],
   "source": [
    "#Import Generic Modules\n",
    "import numpy as np\n",
    "import pandas as pd\n",
    "import matplotlib.pyplot as plt\n",
    "import seaborn as sns\n",
    "\n",
    "# For some Statistics\n",
    "from scipy import stats\n",
    "from scipy.stats import norm, skew\n",
    "from sklearn.preprocessing import Imputer\n",
    "\n",
    "# Standardizing numerical fefrom sklearn.metrics import classification_reportatures\n",
    "from sklearn.preprocessing import StandardScaler\n",
    "\n",
    "# Encoding categorical features\n",
    "from sklearn.preprocessing import LabelEncoder\n",
    "\n",
    "from sklearn.model_selection import train_test_split\n",
    "from imblearn.over_sampling import SMOTE\n",
    "\n",
    "from sklearn import svm, datasets\n",
    "from sklearn.ensemble import RandomForestClassifier\n",
    "from sklearn.tree import DecisionTreeClassifier\n",
    "\n",
    "from sklearn.metrics import classification_report\n",
    "# Label encoding for Agency type, distribution channel, claim, Gender \n",
    "from sklearn import preprocessing \n",
    "  \n",
    "# label_encoder object knows how to understand word labels. \n",
    "label_encoder = preprocessing.LabelEncoder() \n",
    "\n",
    "from sklearn.metrics import accuracy_score\n",
    "from sklearn.metrics import precision_score, recall_score\n",
    "from sklearn.metrics import f1_score, roc_auc_score, roc_curve\n",
    "\n",
    "\n",
    "import os"
   ]
  },
  {
   "cell_type": "code",
   "execution_count": 10,
   "metadata": {},
   "outputs": [],
   "source": [
    "# Creating path variable to read data\n",
    "raw_data_path = os.path.abspath(os.path.join(os.path.join(os.path.join(os.path.join(os.getcwd(),os.path.pardir),'data'),'raw'),'train.csv'))\n",
    "root_path = os.path.abspath(os.path.join(os.path.join(os.getcwd(),os.path.pardir),os.path.pardir))\n",
    "# Creating path variable to read data\n",
    "raw_data_path_test = os.path.abspath(os.path.join(os.path.join(os.path.join(os.path.join(os.getcwd(),os.path.pardir),'data'),'raw'),'test.csv'))"
   ]
  },
  {
   "cell_type": "code",
   "execution_count": 11,
   "metadata": {},
   "outputs": [],
   "source": [
    "df = pd.read_csv(raw_data_path)\n",
    "df['Gender'] = df['Gender'].fillna(method='backfill')\n",
    "df['Gender'] = df['Gender'].fillna(df['Gender'].mode()[0])"
   ]
  },
  {
   "cell_type": "code",
   "execution_count": 12,
   "metadata": {},
   "outputs": [],
   "source": [
    "df_test = pd.read_csv(raw_data_path_test)\n",
    "df_test['Gender'] = df_test['Gender'].fillna(method='backfill')\n",
    "df_test['Gender'] = df_test['Gender'].fillna(df_test['Gender'].mode()[0])"
   ]
  },
  {
   "cell_type": "code",
   "execution_count": 13,
   "metadata": {},
   "outputs": [
    {
     "data": {
      "text/plain": [
       "array([1, 0], dtype=int64)"
      ]
     },
     "execution_count": 13,
     "metadata": {},
     "output_type": "execute_result"
    }
   ],
   "source": [
    "# Encode labels in column 'Agency Type'. \n",
    "df_test['Agency Type']= label_encoder.fit_transform(df_test['Agency Type']) \n",
    "df_test['Agency Type'].unique()\n",
    "df['Agency Type']= label_encoder.fit_transform(df['Agency Type']) \n",
    "df['Agency Type'].unique()\n",
    "\n",
    "\n",
    "# Encode labels in column Distribution Channel\n",
    "df_test['Distribution Channel']= label_encoder.fit_transform(df_test['Distribution Channel']) \n",
    "df_test['Distribution Channel'].unique()\n",
    "df['Distribution Channel']= label_encoder.fit_transform(df['Distribution Channel']) \n",
    "df['Distribution Channel'].unique()"
   ]
  },
  {
   "cell_type": "code",
   "execution_count": 14,
   "metadata": {},
   "outputs": [
    {
     "data": {
      "text/plain": [
       "0"
      ]
     },
     "execution_count": 14,
     "metadata": {},
     "output_type": "execute_result"
    }
   ],
   "source": [
    "df.Gender.isnull().sum()"
   ]
  },
  {
   "cell_type": "code",
   "execution_count": 15,
   "metadata": {},
   "outputs": [
    {
     "data": {
      "text/html": [
       "<div>\n",
       "<style scoped>\n",
       "    .dataframe tbody tr th:only-of-type {\n",
       "        vertical-align: middle;\n",
       "    }\n",
       "\n",
       "    .dataframe tbody tr th {\n",
       "        vertical-align: top;\n",
       "    }\n",
       "\n",
       "    .dataframe thead th {\n",
       "        text-align: right;\n",
       "    }\n",
       "</style>\n",
       "<table border=\"1\" class=\"dataframe\">\n",
       "  <thead>\n",
       "    <tr style=\"text-align: right;\">\n",
       "      <th></th>\n",
       "      <th>ID</th>\n",
       "      <th>Agency</th>\n",
       "      <th>Agency Type</th>\n",
       "      <th>Distribution Channel</th>\n",
       "      <th>Product Name</th>\n",
       "      <th>Claim</th>\n",
       "      <th>Duration</th>\n",
       "      <th>Destination</th>\n",
       "      <th>Net Sales</th>\n",
       "      <th>Commision (in value)</th>\n",
       "      <th>Gender</th>\n",
       "      <th>Age</th>\n",
       "    </tr>\n",
       "  </thead>\n",
       "  <tbody>\n",
       "    <tr>\n",
       "      <th>0</th>\n",
       "      <td>3433</td>\n",
       "      <td>CWT</td>\n",
       "      <td>1</td>\n",
       "      <td>1</td>\n",
       "      <td>Rental Vehicle Excess Insurance</td>\n",
       "      <td>0</td>\n",
       "      <td>7.0</td>\n",
       "      <td>MALAYSIA</td>\n",
       "      <td>0.0</td>\n",
       "      <td>17.82</td>\n",
       "      <td>F</td>\n",
       "      <td>31.0</td>\n",
       "    </tr>\n",
       "    <tr>\n",
       "      <th>1</th>\n",
       "      <td>4339</td>\n",
       "      <td>EPX</td>\n",
       "      <td>1</td>\n",
       "      <td>1</td>\n",
       "      <td>Cancellation Plan</td>\n",
       "      <td>0</td>\n",
       "      <td>85.0</td>\n",
       "      <td>SINGAPORE</td>\n",
       "      <td>69.0</td>\n",
       "      <td>0.00</td>\n",
       "      <td>F</td>\n",
       "      <td>36.0</td>\n",
       "    </tr>\n",
       "    <tr>\n",
       "      <th>2</th>\n",
       "      <td>34590</td>\n",
       "      <td>CWT</td>\n",
       "      <td>1</td>\n",
       "      <td>1</td>\n",
       "      <td>Rental Vehicle Excess Insurance</td>\n",
       "      <td>0</td>\n",
       "      <td>11.0</td>\n",
       "      <td>MALAYSIA</td>\n",
       "      <td>19.8</td>\n",
       "      <td>11.88</td>\n",
       "      <td>F</td>\n",
       "      <td>75.0</td>\n",
       "    </tr>\n",
       "    <tr>\n",
       "      <th>3</th>\n",
       "      <td>55816</td>\n",
       "      <td>EPX</td>\n",
       "      <td>1</td>\n",
       "      <td>1</td>\n",
       "      <td>2 way Comprehensive Plan</td>\n",
       "      <td>0</td>\n",
       "      <td>16.0</td>\n",
       "      <td>INDONESIA</td>\n",
       "      <td>20.0</td>\n",
       "      <td>0.00</td>\n",
       "      <td>F</td>\n",
       "      <td>32.0</td>\n",
       "    </tr>\n",
       "    <tr>\n",
       "      <th>4</th>\n",
       "      <td>13816</td>\n",
       "      <td>EPX</td>\n",
       "      <td>1</td>\n",
       "      <td>1</td>\n",
       "      <td>Cancellation Plan</td>\n",
       "      <td>0</td>\n",
       "      <td>10.0</td>\n",
       "      <td>KOREA, REPUBLIC OF</td>\n",
       "      <td>15.0</td>\n",
       "      <td>0.00</td>\n",
       "      <td>F</td>\n",
       "      <td>29.0</td>\n",
       "    </tr>\n",
       "  </tbody>\n",
       "</table>\n",
       "</div>"
      ],
      "text/plain": [
       "      ID Agency  Agency Type  Distribution Channel  \\\n",
       "0   3433    CWT            1                     1   \n",
       "1   4339    EPX            1                     1   \n",
       "2  34590    CWT            1                     1   \n",
       "3  55816    EPX            1                     1   \n",
       "4  13816    EPX            1                     1   \n",
       "\n",
       "                      Product Name  Claim  Duration         Destination  \\\n",
       "0  Rental Vehicle Excess Insurance      0       7.0            MALAYSIA   \n",
       "1                Cancellation Plan      0      85.0           SINGAPORE   \n",
       "2  Rental Vehicle Excess Insurance      0      11.0            MALAYSIA   \n",
       "3         2 way Comprehensive Plan      0      16.0           INDONESIA   \n",
       "4                Cancellation Plan      0      10.0  KOREA, REPUBLIC OF   \n",
       "\n",
       "   Net Sales  Commision (in value) Gender   Age  \n",
       "0        0.0                 17.82      F  31.0  \n",
       "1       69.0                  0.00      F  36.0  \n",
       "2       19.8                 11.88      F  75.0  \n",
       "3       20.0                  0.00      F  32.0  \n",
       "4       15.0                  0.00      F  29.0  "
      ]
     },
     "execution_count": 15,
     "metadata": {},
     "output_type": "execute_result"
    }
   ],
   "source": [
    "# Treating outliers in duration column\n",
    "\n",
    "df[df['Duration']<0]\n",
    "# replacing negative duration by median\n",
    "df[\"Duration\"] = np.where(df[\"Duration\"] <0, df.Duration.median(),df['Duration'])\n",
    "\n",
    "# Treating outliers in Age column\n",
    "df[df['Age']==0].Age.count()\n",
    "df1 = df[df['Age']!=0]\n",
    "df1 = df1[df1['Age']<=100]\n",
    "median_val= df1.Age.median()\n",
    "# replacing age == 0 by median\n",
    "df[\"Age\"] = np.where(df[\"Age\"] ==0, median_val,df['Age'])\n",
    "df[df['Age']>=100].Age.count()\n",
    "# replacing values >100 duration by median\n",
    "df[\"Age\"] = np.where(df[\"Age\"] >100, median_val,df['Age'])\n",
    "\n",
    "df.head()"
   ]
  },
  {
   "cell_type": "code",
   "execution_count": 16,
   "metadata": {},
   "outputs": [],
   "source": [
    "# replacing negative duration by median\n",
    "df_test[\"Duration\"] = np.where(df_test[\"Duration\"] <0, df_test.Duration.median(),df_test['Duration'])\n",
    "\n",
    "# replacing values in Age>100 duration by median\n",
    "df2 = df_test[df_test['Age']!=0]\n",
    "df2 = df2[df2['Age']<=100]\n",
    "median_val_1= df2.Age.median()\n",
    "\n",
    "df_test[\"Age\"] = np.where(df_test[\"Age\"] >100, median_val_1,df_test['Age'])\n",
    "                                                                    \n",
    "# replacing age == 0 by median\n",
    "df_test[\"Age\"] = np.where(df_test[\"Age\"] ==0, median_val_1,df_test['Age'])                                                                    "
   ]
  },
  {
   "cell_type": "code",
   "execution_count": 17,
   "metadata": {},
   "outputs": [
    {
     "data": {
      "text/html": [
       "<div>\n",
       "<style scoped>\n",
       "    .dataframe tbody tr th:only-of-type {\n",
       "        vertical-align: middle;\n",
       "    }\n",
       "\n",
       "    .dataframe tbody tr th {\n",
       "        vertical-align: top;\n",
       "    }\n",
       "\n",
       "    .dataframe thead th {\n",
       "        text-align: right;\n",
       "    }\n",
       "</style>\n",
       "<table border=\"1\" class=\"dataframe\">\n",
       "  <thead>\n",
       "    <tr style=\"text-align: right;\">\n",
       "      <th></th>\n",
       "      <th>ID</th>\n",
       "      <th>Agency</th>\n",
       "      <th>Agency Type</th>\n",
       "      <th>Distribution Channel</th>\n",
       "      <th>Product Name</th>\n",
       "      <th>Claim</th>\n",
       "      <th>Duration</th>\n",
       "      <th>Destination</th>\n",
       "      <th>Net Sales</th>\n",
       "      <th>Commision (in value)</th>\n",
       "      <th>Gender</th>\n",
       "      <th>Age</th>\n",
       "    </tr>\n",
       "  </thead>\n",
       "  <tbody>\n",
       "    <tr>\n",
       "      <th>0</th>\n",
       "      <td>3433</td>\n",
       "      <td>CWT</td>\n",
       "      <td>1</td>\n",
       "      <td>1</td>\n",
       "      <td>Rental Vehicle Excess Insurance</td>\n",
       "      <td>0</td>\n",
       "      <td>7.0</td>\n",
       "      <td>MALAYSIA</td>\n",
       "      <td>0.0</td>\n",
       "      <td>17.82</td>\n",
       "      <td>F</td>\n",
       "      <td>31.0</td>\n",
       "    </tr>\n",
       "    <tr>\n",
       "      <th>1</th>\n",
       "      <td>4339</td>\n",
       "      <td>EPX</td>\n",
       "      <td>1</td>\n",
       "      <td>1</td>\n",
       "      <td>Cancellation Plan</td>\n",
       "      <td>0</td>\n",
       "      <td>85.0</td>\n",
       "      <td>SINGAPORE</td>\n",
       "      <td>69.0</td>\n",
       "      <td>0.00</td>\n",
       "      <td>F</td>\n",
       "      <td>36.0</td>\n",
       "    </tr>\n",
       "    <tr>\n",
       "      <th>2</th>\n",
       "      <td>34590</td>\n",
       "      <td>CWT</td>\n",
       "      <td>1</td>\n",
       "      <td>1</td>\n",
       "      <td>Rental Vehicle Excess Insurance</td>\n",
       "      <td>0</td>\n",
       "      <td>11.0</td>\n",
       "      <td>MALAYSIA</td>\n",
       "      <td>19.8</td>\n",
       "      <td>11.88</td>\n",
       "      <td>F</td>\n",
       "      <td>75.0</td>\n",
       "    </tr>\n",
       "    <tr>\n",
       "      <th>3</th>\n",
       "      <td>55816</td>\n",
       "      <td>EPX</td>\n",
       "      <td>1</td>\n",
       "      <td>1</td>\n",
       "      <td>2 way Comprehensive Plan</td>\n",
       "      <td>0</td>\n",
       "      <td>16.0</td>\n",
       "      <td>INDONESIA</td>\n",
       "      <td>20.0</td>\n",
       "      <td>0.00</td>\n",
       "      <td>F</td>\n",
       "      <td>32.0</td>\n",
       "    </tr>\n",
       "    <tr>\n",
       "      <th>4</th>\n",
       "      <td>13816</td>\n",
       "      <td>EPX</td>\n",
       "      <td>1</td>\n",
       "      <td>1</td>\n",
       "      <td>Cancellation Plan</td>\n",
       "      <td>0</td>\n",
       "      <td>10.0</td>\n",
       "      <td>KOREA, REPUBLIC OF</td>\n",
       "      <td>15.0</td>\n",
       "      <td>0.00</td>\n",
       "      <td>F</td>\n",
       "      <td>29.0</td>\n",
       "    </tr>\n",
       "  </tbody>\n",
       "</table>\n",
       "</div>"
      ],
      "text/plain": [
       "      ID Agency  Agency Type  Distribution Channel  \\\n",
       "0   3433    CWT            1                     1   \n",
       "1   4339    EPX            1                     1   \n",
       "2  34590    CWT            1                     1   \n",
       "3  55816    EPX            1                     1   \n",
       "4  13816    EPX            1                     1   \n",
       "\n",
       "                      Product Name  Claim  Duration         Destination  \\\n",
       "0  Rental Vehicle Excess Insurance      0       7.0            MALAYSIA   \n",
       "1                Cancellation Plan      0      85.0           SINGAPORE   \n",
       "2  Rental Vehicle Excess Insurance      0      11.0            MALAYSIA   \n",
       "3         2 way Comprehensive Plan      0      16.0           INDONESIA   \n",
       "4                Cancellation Plan      0      10.0  KOREA, REPUBLIC OF   \n",
       "\n",
       "   Net Sales  Commision (in value) Gender   Age  \n",
       "0        0.0                 17.82      F  31.0  \n",
       "1       69.0                  0.00      F  36.0  \n",
       "2       19.8                 11.88      F  75.0  \n",
       "3       20.0                  0.00      F  32.0  \n",
       "4       15.0                  0.00      F  29.0  "
      ]
     },
     "execution_count": 17,
     "metadata": {},
     "output_type": "execute_result"
    }
   ],
   "source": [
    "df.head()"
   ]
  },
  {
   "cell_type": "code",
   "execution_count": 18,
   "metadata": {},
   "outputs": [],
   "source": [
    "#Creating bins for categorical features (Destination)\n",
    "\n",
    "df2 = pd.DataFrame(df_test.groupby('Destination')['Net Sales'].count()).reset_index()#-500-810\n",
    "df2.rename(columns={'Net Sales':'Claim_count'},inplace=True)\n",
    "df1 = pd.merge(df_test,df2, on = 'Destination')\n",
    "df_test['country_bin'] = df1['Claim_count'].apply(lambda x: '> 500' if x > 500 else\n",
    "                                                                     'Between 0 and 250'  if ((x>0) and (x < 250)) else\n",
    "                                                                     'Between 250 and 500'   if ((x>250) and (x < 500)) else\n",
    "                                                                     'Less than -250'  )\n",
    "\n",
    "# encoding for df\n",
    "df2 = pd.DataFrame(df.groupby('Destination')['Net Sales'].count()).reset_index()\n",
    "df2.rename(columns={'Net Sales':'Claim_count'},inplace=True)\n",
    "df1 = pd.merge(df,df2, on = 'Destination')\n",
    "df['country_bin'] = df1['Claim_count'].apply(lambda x: '> 500' if x > 500 else\n",
    "                                                                     'Between 0 and 250'  if ((x>0) and (x < 250)) else\n",
    "                                                                     'Between 250 and 500'   if ((x>250) and (x < 500)) else\n",
    "                                                                     'Less than -250'  )"
   ]
  },
  {
   "cell_type": "code",
   "execution_count": 19,
   "metadata": {},
   "outputs": [
    {
     "data": {
      "text/html": [
       "<div>\n",
       "<style scoped>\n",
       "    .dataframe tbody tr th:only-of-type {\n",
       "        vertical-align: middle;\n",
       "    }\n",
       "\n",
       "    .dataframe tbody tr th {\n",
       "        vertical-align: top;\n",
       "    }\n",
       "\n",
       "    .dataframe thead th {\n",
       "        text-align: right;\n",
       "    }\n",
       "</style>\n",
       "<table border=\"1\" class=\"dataframe\">\n",
       "  <thead>\n",
       "    <tr style=\"text-align: right;\">\n",
       "      <th></th>\n",
       "      <th>ID</th>\n",
       "      <th>Agency</th>\n",
       "      <th>Agency Type</th>\n",
       "      <th>Distribution Channel</th>\n",
       "      <th>Product Name</th>\n",
       "      <th>Duration</th>\n",
       "      <th>Destination</th>\n",
       "      <th>Net Sales</th>\n",
       "      <th>Commision (in value)</th>\n",
       "      <th>Gender</th>\n",
       "      <th>Age</th>\n",
       "      <th>country_bin</th>\n",
       "    </tr>\n",
       "  </thead>\n",
       "  <tbody>\n",
       "    <tr>\n",
       "      <th>0</th>\n",
       "      <td>25902</td>\n",
       "      <td>CWT</td>\n",
       "      <td>1</td>\n",
       "      <td>1</td>\n",
       "      <td>Rental Vehicle Excess Insurance</td>\n",
       "      <td>58.0</td>\n",
       "      <td>ICELAND</td>\n",
       "      <td>49.5</td>\n",
       "      <td>29.7</td>\n",
       "      <td>F</td>\n",
       "      <td>47.0</td>\n",
       "      <td>Between 0 and 250</td>\n",
       "    </tr>\n",
       "    <tr>\n",
       "      <th>1</th>\n",
       "      <td>19535</td>\n",
       "      <td>EPX</td>\n",
       "      <td>1</td>\n",
       "      <td>1</td>\n",
       "      <td>2 way Comprehensive Plan</td>\n",
       "      <td>4.0</td>\n",
       "      <td>SINGAPORE</td>\n",
       "      <td>20.0</td>\n",
       "      <td>0.0</td>\n",
       "      <td>F</td>\n",
       "      <td>24.0</td>\n",
       "      <td>Between 0 and 250</td>\n",
       "    </tr>\n",
       "    <tr>\n",
       "      <th>2</th>\n",
       "      <td>43717</td>\n",
       "      <td>EPX</td>\n",
       "      <td>1</td>\n",
       "      <td>1</td>\n",
       "      <td>2 way Comprehensive Plan</td>\n",
       "      <td>68.0</td>\n",
       "      <td>VIET NAM</td>\n",
       "      <td>20.0</td>\n",
       "      <td>0.0</td>\n",
       "      <td>F</td>\n",
       "      <td>36.0</td>\n",
       "      <td>Between 0 and 250</td>\n",
       "    </tr>\n",
       "    <tr>\n",
       "      <th>3</th>\n",
       "      <td>48271</td>\n",
       "      <td>EPX</td>\n",
       "      <td>1</td>\n",
       "      <td>1</td>\n",
       "      <td>2 way Comprehensive Plan</td>\n",
       "      <td>41.0</td>\n",
       "      <td>CHINA</td>\n",
       "      <td>28.0</td>\n",
       "      <td>0.0</td>\n",
       "      <td>F</td>\n",
       "      <td>36.0</td>\n",
       "      <td>Between 0 and 250</td>\n",
       "    </tr>\n",
       "    <tr>\n",
       "      <th>4</th>\n",
       "      <td>52318</td>\n",
       "      <td>EPX</td>\n",
       "      <td>1</td>\n",
       "      <td>1</td>\n",
       "      <td>Cancellation Plan</td>\n",
       "      <td>16.0</td>\n",
       "      <td>SINGAPORE</td>\n",
       "      <td>11.0</td>\n",
       "      <td>0.0</td>\n",
       "      <td>F</td>\n",
       "      <td>36.0</td>\n",
       "      <td>Between 0 and 250</td>\n",
       "    </tr>\n",
       "  </tbody>\n",
       "</table>\n",
       "</div>"
      ],
      "text/plain": [
       "      ID Agency  Agency Type  Distribution Channel  \\\n",
       "0  25902    CWT            1                     1   \n",
       "1  19535    EPX            1                     1   \n",
       "2  43717    EPX            1                     1   \n",
       "3  48271    EPX            1                     1   \n",
       "4  52318    EPX            1                     1   \n",
       "\n",
       "                      Product Name  Duration Destination  Net Sales  \\\n",
       "0  Rental Vehicle Excess Insurance      58.0     ICELAND       49.5   \n",
       "1         2 way Comprehensive Plan       4.0   SINGAPORE       20.0   \n",
       "2         2 way Comprehensive Plan      68.0    VIET NAM       20.0   \n",
       "3         2 way Comprehensive Plan      41.0       CHINA       28.0   \n",
       "4                Cancellation Plan      16.0   SINGAPORE       11.0   \n",
       "\n",
       "   Commision (in value) Gender   Age        country_bin  \n",
       "0                  29.7      F  47.0  Between 0 and 250  \n",
       "1                   0.0      F  24.0  Between 0 and 250  \n",
       "2                   0.0      F  36.0  Between 0 and 250  \n",
       "3                   0.0      F  36.0  Between 0 and 250  \n",
       "4                   0.0      F  36.0  Between 0 and 250  "
      ]
     },
     "execution_count": 19,
     "metadata": {},
     "output_type": "execute_result"
    }
   ],
   "source": [
    "df_test.head()"
   ]
  },
  {
   "cell_type": "code",
   "execution_count": 20,
   "metadata": {},
   "outputs": [],
   "source": [
    "#Creating bins for categorical features (Agency)\n",
    "df2 = pd.DataFrame(df_test.groupby('Agency')['Net Sales'].count()).reset_index()\n",
    "df2.rename(columns={'Net Sales':'Claim_count'},inplace=True)\n",
    "df1 = pd.merge(df_test,df2, on = 'Agency')\n",
    "df_test['agency_bin'] = df1['Claim_count'].apply(lambda x: '> 500' if x > 500 else\n",
    "                                                                     'Between 0 and 250'  if ((x>0) and (x < 250)) else\n",
    "                                                                     'Between 250 and 500'   if ((x>250) and (x < 500)) else\n",
    "                                                                     'Less than -250'  )\n",
    "\n",
    "# encoding fo df\n",
    "df2 = pd.DataFrame(df.groupby('Agency')['Net Sales'].count()).reset_index()\n",
    "df2.rename(columns={'Net Sales':'Claim_count'},inplace=True)\n",
    "df1 = pd.merge(df,df2, on = 'Agency')\n",
    "df['agency_bin'] = df1['Claim_count'].apply(lambda x: '> 500' if x > 500 else\n",
    "                                                                     'Between 0 and 250'  if ((x>0) and (x < 250)) else\n",
    "                                                                     'Between 250 and 500'   if ((x>250) and (x < 500)) else\n",
    "                                                                     'Less than -250'  )"
   ]
  },
  {
   "cell_type": "code",
   "execution_count": 21,
   "metadata": {},
   "outputs": [],
   "source": [
    "#Creating bins for categorical features (Product Name)\n",
    "df2 = pd.DataFrame(df_test.groupby('Product Name')['Net Sales'].count()).reset_index()\n",
    "df2.rename(columns={'Net Sales':'Claim_count'},inplace=True)\n",
    "df1 = pd.merge(df_test,df2, on = 'Product Name')\n",
    "df_test['product_bin'] = df1['Claim_count'].apply(lambda x: '> 500' if x > 500 else\n",
    "                                                                     'Between 0 and 250'  if ((x>0) and (x < 250)) else\n",
    "                                                                     'Between 250 and 500'   if ((x>250) and (x < 500)) else\n",
    "                                                                     'Less than -250'  )\n",
    "\n",
    "# encoding for df\n",
    "df2 = pd.DataFrame(df.groupby('Product Name')['Net Sales'].count()).reset_index()\n",
    "df2.rename(columns={'Net Sales':'Claim_count'},inplace=True)\n",
    "df1 = pd.merge(df,df2, on = 'Product Name')\n",
    "df['product_bin'] = df1['Claim_count'].apply(lambda x: '> 500' if x > 500 else\n",
    "                                                                     'Between 0 and 250'  if ((x>0) and (x < 250)) else\n",
    "                                                                     'Between 250 and 500'   if ((x>250) and (x < 500)) else\n",
    "                                                                     'Less than -250'  )\n"
   ]
  },
  {
   "cell_type": "code",
   "execution_count": 22,
   "metadata": {},
   "outputs": [],
   "source": [
    "\n",
    "df_test=df_test[['agency_bin','product_bin','country_bin','Agency Type','Distribution Channel','Duration','Net Sales','Commision (in value)','Age','Gender']]\n",
    "df=df[['agency_bin','product_bin','country_bin','Agency Type','Distribution Channel','Claim','Duration','Net Sales','Commision (in value)','Age','Gender']]"
   ]
  },
  {
   "cell_type": "code",
   "execution_count": 23,
   "metadata": {},
   "outputs": [],
   "source": [
    "ag_dummies = pd.get_dummies(df_test.agency_bin)\n",
    "ag_dummies.columns = ['agency_> 500','agency_Between 0 and 250']\n",
    "df_test = pd.concat([df_test, ag_dummies], axis=1)\n",
    "# encoding for df\n",
    "ag_dummies = pd.get_dummies(df.agency_bin)\n",
    "ag_dummies.columns = ['agency_> 500','agency_Between 0 and 250','agency_Between 250 and 500']\n",
    "df = pd.concat([df, ag_dummies], axis=1)"
   ]
  },
  {
   "cell_type": "code",
   "execution_count": 24,
   "metadata": {},
   "outputs": [],
   "source": [
    "ag_dummies = pd.get_dummies(df_test.product_bin)\n",
    "ag_dummies.columns = ['product_> 500','product_Between 0 and 250','product_Between 250 and 500']\n",
    "df_test = pd.concat([df_test, ag_dummies], axis=1)\n",
    "# encoding for df\n",
    "ag_dummies = pd.get_dummies(df.product_bin)\n",
    "ag_dummies.columns = ['product_> 500','product_Between 0 and 250','product_Between 250 and 500']\n",
    "df = pd.concat([df, ag_dummies], axis=1)"
   ]
  },
  {
   "cell_type": "code",
   "execution_count": 25,
   "metadata": {},
   "outputs": [],
   "source": [
    "ag_dummies = pd.get_dummies(df_test.country_bin)\n",
    "ag_dummies.columns = ['country_> 500','country_Between 0 and 250','country_Between 250 and 500']\n",
    "df_test = pd.concat([df_test, ag_dummies], axis=1)\n",
    "# encoding for df\n",
    "ag_dummies = pd.get_dummies(df.country_bin)\n",
    "ag_dummies.columns = ['country_> 500','country_Between 0 and 250','country_Between 250 and 500']\n",
    "df = pd.concat([df, ag_dummies], axis=1)"
   ]
  },
  {
   "cell_type": "code",
   "execution_count": 26,
   "metadata": {},
   "outputs": [],
   "source": [
    "df_test.drop(columns = ['agency_bin','product_bin','country_bin'],axis=1,inplace=True)\n",
    "df.drop(columns = ['agency_bin','product_bin','country_bin'],axis=1,inplace=True)"
   ]
  },
  {
   "cell_type": "code",
   "execution_count": 27,
   "metadata": {},
   "outputs": [],
   "source": [
    "df_test['Gender']= label_encoder.fit_transform(df_test['Gender'])\n",
    "df['Gender']= label_encoder.fit_transform(df['Gender'])"
   ]
  },
  {
   "cell_type": "code",
   "execution_count": 28,
   "metadata": {},
   "outputs": [
    {
     "data": {
      "text/html": [
       "<div>\n",
       "<style scoped>\n",
       "    .dataframe tbody tr th:only-of-type {\n",
       "        vertical-align: middle;\n",
       "    }\n",
       "\n",
       "    .dataframe tbody tr th {\n",
       "        vertical-align: top;\n",
       "    }\n",
       "\n",
       "    .dataframe thead th {\n",
       "        text-align: right;\n",
       "    }\n",
       "</style>\n",
       "<table border=\"1\" class=\"dataframe\">\n",
       "  <thead>\n",
       "    <tr style=\"text-align: right;\">\n",
       "      <th></th>\n",
       "      <th>Agency Type</th>\n",
       "      <th>Distribution Channel</th>\n",
       "      <th>Duration</th>\n",
       "      <th>Net Sales</th>\n",
       "      <th>Commision (in value)</th>\n",
       "      <th>Age</th>\n",
       "      <th>Gender</th>\n",
       "      <th>agency_&gt; 500</th>\n",
       "      <th>agency_Between 0 and 250</th>\n",
       "      <th>product_&gt; 500</th>\n",
       "      <th>product_Between 0 and 250</th>\n",
       "      <th>product_Between 250 and 500</th>\n",
       "      <th>country_&gt; 500</th>\n",
       "      <th>country_Between 0 and 250</th>\n",
       "      <th>country_Between 250 and 500</th>\n",
       "    </tr>\n",
       "  </thead>\n",
       "  <tbody>\n",
       "    <tr>\n",
       "      <th>0</th>\n",
       "      <td>1</td>\n",
       "      <td>1</td>\n",
       "      <td>58.0</td>\n",
       "      <td>49.5</td>\n",
       "      <td>29.7</td>\n",
       "      <td>47.0</td>\n",
       "      <td>0</td>\n",
       "      <td>1</td>\n",
       "      <td>0</td>\n",
       "      <td>1</td>\n",
       "      <td>0</td>\n",
       "      <td>0</td>\n",
       "      <td>0</td>\n",
       "      <td>1</td>\n",
       "      <td>0</td>\n",
       "    </tr>\n",
       "    <tr>\n",
       "      <th>1</th>\n",
       "      <td>1</td>\n",
       "      <td>1</td>\n",
       "      <td>4.0</td>\n",
       "      <td>20.0</td>\n",
       "      <td>0.0</td>\n",
       "      <td>24.0</td>\n",
       "      <td>0</td>\n",
       "      <td>1</td>\n",
       "      <td>0</td>\n",
       "      <td>1</td>\n",
       "      <td>0</td>\n",
       "      <td>0</td>\n",
       "      <td>0</td>\n",
       "      <td>1</td>\n",
       "      <td>0</td>\n",
       "    </tr>\n",
       "    <tr>\n",
       "      <th>2</th>\n",
       "      <td>1</td>\n",
       "      <td>1</td>\n",
       "      <td>68.0</td>\n",
       "      <td>20.0</td>\n",
       "      <td>0.0</td>\n",
       "      <td>36.0</td>\n",
       "      <td>0</td>\n",
       "      <td>1</td>\n",
       "      <td>0</td>\n",
       "      <td>1</td>\n",
       "      <td>0</td>\n",
       "      <td>0</td>\n",
       "      <td>0</td>\n",
       "      <td>1</td>\n",
       "      <td>0</td>\n",
       "    </tr>\n",
       "    <tr>\n",
       "      <th>3</th>\n",
       "      <td>1</td>\n",
       "      <td>1</td>\n",
       "      <td>41.0</td>\n",
       "      <td>28.0</td>\n",
       "      <td>0.0</td>\n",
       "      <td>36.0</td>\n",
       "      <td>0</td>\n",
       "      <td>1</td>\n",
       "      <td>0</td>\n",
       "      <td>1</td>\n",
       "      <td>0</td>\n",
       "      <td>0</td>\n",
       "      <td>0</td>\n",
       "      <td>1</td>\n",
       "      <td>0</td>\n",
       "    </tr>\n",
       "    <tr>\n",
       "      <th>4</th>\n",
       "      <td>1</td>\n",
       "      <td>1</td>\n",
       "      <td>16.0</td>\n",
       "      <td>11.0</td>\n",
       "      <td>0.0</td>\n",
       "      <td>36.0</td>\n",
       "      <td>0</td>\n",
       "      <td>1</td>\n",
       "      <td>0</td>\n",
       "      <td>1</td>\n",
       "      <td>0</td>\n",
       "      <td>0</td>\n",
       "      <td>0</td>\n",
       "      <td>1</td>\n",
       "      <td>0</td>\n",
       "    </tr>\n",
       "  </tbody>\n",
       "</table>\n",
       "</div>"
      ],
      "text/plain": [
       "   Agency Type  Distribution Channel  Duration  Net Sales  \\\n",
       "0            1                     1      58.0       49.5   \n",
       "1            1                     1       4.0       20.0   \n",
       "2            1                     1      68.0       20.0   \n",
       "3            1                     1      41.0       28.0   \n",
       "4            1                     1      16.0       11.0   \n",
       "\n",
       "   Commision (in value)   Age  Gender  agency_> 500  agency_Between 0 and 250  \\\n",
       "0                  29.7  47.0       0             1                         0   \n",
       "1                   0.0  24.0       0             1                         0   \n",
       "2                   0.0  36.0       0             1                         0   \n",
       "3                   0.0  36.0       0             1                         0   \n",
       "4                   0.0  36.0       0             1                         0   \n",
       "\n",
       "   product_> 500  product_Between 0 and 250  product_Between 250 and 500  \\\n",
       "0              1                          0                            0   \n",
       "1              1                          0                            0   \n",
       "2              1                          0                            0   \n",
       "3              1                          0                            0   \n",
       "4              1                          0                            0   \n",
       "\n",
       "   country_> 500  country_Between 0 and 250  country_Between 250 and 500  \n",
       "0              0                          1                            0  \n",
       "1              0                          1                            0  \n",
       "2              0                          1                            0  \n",
       "3              0                          1                            0  \n",
       "4              0                          1                            0  "
      ]
     },
     "execution_count": 28,
     "metadata": {},
     "output_type": "execute_result"
    }
   ],
   "source": [
    "df_test.head()"
   ]
  },
  {
   "cell_type": "code",
   "execution_count": 29,
   "metadata": {},
   "outputs": [],
   "source": [
    "df_test['agency_Between 250 and 500'] = 0\n",
    "\n",
    "df_test = df_test[['Agency Type', 'Distribution Channel', 'Duration', 'Net Sales',\n",
    "       'Commision (in value)', 'Age', 'Gender', 'agency_> 500',\n",
    "       'agency_Between 0 and 250', 'agency_Between 250 and 500',\n",
    "       'product_> 500', 'product_Between 0 and 250',\n",
    "       'product_Between 250 and 500', 'country_> 500',\n",
    "       'country_Between 0 and 250', 'country_Between 250 and 500']]"
   ]
  },
  {
   "cell_type": "code",
   "execution_count": null,
   "metadata": {},
   "outputs": [],
   "source": []
  },
  {
   "cell_type": "markdown",
   "metadata": {},
   "source": [
    "### Resample data with Random undersampling"
   ]
  },
  {
   "cell_type": "code",
   "execution_count": 30,
   "metadata": {},
   "outputs": [
    {
     "name": "stderr",
     "output_type": "stream",
     "text": [
      "C:\\ProgramData\\Anaconda3\\lib\\site-packages\\sklearn\\model_selection\\_split.py:2179: FutureWarning: From version 0.21, test_size will always complement train_size unless both are specified.\n",
      "  FutureWarning)\n"
     ]
    }
   ],
   "source": [
    "# Split entire dataset into train test data\n",
    "\n",
    "#X = trans.drop('Class', axis=1)\n",
    "X = df\n",
    "y = df['Claim']\n",
    "\n",
    "X_train_random_undersamp, X_test_random_undersamp, y_train_random_undrsamp, y_test_random_undersamp = train_test_split(X, y, train_size=0.7, random_state=7)"
   ]
  },
  {
   "cell_type": "code",
   "execution_count": 31,
   "metadata": {},
   "outputs": [
    {
     "data": {
      "text/plain": [
       "(35462, 17)"
      ]
     },
     "execution_count": 31,
     "metadata": {},
     "output_type": "execute_result"
    }
   ],
   "source": [
    "X_train_random_undersamp.shape"
   ]
  },
  {
   "cell_type": "code",
   "execution_count": 32,
   "metadata": {},
   "outputs": [
    {
     "data": {
      "text/plain": [
       "0    34959\n",
       "1      503\n",
       "Name: Claim, dtype: int64"
      ]
     },
     "execution_count": 32,
     "metadata": {},
     "output_type": "execute_result"
    }
   ],
   "source": [
    "X_train_random_undersamp.Claim.value_counts()"
   ]
  },
  {
   "cell_type": "code",
   "execution_count": 33,
   "metadata": {},
   "outputs": [
    {
     "data": {
      "text/plain": [
       "(15198, 17)"
      ]
     },
     "execution_count": 33,
     "metadata": {},
     "output_type": "execute_result"
    }
   ],
   "source": [
    "X_test_random_undersamp.shape"
   ]
  },
  {
   "cell_type": "code",
   "execution_count": 34,
   "metadata": {},
   "outputs": [
    {
     "data": {
      "text/plain": [
       "0    14959\n",
       "1      239\n",
       "Name: Claim, dtype: int64"
      ]
     },
     "execution_count": 34,
     "metadata": {},
     "output_type": "execute_result"
    }
   ],
   "source": [
    "X_test_random_undersamp.Claim.value_counts()"
   ]
  },
  {
   "cell_type": "code",
   "execution_count": 35,
   "metadata": {},
   "outputs": [
    {
     "data": {
      "text/plain": [
       "(35462,)"
      ]
     },
     "execution_count": 35,
     "metadata": {},
     "output_type": "execute_result"
    }
   ],
   "source": [
    "y_train_random_undrsamp.shape"
   ]
  },
  {
   "cell_type": "code",
   "execution_count": 36,
   "metadata": {},
   "outputs": [
    {
     "data": {
      "text/plain": [
       "(15198,)"
      ]
     },
     "execution_count": 36,
     "metadata": {},
     "output_type": "execute_result"
    }
   ],
   "source": [
    "y_test_random_undersamp.shape"
   ]
  },
  {
   "cell_type": "code",
   "execution_count": 37,
   "metadata": {},
   "outputs": [
    {
     "name": "stdout",
     "output_type": "stream",
     "text": [
      "503\n",
      "Int64Index([ 9199,  4150, 26328, 14412, 44367,  9144,  6971, 37781, 41597,\n",
      "            40815,\n",
      "            ...\n",
      "            19623, 45960, 27354, 28232,  2583, 13927,   919, 38467, 10742,\n",
      "            49689],\n",
      "           dtype='int64', length=34959)\n"
     ]
    }
   ],
   "source": [
    "#Find Number of samples which are minority\n",
    "minority_Claim = len(X_train_random_undersamp[X_train_random_undersamp['Claim'] == 1])\n",
    "print(np.array(minority_Claim))\n",
    "\n",
    "#Get indices of undersampled data\n",
    "majority_indices = X_train_random_undersamp[X_train_random_undersamp.Claim == 0].index\n",
    "print(majority_indices)\n",
    "\n",
    "#Random sample with minority indices\n",
    "random_indices = np.random.choice(majority_indices,minority_Claim,replace=False)\n",
    "#print(random_indices)\n",
    "\n",
    "#Find the indices of majority samples\n",
    "majority_indices = X_train_random_undersamp[X_train_random_undersamp.Claim == 1].index\n",
    "#print(majority_indices)\n",
    "\n",
    "#Concat fraud indices with sample non-fraud ones\n",
    "under_sample_indices = np.concatenate([majority_indices,random_indices])\n",
    "#print(under_sample_indices)\n",
    "\n",
    "#Get Balance Dataframe\n",
    "df_final_random_undersample = X_train_random_undersamp.loc[under_sample_indices]\n",
    "y_ROV = df_final_random_undersample['Claim']\n",
    "df_final_random_undersample.drop('Claim', axis=1 ,inplace=True)\n"
   ]
  },
  {
   "cell_type": "code",
   "execution_count": 38,
   "metadata": {},
   "outputs": [
    {
     "data": {
      "text/plain": [
       "19598    1\n",
       "25535    1\n",
       "26488    1\n",
       "39996    1\n",
       "45552    1\n",
       "Name: Claim, dtype: int64"
      ]
     },
     "execution_count": 38,
     "metadata": {},
     "output_type": "execute_result"
    }
   ],
   "source": [
    "df_final_random_undersample.head()\n",
    "y_ROV.head()"
   ]
  },
  {
   "cell_type": "code",
   "execution_count": 39,
   "metadata": {},
   "outputs": [
    {
     "data": {
      "text/plain": [
       "(1006, 16)"
      ]
     },
     "execution_count": 39,
     "metadata": {},
     "output_type": "execute_result"
    }
   ],
   "source": [
    "df_final_random_undersample.shape"
   ]
  },
  {
   "cell_type": "code",
   "execution_count": 40,
   "metadata": {},
   "outputs": [
    {
     "data": {
      "text/plain": [
       "(15198,)"
      ]
     },
     "execution_count": 40,
     "metadata": {},
     "output_type": "execute_result"
    }
   ],
   "source": [
    "y_test_random_undersamp.shape"
   ]
  },
  {
   "cell_type": "markdown",
   "metadata": {},
   "source": [
    "### Applying Random Forest Classifier on Randomly Undersampled data"
   ]
  },
  {
   "cell_type": "code",
   "execution_count": 41,
   "metadata": {},
   "outputs": [
    {
     "name": "stderr",
     "output_type": "stream",
     "text": [
      "C:\\ProgramData\\Anaconda3\\lib\\site-packages\\pandas\\core\\frame.py:3697: SettingWithCopyWarning: \n",
      "A value is trying to be set on a copy of a slice from a DataFrame\n",
      "\n",
      "See the caveats in the documentation: http://pandas.pydata.org/pandas-docs/stable/indexing.html#indexing-view-versus-copy\n",
      "  errors=errors)\n"
     ]
    }
   ],
   "source": [
    "X_test_random_undersamp.drop(['Claim'], axis=1, inplace=True)"
   ]
  },
  {
   "cell_type": "code",
   "execution_count": 42,
   "metadata": {},
   "outputs": [
    {
     "data": {
      "text/plain": [
       "(15198, 16)"
      ]
     },
     "execution_count": 42,
     "metadata": {},
     "output_type": "execute_result"
    }
   ],
   "source": [
    "X_test_random_undersamp.shape"
   ]
  },
  {
   "cell_type": "code",
   "execution_count": 43,
   "metadata": {},
   "outputs": [
    {
     "data": {
      "text/html": [
       "<div>\n",
       "<style scoped>\n",
       "    .dataframe tbody tr th:only-of-type {\n",
       "        vertical-align: middle;\n",
       "    }\n",
       "\n",
       "    .dataframe tbody tr th {\n",
       "        vertical-align: top;\n",
       "    }\n",
       "\n",
       "    .dataframe thead th {\n",
       "        text-align: right;\n",
       "    }\n",
       "</style>\n",
       "<table border=\"1\" class=\"dataframe\">\n",
       "  <thead>\n",
       "    <tr style=\"text-align: right;\">\n",
       "      <th></th>\n",
       "      <th>Agency Type</th>\n",
       "      <th>Distribution Channel</th>\n",
       "      <th>Duration</th>\n",
       "      <th>Net Sales</th>\n",
       "      <th>Commision (in value)</th>\n",
       "      <th>Age</th>\n",
       "      <th>Gender</th>\n",
       "      <th>agency_&gt; 500</th>\n",
       "      <th>agency_Between 0 and 250</th>\n",
       "      <th>agency_Between 250 and 500</th>\n",
       "      <th>product_&gt; 500</th>\n",
       "      <th>product_Between 0 and 250</th>\n",
       "      <th>product_Between 250 and 500</th>\n",
       "      <th>country_&gt; 500</th>\n",
       "      <th>country_Between 0 and 250</th>\n",
       "      <th>country_Between 250 and 500</th>\n",
       "    </tr>\n",
       "  </thead>\n",
       "  <tbody>\n",
       "    <tr>\n",
       "      <th>0</th>\n",
       "      <td>1</td>\n",
       "      <td>1</td>\n",
       "      <td>58.0</td>\n",
       "      <td>49.5</td>\n",
       "      <td>29.7</td>\n",
       "      <td>47.0</td>\n",
       "      <td>0</td>\n",
       "      <td>1</td>\n",
       "      <td>0</td>\n",
       "      <td>0</td>\n",
       "      <td>1</td>\n",
       "      <td>0</td>\n",
       "      <td>0</td>\n",
       "      <td>0</td>\n",
       "      <td>1</td>\n",
       "      <td>0</td>\n",
       "    </tr>\n",
       "    <tr>\n",
       "      <th>1</th>\n",
       "      <td>1</td>\n",
       "      <td>1</td>\n",
       "      <td>4.0</td>\n",
       "      <td>20.0</td>\n",
       "      <td>0.0</td>\n",
       "      <td>24.0</td>\n",
       "      <td>0</td>\n",
       "      <td>1</td>\n",
       "      <td>0</td>\n",
       "      <td>0</td>\n",
       "      <td>1</td>\n",
       "      <td>0</td>\n",
       "      <td>0</td>\n",
       "      <td>0</td>\n",
       "      <td>1</td>\n",
       "      <td>0</td>\n",
       "    </tr>\n",
       "    <tr>\n",
       "      <th>2</th>\n",
       "      <td>1</td>\n",
       "      <td>1</td>\n",
       "      <td>68.0</td>\n",
       "      <td>20.0</td>\n",
       "      <td>0.0</td>\n",
       "      <td>36.0</td>\n",
       "      <td>0</td>\n",
       "      <td>1</td>\n",
       "      <td>0</td>\n",
       "      <td>0</td>\n",
       "      <td>1</td>\n",
       "      <td>0</td>\n",
       "      <td>0</td>\n",
       "      <td>0</td>\n",
       "      <td>1</td>\n",
       "      <td>0</td>\n",
       "    </tr>\n",
       "    <tr>\n",
       "      <th>3</th>\n",
       "      <td>1</td>\n",
       "      <td>1</td>\n",
       "      <td>41.0</td>\n",
       "      <td>28.0</td>\n",
       "      <td>0.0</td>\n",
       "      <td>36.0</td>\n",
       "      <td>0</td>\n",
       "      <td>1</td>\n",
       "      <td>0</td>\n",
       "      <td>0</td>\n",
       "      <td>1</td>\n",
       "      <td>0</td>\n",
       "      <td>0</td>\n",
       "      <td>0</td>\n",
       "      <td>1</td>\n",
       "      <td>0</td>\n",
       "    </tr>\n",
       "    <tr>\n",
       "      <th>4</th>\n",
       "      <td>1</td>\n",
       "      <td>1</td>\n",
       "      <td>16.0</td>\n",
       "      <td>11.0</td>\n",
       "      <td>0.0</td>\n",
       "      <td>36.0</td>\n",
       "      <td>0</td>\n",
       "      <td>1</td>\n",
       "      <td>0</td>\n",
       "      <td>0</td>\n",
       "      <td>1</td>\n",
       "      <td>0</td>\n",
       "      <td>0</td>\n",
       "      <td>0</td>\n",
       "      <td>1</td>\n",
       "      <td>0</td>\n",
       "    </tr>\n",
       "  </tbody>\n",
       "</table>\n",
       "</div>"
      ],
      "text/plain": [
       "   Agency Type  Distribution Channel  Duration  Net Sales  \\\n",
       "0            1                     1      58.0       49.5   \n",
       "1            1                     1       4.0       20.0   \n",
       "2            1                     1      68.0       20.0   \n",
       "3            1                     1      41.0       28.0   \n",
       "4            1                     1      16.0       11.0   \n",
       "\n",
       "   Commision (in value)   Age  Gender  agency_> 500  agency_Between 0 and 250  \\\n",
       "0                  29.7  47.0       0             1                         0   \n",
       "1                   0.0  24.0       0             1                         0   \n",
       "2                   0.0  36.0       0             1                         0   \n",
       "3                   0.0  36.0       0             1                         0   \n",
       "4                   0.0  36.0       0             1                         0   \n",
       "\n",
       "   agency_Between 250 and 500  product_> 500  product_Between 0 and 250  \\\n",
       "0                           0              1                          0   \n",
       "1                           0              1                          0   \n",
       "2                           0              1                          0   \n",
       "3                           0              1                          0   \n",
       "4                           0              1                          0   \n",
       "\n",
       "   product_Between 250 and 500  country_> 500  country_Between 0 and 250  \\\n",
       "0                            0              0                          1   \n",
       "1                            0              0                          1   \n",
       "2                            0              0                          1   \n",
       "3                            0              0                          1   \n",
       "4                            0              0                          1   \n",
       "\n",
       "   country_Between 250 and 500  \n",
       "0                            0  \n",
       "1                            0  \n",
       "2                            0  \n",
       "3                            0  \n",
       "4                            0  "
      ]
     },
     "execution_count": 43,
     "metadata": {},
     "output_type": "execute_result"
    }
   ],
   "source": [
    "df_test.head()"
   ]
  },
  {
   "cell_type": "code",
   "execution_count": 44,
   "metadata": {
    "scrolled": true
   },
   "outputs": [
    {
     "name": "stderr",
     "output_type": "stream",
     "text": [
      "C:\\ProgramData\\Anaconda3\\lib\\site-packages\\sklearn\\ensemble\\forest.py:246: FutureWarning: The default value of n_estimators will change from 10 in version 0.20 to 100 in 0.22.\n",
      "  \"10 in version 0.20 to 100 in 0.22.\", FutureWarning)\n"
     ]
    }
   ],
   "source": [
    "\n",
    "clf = RandomForestClassifier(n_jobs=2, random_state=0)\n",
    "clf.fit(df_final_random_undersample,y_ROV)\n",
    "y_predict = clf.predict(df_test)\n",
    "    "
   ]
  },
  {
   "cell_type": "code",
   "execution_count": 45,
   "metadata": {},
   "outputs": [],
   "source": [
    "y_predict=pd.DataFrame(y_predict)"
   ]
  },
  {
   "cell_type": "code",
   "execution_count": 47,
   "metadata": {},
   "outputs": [],
   "source": [
    "df_test_new = pd.read_csv(raw_data_path_test)"
   ]
  },
  {
   "cell_type": "code",
   "execution_count": 48,
   "metadata": {},
   "outputs": [],
   "source": [
    "df_test_new = df_test_new['ID']\n",
    "df_test_new = df_test_new.reset_index()"
   ]
  },
  {
   "cell_type": "code",
   "execution_count": 49,
   "metadata": {},
   "outputs": [
    {
     "data": {
      "text/html": [
       "<div>\n",
       "<style scoped>\n",
       "    .dataframe tbody tr th:only-of-type {\n",
       "        vertical-align: middle;\n",
       "    }\n",
       "\n",
       "    .dataframe tbody tr th {\n",
       "        vertical-align: top;\n",
       "    }\n",
       "\n",
       "    .dataframe thead th {\n",
       "        text-align: right;\n",
       "    }\n",
       "</style>\n",
       "<table border=\"1\" class=\"dataframe\">\n",
       "  <thead>\n",
       "    <tr style=\"text-align: right;\">\n",
       "      <th></th>\n",
       "      <th>index</th>\n",
       "      <th>ID</th>\n",
       "    </tr>\n",
       "  </thead>\n",
       "  <tbody>\n",
       "    <tr>\n",
       "      <th>0</th>\n",
       "      <td>0</td>\n",
       "      <td>25902</td>\n",
       "    </tr>\n",
       "    <tr>\n",
       "      <th>1</th>\n",
       "      <td>1</td>\n",
       "      <td>19535</td>\n",
       "    </tr>\n",
       "    <tr>\n",
       "      <th>2</th>\n",
       "      <td>2</td>\n",
       "      <td>43717</td>\n",
       "    </tr>\n",
       "    <tr>\n",
       "      <th>3</th>\n",
       "      <td>3</td>\n",
       "      <td>48271</td>\n",
       "    </tr>\n",
       "    <tr>\n",
       "      <th>4</th>\n",
       "      <td>4</td>\n",
       "      <td>52318</td>\n",
       "    </tr>\n",
       "  </tbody>\n",
       "</table>\n",
       "</div>"
      ],
      "text/plain": [
       "   index     ID\n",
       "0      0  25902\n",
       "1      1  19535\n",
       "2      2  43717\n",
       "3      3  48271\n",
       "4      4  52318"
      ]
     },
     "execution_count": 49,
     "metadata": {},
     "output_type": "execute_result"
    }
   ],
   "source": [
    "df_test_new.head()"
   ]
  },
  {
   "cell_type": "code",
   "execution_count": 55,
   "metadata": {},
   "outputs": [],
   "source": [
    "y_predict = clf.predict(X_test_random_undersamp)\n",
    "df5 = pd.DataFrame(y_predict_real)\n",
    "df5.reset_index(inplace =True)\n",
    "df6 = pd.merge(df5,df_test_new, on ='index')\n",
    "df6.drop('index',axis=1,inplace=True)\n",
    "df6.columns=['Claim','ID']\n",
    "df6 = df6[['ID','Claim']]"
   ]
  },
  {
   "cell_type": "code",
   "execution_count": 56,
   "metadata": {},
   "outputs": [
    {
     "data": {
      "text/html": [
       "<div>\n",
       "<style scoped>\n",
       "    .dataframe tbody tr th:only-of-type {\n",
       "        vertical-align: middle;\n",
       "    }\n",
       "\n",
       "    .dataframe tbody tr th {\n",
       "        vertical-align: top;\n",
       "    }\n",
       "\n",
       "    .dataframe thead th {\n",
       "        text-align: right;\n",
       "    }\n",
       "</style>\n",
       "<table border=\"1\" class=\"dataframe\">\n",
       "  <thead>\n",
       "    <tr style=\"text-align: right;\">\n",
       "      <th></th>\n",
       "      <th>ID</th>\n",
       "      <th>Claim</th>\n",
       "    </tr>\n",
       "  </thead>\n",
       "  <tbody>\n",
       "    <tr>\n",
       "      <th>0</th>\n",
       "      <td>25902</td>\n",
       "      <td>0</td>\n",
       "    </tr>\n",
       "    <tr>\n",
       "      <th>1</th>\n",
       "      <td>19535</td>\n",
       "      <td>0</td>\n",
       "    </tr>\n",
       "    <tr>\n",
       "      <th>2</th>\n",
       "      <td>43717</td>\n",
       "      <td>0</td>\n",
       "    </tr>\n",
       "    <tr>\n",
       "      <th>3</th>\n",
       "      <td>48271</td>\n",
       "      <td>0</td>\n",
       "    </tr>\n",
       "    <tr>\n",
       "      <th>4</th>\n",
       "      <td>52318</td>\n",
       "      <td>0</td>\n",
       "    </tr>\n",
       "  </tbody>\n",
       "</table>\n",
       "</div>"
      ],
      "text/plain": [
       "      ID  Claim\n",
       "0  25902      0\n",
       "1  19535      0\n",
       "2  43717      0\n",
       "3  48271      0\n",
       "4  52318      0"
      ]
     },
     "execution_count": 56,
     "metadata": {},
     "output_type": "execute_result"
    }
   ],
   "source": [
    "df6.head()"
   ]
  },
  {
   "cell_type": "code",
   "execution_count": 57,
   "metadata": {},
   "outputs": [],
   "source": [
    "df6.to_csv(\"submission.csv\")"
   ]
  },
  {
   "cell_type": "code",
   "execution_count": 58,
   "metadata": {},
   "outputs": [
    {
     "data": {
      "text/html": [
       "<div>\n",
       "<style scoped>\n",
       "    .dataframe tbody tr th:only-of-type {\n",
       "        vertical-align: middle;\n",
       "    }\n",
       "\n",
       "    .dataframe tbody tr th {\n",
       "        vertical-align: top;\n",
       "    }\n",
       "\n",
       "    .dataframe thead th {\n",
       "        text-align: right;\n",
       "    }\n",
       "</style>\n",
       "<table border=\"1\" class=\"dataframe\">\n",
       "  <thead>\n",
       "    <tr style=\"text-align: right;\">\n",
       "      <th>Claim</th>\n",
       "      <th>0</th>\n",
       "      <th>1</th>\n",
       "    </tr>\n",
       "    <tr>\n",
       "      <th>row_0</th>\n",
       "      <th></th>\n",
       "      <th></th>\n",
       "    </tr>\n",
       "  </thead>\n",
       "  <tbody>\n",
       "    <tr>\n",
       "      <th>0</th>\n",
       "      <td>105</td>\n",
       "      <td>93</td>\n",
       "    </tr>\n",
       "    <tr>\n",
       "      <th>1</th>\n",
       "      <td>47</td>\n",
       "      <td>39</td>\n",
       "    </tr>\n",
       "  </tbody>\n",
       "</table>\n",
       "</div>"
      ],
      "text/plain": [
       "Claim    0   1\n",
       "row_0         \n",
       "0      105  93\n",
       "1       47  39"
      ]
     },
     "execution_count": 58,
     "metadata": {},
     "output_type": "execute_result"
    }
   ],
   "source": [
    "pd.crosstab(pd.Series(y_predict), pd.Series(y_ROV))\n"
   ]
  },
  {
   "cell_type": "code",
   "execution_count": 59,
   "metadata": {},
   "outputs": [
    {
     "name": "stdout",
     "output_type": "stream",
     "text": [
      "              precision    recall  f1-score   support\n",
      "\n",
      "           0       0.71      0.99      0.83     10676\n",
      "           1       0.67      0.04      0.07      4522\n",
      "\n",
      "   micro avg       0.71      0.71      0.71     15198\n",
      "   macro avg       0.69      0.51      0.45     15198\n",
      "weighted avg       0.70      0.71      0.60     15198\n",
      "\n"
     ]
    }
   ],
   "source": [
    "print(classification_report(y_predict,y_test_random_undersamp))\n"
   ]
  },
  {
   "cell_type": "code",
   "execution_count": 204,
   "metadata": {},
   "outputs": [
    {
     "name": "stdout",
     "output_type": "stream",
     "text": [
      "Accuracy =  0.7461508093170154\n",
      "Precision =  0.0387458577619169\n",
      "Recall =  0.6359832635983264\n",
      "F1 score =  0.07304180682364249\n"
     ]
    }
   ],
   "source": [
    "generate_model_report(y_test_random_undersamp, y_predict)\n"
   ]
  },
  {
   "cell_type": "markdown",
   "metadata": {},
   "source": [
    "### Resampling using SMOTE OverSampling"
   ]
  },
  {
   "cell_type": "code",
   "execution_count": 208,
   "metadata": {},
   "outputs": [
    {
     "name": "stdout",
     "output_type": "stream",
     "text": [
      "35462\n",
      "35462\n",
      "15198\n",
      "15198\n"
     ]
    },
    {
     "name": "stderr",
     "output_type": "stream",
     "text": [
      "C:\\ProgramData\\Anaconda3\\lib\\site-packages\\sklearn\\model_selection\\_split.py:2179: FutureWarning: From version 0.21, test_size will always complement train_size unless both are specified.\n",
      "  FutureWarning)\n"
     ]
    }
   ],
   "source": [
    "X = df\n",
    "y = df['Claim']\n",
    "  \n",
    "X_train_SMOTE, X_test_SMOTE, y_train_SMOTE, y_test_SMOTE = train_test_split(X, y, train_size=0.7, random_state=7)\n",
    "\n",
    "print(len(X_train_SMOTE))\n",
    "print(len(y_train_SMOTE))\n",
    "print(len(X_test_SMOTE))\n",
    "print(len(y_test_SMOTE))\n"
   ]
  },
  {
   "cell_type": "code",
   "execution_count": 209,
   "metadata": {},
   "outputs": [
    {
     "data": {
      "text/html": [
       "<div>\n",
       "<style scoped>\n",
       "    .dataframe tbody tr th:only-of-type {\n",
       "        vertical-align: middle;\n",
       "    }\n",
       "\n",
       "    .dataframe tbody tr th {\n",
       "        vertical-align: top;\n",
       "    }\n",
       "\n",
       "    .dataframe thead th {\n",
       "        text-align: right;\n",
       "    }\n",
       "</style>\n",
       "<table border=\"1\" class=\"dataframe\">\n",
       "  <thead>\n",
       "    <tr style=\"text-align: right;\">\n",
       "      <th></th>\n",
       "      <th>Agency Type</th>\n",
       "      <th>Distribution Channel</th>\n",
       "      <th>Claim</th>\n",
       "      <th>Duration</th>\n",
       "      <th>Net Sales</th>\n",
       "      <th>Commision (in value)</th>\n",
       "      <th>Age</th>\n",
       "      <th>Gender</th>\n",
       "      <th>agency_&gt; 500</th>\n",
       "      <th>agency_Between 0 and 250</th>\n",
       "      <th>agency_Between 250 and 500</th>\n",
       "      <th>product_&gt; 500</th>\n",
       "      <th>product_Between 0 and 250</th>\n",
       "      <th>product_Between 250 and 500</th>\n",
       "      <th>country_&gt; 500</th>\n",
       "      <th>country_Between 0 and 250</th>\n",
       "      <th>country_Between 250 and 500</th>\n",
       "    </tr>\n",
       "  </thead>\n",
       "  <tbody>\n",
       "    <tr>\n",
       "      <th>9199</th>\n",
       "      <td>1</td>\n",
       "      <td>1</td>\n",
       "      <td>0</td>\n",
       "      <td>37.0</td>\n",
       "      <td>23.00</td>\n",
       "      <td>0.00</td>\n",
       "      <td>36.0</td>\n",
       "      <td>1</td>\n",
       "      <td>1</td>\n",
       "      <td>0</td>\n",
       "      <td>0</td>\n",
       "      <td>1</td>\n",
       "      <td>0</td>\n",
       "      <td>0</td>\n",
       "      <td>1</td>\n",
       "      <td>0</td>\n",
       "      <td>0</td>\n",
       "    </tr>\n",
       "    <tr>\n",
       "      <th>4150</th>\n",
       "      <td>0</td>\n",
       "      <td>1</td>\n",
       "      <td>0</td>\n",
       "      <td>104.0</td>\n",
       "      <td>35.00</td>\n",
       "      <td>12.25</td>\n",
       "      <td>38.0</td>\n",
       "      <td>1</td>\n",
       "      <td>1</td>\n",
       "      <td>0</td>\n",
       "      <td>0</td>\n",
       "      <td>1</td>\n",
       "      <td>0</td>\n",
       "      <td>0</td>\n",
       "      <td>1</td>\n",
       "      <td>0</td>\n",
       "      <td>0</td>\n",
       "    </tr>\n",
       "    <tr>\n",
       "      <th>26328</th>\n",
       "      <td>0</td>\n",
       "      <td>1</td>\n",
       "      <td>0</td>\n",
       "      <td>6.0</td>\n",
       "      <td>18.00</td>\n",
       "      <td>6.30</td>\n",
       "      <td>58.0</td>\n",
       "      <td>1</td>\n",
       "      <td>1</td>\n",
       "      <td>0</td>\n",
       "      <td>0</td>\n",
       "      <td>1</td>\n",
       "      <td>0</td>\n",
       "      <td>0</td>\n",
       "      <td>1</td>\n",
       "      <td>0</td>\n",
       "      <td>0</td>\n",
       "    </tr>\n",
       "    <tr>\n",
       "      <th>14412</th>\n",
       "      <td>1</td>\n",
       "      <td>1</td>\n",
       "      <td>0</td>\n",
       "      <td>12.0</td>\n",
       "      <td>19.00</td>\n",
       "      <td>0.00</td>\n",
       "      <td>36.0</td>\n",
       "      <td>0</td>\n",
       "      <td>1</td>\n",
       "      <td>0</td>\n",
       "      <td>0</td>\n",
       "      <td>1</td>\n",
       "      <td>0</td>\n",
       "      <td>0</td>\n",
       "      <td>1</td>\n",
       "      <td>0</td>\n",
       "      <td>0</td>\n",
       "    </tr>\n",
       "    <tr>\n",
       "      <th>44367</th>\n",
       "      <td>0</td>\n",
       "      <td>1</td>\n",
       "      <td>0</td>\n",
       "      <td>13.0</td>\n",
       "      <td>1.13</td>\n",
       "      <td>0.32</td>\n",
       "      <td>48.0</td>\n",
       "      <td>1</td>\n",
       "      <td>1</td>\n",
       "      <td>0</td>\n",
       "      <td>0</td>\n",
       "      <td>1</td>\n",
       "      <td>0</td>\n",
       "      <td>0</td>\n",
       "      <td>1</td>\n",
       "      <td>0</td>\n",
       "      <td>0</td>\n",
       "    </tr>\n",
       "  </tbody>\n",
       "</table>\n",
       "</div>"
      ],
      "text/plain": [
       "       Agency Type  Distribution Channel  Claim  Duration  Net Sales  \\\n",
       "9199             1                     1      0      37.0      23.00   \n",
       "4150             0                     1      0     104.0      35.00   \n",
       "26328            0                     1      0       6.0      18.00   \n",
       "14412            1                     1      0      12.0      19.00   \n",
       "44367            0                     1      0      13.0       1.13   \n",
       "\n",
       "       Commision (in value)   Age  Gender  agency_> 500  \\\n",
       "9199                   0.00  36.0       1             1   \n",
       "4150                  12.25  38.0       1             1   \n",
       "26328                  6.30  58.0       1             1   \n",
       "14412                  0.00  36.0       0             1   \n",
       "44367                  0.32  48.0       1             1   \n",
       "\n",
       "       agency_Between 0 and 250  agency_Between 250 and 500  product_> 500  \\\n",
       "9199                          0                           0              1   \n",
       "4150                          0                           0              1   \n",
       "26328                         0                           0              1   \n",
       "14412                         0                           0              1   \n",
       "44367                         0                           0              1   \n",
       "\n",
       "       product_Between 0 and 250  product_Between 250 and 500  country_> 500  \\\n",
       "9199                           0                            0              1   \n",
       "4150                           0                            0              1   \n",
       "26328                          0                            0              1   \n",
       "14412                          0                            0              1   \n",
       "44367                          0                            0              1   \n",
       "\n",
       "       country_Between 0 and 250  country_Between 250 and 500  \n",
       "9199                           0                            0  \n",
       "4150                           0                            0  \n",
       "26328                          0                            0  \n",
       "14412                          0                            0  \n",
       "44367                          0                            0  "
      ]
     },
     "execution_count": 209,
     "metadata": {},
     "output_type": "execute_result"
    }
   ],
   "source": [
    "X_train_SMOTE.head()"
   ]
  },
  {
   "cell_type": "code",
   "execution_count": null,
   "metadata": {},
   "outputs": [],
   "source": []
  },
  {
   "cell_type": "code",
   "execution_count": 210,
   "metadata": {},
   "outputs": [
    {
     "name": "stdout",
     "output_type": "stream",
     "text": [
      "69918\n",
      "69918\n"
     ]
    }
   ],
   "source": [
    "\n",
    "smote = SMOTE(random_state=2)\n",
    "X_ov, y_ov = smote.fit_resample(X_train_SMOTE, y_train_SMOTE)\n",
    "\n",
    "X_ov = pd.DataFrame(X_ov) \n",
    "pd.DataFrame(X_ov).columns = df.columns\n",
    "print(len(X_ov))\n",
    "print(len(y_ov))"
   ]
  },
  {
   "cell_type": "code",
   "execution_count": 211,
   "metadata": {
    "scrolled": true
   },
   "outputs": [
    {
     "data": {
      "text/plain": [
       "1.0    34959\n",
       "0.0    34959\n",
       "Name: Claim, dtype: int64"
      ]
     },
     "execution_count": 211,
     "metadata": {},
     "output_type": "execute_result"
    }
   ],
   "source": [
    "X_ov.Claim.value_counts()"
   ]
  },
  {
   "cell_type": "code",
   "execution_count": 215,
   "metadata": {},
   "outputs": [],
   "source": [
    "X_ov.drop(['Claim'], axis=1, inplace=True)"
   ]
  },
  {
   "cell_type": "markdown",
   "metadata": {},
   "source": [
    "### Applying SVM Classifier Classification Technique"
   ]
  },
  {
   "cell_type": "code",
   "execution_count": null,
   "metadata": {},
   "outputs": [],
   "source": [
    "    model = svm.SVC(kernel='linear')\n",
    "    model.fit(X_ov, y_ov)\n",
    "    plt.plot(kind='SVC')"
   ]
  },
  {
   "cell_type": "markdown",
   "metadata": {},
   "source": [
    "### Applying Random Forest Classifier"
   ]
  },
  {
   "cell_type": "code",
   "execution_count": 216,
   "metadata": {},
   "outputs": [],
   "source": [
    "clf = RandomForestClassifier(n_jobs=2, random_state=0)"
   ]
  },
  {
   "cell_type": "code",
   "execution_count": 217,
   "metadata": {},
   "outputs": [
    {
     "name": "stderr",
     "output_type": "stream",
     "text": [
      "C:\\ProgramData\\Anaconda3\\lib\\site-packages\\sklearn\\ensemble\\forest.py:246: FutureWarning: The default value of n_estimators will change from 10 in version 0.20 to 100 in 0.22.\n",
      "  \"10 in version 0.20 to 100 in 0.22.\", FutureWarning)\n"
     ]
    },
    {
     "data": {
      "text/plain": [
       "RandomForestClassifier(bootstrap=True, class_weight=None, criterion='gini',\n",
       "            max_depth=None, max_features='auto', max_leaf_nodes=None,\n",
       "            min_impurity_decrease=0.0, min_impurity_split=None,\n",
       "            min_samples_leaf=1, min_samples_split=2,\n",
       "            min_weight_fraction_leaf=0.0, n_estimators=10, n_jobs=2,\n",
       "            oob_score=False, random_state=0, verbose=0, warm_start=False)"
      ]
     },
     "execution_count": 217,
     "metadata": {},
     "output_type": "execute_result"
    }
   ],
   "source": [
    "clf.fit(X_ov,y_ov)"
   ]
  },
  {
   "cell_type": "code",
   "execution_count": 219,
   "metadata": {},
   "outputs": [
    {
     "name": "stderr",
     "output_type": "stream",
     "text": [
      "C:\\ProgramData\\Anaconda3\\lib\\site-packages\\pandas\\core\\frame.py:3697: SettingWithCopyWarning: \n",
      "A value is trying to be set on a copy of a slice from a DataFrame\n",
      "\n",
      "See the caveats in the documentation: http://pandas.pydata.org/pandas-docs/stable/indexing.html#indexing-view-versus-copy\n",
      "  errors=errors)\n"
     ]
    }
   ],
   "source": [
    "X_test_SMOTE.drop(['Claim'], axis=1,inplace=True )"
   ]
  },
  {
   "cell_type": "code",
   "execution_count": 220,
   "metadata": {},
   "outputs": [],
   "source": [
    "y_predict = clf.predict(X_test_SMOTE)"
   ]
  },
  {
   "cell_type": "code",
   "execution_count": 221,
   "metadata": {},
   "outputs": [
    {
     "data": {
      "text/html": [
       "<div>\n",
       "<style scoped>\n",
       "    .dataframe tbody tr th:only-of-type {\n",
       "        vertical-align: middle;\n",
       "    }\n",
       "\n",
       "    .dataframe tbody tr th {\n",
       "        vertical-align: top;\n",
       "    }\n",
       "\n",
       "    .dataframe thead th {\n",
       "        text-align: right;\n",
       "    }\n",
       "</style>\n",
       "<table border=\"1\" class=\"dataframe\">\n",
       "  <thead>\n",
       "    <tr style=\"text-align: right;\">\n",
       "      <th>Claim</th>\n",
       "      <th>0</th>\n",
       "      <th>1</th>\n",
       "    </tr>\n",
       "    <tr>\n",
       "      <th>row_0</th>\n",
       "      <th></th>\n",
       "      <th></th>\n",
       "    </tr>\n",
       "  </thead>\n",
       "  <tbody>\n",
       "    <tr>\n",
       "      <th>0</th>\n",
       "      <td>4417</td>\n",
       "      <td>68</td>\n",
       "    </tr>\n",
       "    <tr>\n",
       "      <th>1</th>\n",
       "      <td>57</td>\n",
       "      <td>1</td>\n",
       "    </tr>\n",
       "  </tbody>\n",
       "</table>\n",
       "</div>"
      ],
      "text/plain": [
       "Claim     0   1\n",
       "row_0          \n",
       "0      4417  68\n",
       "1        57   1"
      ]
     },
     "execution_count": 221,
     "metadata": {},
     "output_type": "execute_result"
    }
   ],
   "source": [
    "pd.crosstab(pd.Series(y_predict), pd.Series(y_test_SMOTE))"
   ]
  },
  {
   "cell_type": "code",
   "execution_count": 222,
   "metadata": {},
   "outputs": [
    {
     "name": "stdout",
     "output_type": "stream",
     "text": [
      "              precision    recall  f1-score   support\n",
      "\n",
      "           0       0.99      0.98      0.99     15012\n",
      "           1       0.04      0.05      0.04       186\n",
      "\n",
      "   micro avg       0.97      0.97      0.97     15198\n",
      "   macro avg       0.51      0.52      0.51     15198\n",
      "weighted avg       0.98      0.97      0.97     15198\n",
      "\n"
     ]
    }
   ],
   "source": [
    "print(classification_report(y_predict,y_test_SMOTE))"
   ]
  },
  {
   "cell_type": "code",
   "execution_count": 223,
   "metadata": {},
   "outputs": [
    {
     "name": "stdout",
     "output_type": "stream",
     "text": [
      "Accuracy =  0.9732201605474404\n",
      "Precision =  0.04838709677419355\n",
      "Recall =  0.03765690376569038\n",
      "F1 score =  0.04235294117647059\n"
     ]
    }
   ],
   "source": [
    "generate_model_report(y_test_SMOTE, y_predict)"
   ]
  },
  {
   "cell_type": "markdown",
   "metadata": {},
   "source": [
    "### Applying Decision Tree Classifier"
   ]
  },
  {
   "cell_type": "code",
   "execution_count": 60,
   "metadata": {},
   "outputs": [],
   "source": [
    "dtc = DecisionTreeClassifier()"
   ]
  },
  {
   "cell_type": "code",
   "execution_count": 62,
   "metadata": {},
   "outputs": [
    {
     "data": {
      "text/plain": [
       "DecisionTreeClassifier(class_weight=None, criterion='gini', max_depth=None,\n",
       "            max_features=None, max_leaf_nodes=None,\n",
       "            min_impurity_decrease=0.0, min_impurity_split=None,\n",
       "            min_samples_leaf=1, min_samples_split=2,\n",
       "            min_weight_fraction_leaf=0.0, presort=False, random_state=None,\n",
       "            splitter='best')"
      ]
     },
     "execution_count": 62,
     "metadata": {},
     "output_type": "execute_result"
    }
   ],
   "source": [
    "dtc.fit(df_final_random_undersample,y_ROV)\n",
    "#y_predict_dtc = dtc.predict(X_test_SMOTE)\n"
   ]
  },
  {
   "cell_type": "code",
   "execution_count": 63,
   "metadata": {},
   "outputs": [],
   "source": [
    "y_predict = dtc.predict(X_test_random_undersamp)\n",
    "df5 = pd.DataFrame(y_predict_real)\n",
    "df5.reset_index(inplace =True)\n",
    "df6 = pd.merge(df5,df_test_new, on ='index')\n",
    "df6.drop('index',axis=1,inplace=True)\n",
    "df6.columns=['Claim','ID']\n",
    "df6 = df6[['ID','Claim']]"
   ]
  },
  {
   "cell_type": "code",
   "execution_count": 64,
   "metadata": {},
   "outputs": [],
   "source": [
    "df6.to_csv(\"submission_21.csv\")"
   ]
  },
  {
   "cell_type": "code",
   "execution_count": 65,
   "metadata": {},
   "outputs": [
    {
     "name": "stdout",
     "output_type": "stream",
     "text": [
      "              precision    recall  f1-score   support\n",
      "\n",
      "           0       0.64      0.99      0.78      9695\n",
      "           1       0.67      0.03      0.06      5503\n",
      "\n",
      "   micro avg       0.64      0.64      0.64     15198\n",
      "   macro avg       0.66      0.51      0.42     15198\n",
      "weighted avg       0.65      0.64      0.52     15198\n",
      "\n"
     ]
    }
   ],
   "source": [
    "print(classification_report(y_predict,y_test_random_undersamp))\n"
   ]
  },
  {
   "cell_type": "code",
   "execution_count": 66,
   "metadata": {},
   "outputs": [
    {
     "data": {
      "text/plain": [
       "0.02907504997274214"
      ]
     },
     "execution_count": 66,
     "metadata": {},
     "output_type": "execute_result"
    }
   ],
   "source": [
    "from sklearn.metrics import accuracy_score\n",
    "from sklearn.metrics import precision_score, recall_score\n",
    "\n",
    "precision_score(y_test_random_undersamp, y_predict)\n"
   ]
  },
  {
   "cell_type": "code",
   "execution_count": 226,
   "metadata": {},
   "outputs": [
    {
     "data": {
      "text/html": [
       "<div>\n",
       "<style scoped>\n",
       "    .dataframe tbody tr th:only-of-type {\n",
       "        vertical-align: middle;\n",
       "    }\n",
       "\n",
       "    .dataframe tbody tr th {\n",
       "        vertical-align: top;\n",
       "    }\n",
       "\n",
       "    .dataframe thead th {\n",
       "        text-align: right;\n",
       "    }\n",
       "</style>\n",
       "<table border=\"1\" class=\"dataframe\">\n",
       "  <thead>\n",
       "    <tr style=\"text-align: right;\">\n",
       "      <th>Claim</th>\n",
       "      <th>0</th>\n",
       "      <th>1</th>\n",
       "    </tr>\n",
       "    <tr>\n",
       "      <th>row_0</th>\n",
       "      <th></th>\n",
       "      <th></th>\n",
       "    </tr>\n",
       "  </thead>\n",
       "  <tbody>\n",
       "    <tr>\n",
       "      <th>0</th>\n",
       "      <td>4370</td>\n",
       "      <td>68</td>\n",
       "    </tr>\n",
       "    <tr>\n",
       "      <th>1</th>\n",
       "      <td>104</td>\n",
       "      <td>1</td>\n",
       "    </tr>\n",
       "  </tbody>\n",
       "</table>\n",
       "</div>"
      ],
      "text/plain": [
       "Claim     0   1\n",
       "row_0          \n",
       "0      4370  68\n",
       "1       104   1"
      ]
     },
     "execution_count": 226,
     "metadata": {},
     "output_type": "execute_result"
    }
   ],
   "source": [
    "pd.crosstab(pd.Series(y_predict_dtc), pd.Series(y_test_SMOTE))"
   ]
  },
  {
   "cell_type": "code",
   "execution_count": 227,
   "metadata": {},
   "outputs": [
    {
     "name": "stdout",
     "output_type": "stream",
     "text": [
      "              precision    recall  f1-score   support\n",
      "\n",
      "           0       0.98      0.99      0.98     14833\n",
      "           1       0.08      0.05      0.06       365\n",
      "\n",
      "   micro avg       0.96      0.96      0.96     15198\n",
      "   macro avg       0.53      0.52      0.52     15198\n",
      "weighted avg       0.96      0.96      0.96     15198\n",
      "\n"
     ]
    }
   ],
   "source": [
    "print(classification_report(y_predict_dtc,y_test_SMOTE))"
   ]
  },
  {
   "cell_type": "code",
   "execution_count": 172,
   "metadata": {},
   "outputs": [],
   "source": [
    "def generate_model_report(y_actual, y_predicted):\n",
    "    print(\"Accuracy = \", accuracy_score(y_actual, y_predicted))\n",
    "    print(\"Precision = \", precision_score(y_actual, y_predicted))\n",
    "    print(\"Recall = \", recall_score(y_actual, y_predicted))\n",
    "    print(\"F1 score = \", f1_score(y_actual, y_predicted))"
   ]
  },
  {
   "cell_type": "code",
   "execution_count": 206,
   "metadata": {},
   "outputs": [],
   "source": [
    "def generate_auc_roc_curve(clf, X_test):\n",
    "    y_pred_proba = clf.predict_proba(X_test)[:,1]\n",
    "    fpr, tpr, thresholds = roc_curve(X_test, y_pred_proba)\n",
    "    auc = roc_auc_score(X_test, y_pred_proba)\n",
    "    plt.plot(fpr, tpr, label=\"AUC ROC Curve with Area Under the curve =\" + str(auc))\n",
    "    plt.legend(loc=4)\n",
    "    plt.show()\n",
    "    pass"
   ]
  }
 ],
 "metadata": {
  "kernelspec": {
   "display_name": "Python 3",
   "language": "python",
   "name": "python3"
  },
  "language_info": {
   "codemirror_mode": {
    "name": "ipython",
    "version": 3
   },
   "file_extension": ".py",
   "mimetype": "text/x-python",
   "name": "python",
   "nbconvert_exporter": "python",
   "pygments_lexer": "ipython3",
   "version": "3.7.1"
  }
 },
 "nbformat": 4,
 "nbformat_minor": 2
}
