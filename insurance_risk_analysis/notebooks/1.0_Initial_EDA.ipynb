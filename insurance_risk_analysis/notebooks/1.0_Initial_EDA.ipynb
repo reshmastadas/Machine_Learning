{
 "cells": [
  {
   "cell_type": "code",
   "execution_count": 1,
   "metadata": {},
   "outputs": [],
   "source": [
    "import os\n",
    "import sys\n",
    "import pandas as pd\n",
    "import numpy as np\n",
    "import matplotlib.pyplot as plt\n",
    "\n",
    "import seaborn as sns"
   ]
  },
  {
   "cell_type": "code",
   "execution_count": 2,
   "metadata": {},
   "outputs": [],
   "source": [
    "# Creating path variable to read train data\n",
    "RAW_DATA_PATH = os.path.abspath(os.path.join(os.getcwd(),os.path.pardir,'data','raw','train.csv'))"
   ]
  },
  {
   "cell_type": "code",
   "execution_count": 3,
   "metadata": {},
   "outputs": [],
   "source": [
    "# Creating package path\n",
    "PACKAGE_PATH = os.path.abspath(os.path.join(os.getcwd(),os.path.pardir,'packages'))"
   ]
  },
  {
   "cell_type": "code",
   "execution_count": 4,
   "metadata": {},
   "outputs": [],
   "source": [
    "# adding package path to path variable\n",
    "sys.path.insert(1, PACKAGE_PATH)"
   ]
  },
  {
   "cell_type": "code",
   "execution_count": null,
   "metadata": {},
   "outputs": [],
   "source": []
  },
  {
   "cell_type": "code",
   "execution_count": 5,
   "metadata": {},
   "outputs": [],
   "source": [
    "from utils import load_all_transactions"
   ]
  },
  {
   "cell_type": "code",
   "execution_count": 6,
   "metadata": {},
   "outputs": [
    {
     "name": "stdout",
     "output_type": "stream",
     "text": [
      "\n",
      "Ther are a toral of 50660 transactions and Index(['ID', 'Agency', 'Agency Type', 'Distribution Channel', 'Product Name',\n",
      "       'Claim', 'Duration', 'Destination', 'Net Sales', 'Commision (in value)',\n",
      "       'Gender', 'Age'],\n",
      "      dtype='object') features \n",
      "\n"
     ]
    }
   ],
   "source": [
    "df = load_all_transactions('train.csv')"
   ]
  },
  {
   "cell_type": "code",
   "execution_count": 7,
   "metadata": {},
   "outputs": [
    {
     "data": {
      "text/html": [
       "<div>\n",
       "<style scoped>\n",
       "    .dataframe tbody tr th:only-of-type {\n",
       "        vertical-align: middle;\n",
       "    }\n",
       "\n",
       "    .dataframe tbody tr th {\n",
       "        vertical-align: top;\n",
       "    }\n",
       "\n",
       "    .dataframe thead th {\n",
       "        text-align: right;\n",
       "    }\n",
       "</style>\n",
       "<table border=\"1\" class=\"dataframe\">\n",
       "  <thead>\n",
       "    <tr style=\"text-align: right;\">\n",
       "      <th></th>\n",
       "      <th>ID</th>\n",
       "      <th>Agency</th>\n",
       "      <th>Agency Type</th>\n",
       "      <th>Distribution Channel</th>\n",
       "      <th>Product Name</th>\n",
       "      <th>Claim</th>\n",
       "      <th>Duration</th>\n",
       "      <th>Destination</th>\n",
       "      <th>Net Sales</th>\n",
       "      <th>Commision (in value)</th>\n",
       "      <th>Gender</th>\n",
       "      <th>Age</th>\n",
       "    </tr>\n",
       "  </thead>\n",
       "  <tbody>\n",
       "    <tr>\n",
       "      <th>0</th>\n",
       "      <td>3433</td>\n",
       "      <td>CWT</td>\n",
       "      <td>Travel Agency</td>\n",
       "      <td>Online</td>\n",
       "      <td>Rental Vehicle Excess Insurance</td>\n",
       "      <td>0</td>\n",
       "      <td>7</td>\n",
       "      <td>MALAYSIA</td>\n",
       "      <td>0.0</td>\n",
       "      <td>17.82</td>\n",
       "      <td>NaN</td>\n",
       "      <td>31</td>\n",
       "    </tr>\n",
       "    <tr>\n",
       "      <th>1</th>\n",
       "      <td>4339</td>\n",
       "      <td>EPX</td>\n",
       "      <td>Travel Agency</td>\n",
       "      <td>Online</td>\n",
       "      <td>Cancellation Plan</td>\n",
       "      <td>0</td>\n",
       "      <td>85</td>\n",
       "      <td>SINGAPORE</td>\n",
       "      <td>69.0</td>\n",
       "      <td>0.00</td>\n",
       "      <td>NaN</td>\n",
       "      <td>36</td>\n",
       "    </tr>\n",
       "    <tr>\n",
       "      <th>2</th>\n",
       "      <td>34590</td>\n",
       "      <td>CWT</td>\n",
       "      <td>Travel Agency</td>\n",
       "      <td>Online</td>\n",
       "      <td>Rental Vehicle Excess Insurance</td>\n",
       "      <td>0</td>\n",
       "      <td>11</td>\n",
       "      <td>MALAYSIA</td>\n",
       "      <td>19.8</td>\n",
       "      <td>11.88</td>\n",
       "      <td>NaN</td>\n",
       "      <td>75</td>\n",
       "    </tr>\n",
       "    <tr>\n",
       "      <th>3</th>\n",
       "      <td>55816</td>\n",
       "      <td>EPX</td>\n",
       "      <td>Travel Agency</td>\n",
       "      <td>Online</td>\n",
       "      <td>2 way Comprehensive Plan</td>\n",
       "      <td>0</td>\n",
       "      <td>16</td>\n",
       "      <td>INDONESIA</td>\n",
       "      <td>20.0</td>\n",
       "      <td>0.00</td>\n",
       "      <td>NaN</td>\n",
       "      <td>32</td>\n",
       "    </tr>\n",
       "    <tr>\n",
       "      <th>4</th>\n",
       "      <td>13816</td>\n",
       "      <td>EPX</td>\n",
       "      <td>Travel Agency</td>\n",
       "      <td>Online</td>\n",
       "      <td>Cancellation Plan</td>\n",
       "      <td>0</td>\n",
       "      <td>10</td>\n",
       "      <td>KOREA, REPUBLIC OF</td>\n",
       "      <td>15.0</td>\n",
       "      <td>0.00</td>\n",
       "      <td>NaN</td>\n",
       "      <td>29</td>\n",
       "    </tr>\n",
       "  </tbody>\n",
       "</table>\n",
       "</div>"
      ],
      "text/plain": [
       "      ID Agency    Agency Type Distribution Channel  \\\n",
       "0   3433    CWT  Travel Agency               Online   \n",
       "1   4339    EPX  Travel Agency               Online   \n",
       "2  34590    CWT  Travel Agency               Online   \n",
       "3  55816    EPX  Travel Agency               Online   \n",
       "4  13816    EPX  Travel Agency               Online   \n",
       "\n",
       "                      Product Name  Claim  Duration         Destination  \\\n",
       "0  Rental Vehicle Excess Insurance      0         7            MALAYSIA   \n",
       "1                Cancellation Plan      0        85           SINGAPORE   \n",
       "2  Rental Vehicle Excess Insurance      0        11            MALAYSIA   \n",
       "3         2 way Comprehensive Plan      0        16           INDONESIA   \n",
       "4                Cancellation Plan      0        10  KOREA, REPUBLIC OF   \n",
       "\n",
       "   Net Sales  Commision (in value) Gender  Age  \n",
       "0        0.0                 17.82    NaN   31  \n",
       "1       69.0                  0.00    NaN   36  \n",
       "2       19.8                 11.88    NaN   75  \n",
       "3       20.0                  0.00    NaN   32  \n",
       "4       15.0                  0.00    NaN   29  "
      ]
     },
     "execution_count": 7,
     "metadata": {},
     "output_type": "execute_result"
    }
   ],
   "source": [
    "# having a peek at data\n",
    "df.head()"
   ]
  },
  {
   "cell_type": "code",
   "execution_count": 8,
   "metadata": {},
   "outputs": [
    {
     "name": "stdout",
     "output_type": "stream",
     "text": [
      "<class 'pandas.core.frame.DataFrame'>\n",
      "RangeIndex: 50660 entries, 0 to 50659\n",
      "Data columns (total 12 columns):\n",
      "ID                      50660 non-null int64\n",
      "Agency                  50660 non-null object\n",
      "Agency Type             50660 non-null object\n",
      "Distribution Channel    50660 non-null object\n",
      "Product Name            50660 non-null object\n",
      "Claim                   50660 non-null int64\n",
      "Duration                50660 non-null int64\n",
      "Destination             50660 non-null object\n",
      "Net Sales               50660 non-null float64\n",
      "Commision (in value)    50660 non-null float64\n",
      "Gender                  14614 non-null object\n",
      "Age                     50660 non-null int64\n",
      "dtypes: float64(2), int64(4), object(6)\n",
      "memory usage: 4.6+ MB\n"
     ]
    }
   ],
   "source": [
    "# getting info about training set\n",
    "df.info()"
   ]
  },
  {
   "cell_type": "code",
   "execution_count": 9,
   "metadata": {},
   "outputs": [
    {
     "data": {
      "text/plain": [
       "ID                          0\n",
       "Agency                      0\n",
       "Agency Type                 0\n",
       "Distribution Channel        0\n",
       "Product Name                0\n",
       "Claim                       0\n",
       "Duration                    0\n",
       "Destination                 0\n",
       "Net Sales                   0\n",
       "Commision (in value)        0\n",
       "Gender                  36046\n",
       "Age                         0\n",
       "dtype: int64"
      ]
     },
     "execution_count": 9,
     "metadata": {},
     "output_type": "execute_result"
    }
   ],
   "source": [
    "# checking is there any null values in the dataframe\n",
    "df.isnull().sum()"
   ]
  },
  {
   "cell_type": "markdown",
   "metadata": {},
   "source": [
    "**Insights**\n",
    "1. There are null values in Gender column"
   ]
  },
  {
   "cell_type": "code",
   "execution_count": 10,
   "metadata": {},
   "outputs": [
    {
     "data": {
      "text/plain": [
       "ID                      50660\n",
       "Agency                     16\n",
       "Agency Type                 2\n",
       "Distribution Channel        2\n",
       "Product Name               26\n",
       "Claim                       2\n",
       "Duration                  444\n",
       "Destination               144\n",
       "Net Sales                1053\n",
       "Commision (in value)      968\n",
       "Gender                      2\n",
       "Age                        88\n",
       "dtype: int64"
      ]
     },
     "execution_count": 10,
     "metadata": {},
     "output_type": "execute_result"
    }
   ],
   "source": [
    "df.nunique()"
   ]
  },
  {
   "cell_type": "markdown",
   "metadata": {},
   "source": [
    "**Insighst**\n",
    "1. Agency type, distribution channel, gender are categorical variables. \n",
    "2. Claim is target variable\n",
    "3. Agency type, distribution channel, claim, Gender have only 2 unique values. So label encoding for these values can be enough\n",
    "4. Agency and product name have 16 and 26 unique values, so one hot encoding can be done"
   ]
  }
 ],
 "metadata": {
  "kernelspec": {
   "display_name": "Python 3",
   "language": "python",
   "name": "python3"
  },
  "language_info": {
   "codemirror_mode": {
    "name": "ipython",
    "version": 3
   },
   "file_extension": ".py",
   "mimetype": "text/x-python",
   "name": "python",
   "nbconvert_exporter": "python",
   "pygments_lexer": "ipython3",
   "version": "3.7.1"
  }
 },
 "nbformat": 4,
 "nbformat_minor": 2
}
