{
 "cells": [
  {
   "cell_type": "code",
   "execution_count": 4,
   "metadata": {},
   "outputs": [],
   "source": [
    "import pandas as pd\n",
    "import numpy as np\n",
    "import seaborn as sns\n",
    "import matplotlib.pyplot as plt"
   ]
  },
  {
   "cell_type": "code",
   "execution_count": 2,
   "metadata": {},
   "outputs": [],
   "source": [
    "train = pd.read_csv(\"C:\\\\Users\\\\ADMIN\\\\ga_hktn2\\\\data\\\\train.csv\")"
   ]
  },
  {
   "cell_type": "code",
   "execution_count": 3,
   "metadata": {},
   "outputs": [
    {
     "data": {
      "text/html": [
       "<div>\n",
       "<style scoped>\n",
       "    .dataframe tbody tr th:only-of-type {\n",
       "        vertical-align: middle;\n",
       "    }\n",
       "\n",
       "    .dataframe tbody tr th {\n",
       "        vertical-align: top;\n",
       "    }\n",
       "\n",
       "    .dataframe thead th {\n",
       "        text-align: right;\n",
       "    }\n",
       "</style>\n",
       "<table border=\"1\" class=\"dataframe\">\n",
       "  <thead>\n",
       "    <tr style=\"text-align: right;\">\n",
       "      <th></th>\n",
       "      <th>tweet_id</th>\n",
       "      <th>sentiment</th>\n",
       "    </tr>\n",
       "  </thead>\n",
       "  <tbody>\n",
       "    <tr>\n",
       "      <th>count</th>\n",
       "      <td>7274.000000</td>\n",
       "      <td>7274.000000</td>\n",
       "    </tr>\n",
       "    <tr>\n",
       "      <th>mean</th>\n",
       "      <td>4531.736871</td>\n",
       "      <td>1.299148</td>\n",
       "    </tr>\n",
       "    <tr>\n",
       "      <th>std</th>\n",
       "      <td>2617.858745</td>\n",
       "      <td>0.607829</td>\n",
       "    </tr>\n",
       "    <tr>\n",
       "      <th>min</th>\n",
       "      <td>2.000000</td>\n",
       "      <td>0.000000</td>\n",
       "    </tr>\n",
       "    <tr>\n",
       "      <th>25%</th>\n",
       "      <td>2261.500000</td>\n",
       "      <td>1.000000</td>\n",
       "    </tr>\n",
       "    <tr>\n",
       "      <th>50%</th>\n",
       "      <td>4530.500000</td>\n",
       "      <td>1.000000</td>\n",
       "    </tr>\n",
       "    <tr>\n",
       "      <th>75%</th>\n",
       "      <td>6796.750000</td>\n",
       "      <td>2.000000</td>\n",
       "    </tr>\n",
       "    <tr>\n",
       "      <th>max</th>\n",
       "      <td>9092.000000</td>\n",
       "      <td>3.000000</td>\n",
       "    </tr>\n",
       "  </tbody>\n",
       "</table>\n",
       "</div>"
      ],
      "text/plain": [
       "          tweet_id    sentiment\n",
       "count  7274.000000  7274.000000\n",
       "mean   4531.736871     1.299148\n",
       "std    2617.858745     0.607829\n",
       "min       2.000000     0.000000\n",
       "25%    2261.500000     1.000000\n",
       "50%    4530.500000     1.000000\n",
       "75%    6796.750000     2.000000\n",
       "max    9092.000000     3.000000"
      ]
     },
     "execution_count": 3,
     "metadata": {},
     "output_type": "execute_result"
    }
   ],
   "source": [
    "train.describe()"
   ]
  },
  {
   "cell_type": "code",
   "execution_count": 5,
   "metadata": {},
   "outputs": [
    {
     "data": {
      "text/plain": [
       "<matplotlib.axes._subplots.AxesSubplot at 0x7a48e10>"
      ]
     },
     "execution_count": 5,
     "metadata": {},
     "output_type": "execute_result"
    },
    {
     "data": {
      "image/png": "[encoded data removed]",
      "text/plain": [
       "<Figure size 432x288 with 1 Axes>"
      ]
     },
     "metadata": {},
     "output_type": "display_data"
    }
   ],
   "source": [
    "sns.countplot(x='sentiment',data=train)"
   ]
  },
  {
   "cell_type": "code",
   "execution_count": 6,
   "metadata": {},
   "outputs": [
    {
     "data": {
      "text/plain": [
       "tweet_id     False\n",
       "tweet         True\n",
       "sentiment    False\n",
       "dtype: bool"
      ]
     },
     "execution_count": 6,
     "metadata": {},
     "output_type": "execute_result"
    }
   ],
   "source": [
    "train.isnull().any()"
   ]
  },
  {
   "cell_type": "code",
   "execution_count": 8,
   "metadata": {},
   "outputs": [],
   "source": [
    "train.dropna(inplace=True)"
   ]
  },
  {
   "cell_type": "code",
   "execution_count": 11,
   "metadata": {},
   "outputs": [
    {
     "data": {
      "text/html": [
       "<div>\n",
       "<style scoped>\n",
       "    .dataframe tbody tr th:only-of-type {\n",
       "        vertical-align: middle;\n",
       "    }\n",
       "\n",
       "    .dataframe tbody tr th {\n",
       "        vertical-align: top;\n",
       "    }\n",
       "\n",
       "    .dataframe thead th {\n",
       "        text-align: right;\n",
       "    }\n",
       "</style>\n",
       "<table border=\"1\" class=\"dataframe\">\n",
       "  <thead>\n",
       "    <tr style=\"text-align: right;\">\n",
       "      <th></th>\n",
       "      <th>tweet_id</th>\n",
       "      <th>tweet</th>\n",
       "      <th>sentiment</th>\n",
       "    </tr>\n",
       "  </thead>\n",
       "  <tbody>\n",
       "  </tbody>\n",
       "</table>\n",
       "</div>"
      ],
      "text/plain": [
       "Empty DataFrame\n",
       "Columns: [tweet_id, tweet, sentiment]\n",
       "Index: []"
      ]
     },
     "execution_count": 11,
     "metadata": {},
     "output_type": "execute_result"
    }
   ],
   "source": [
    "train[train['tweet'].str.contains(\"<\")]"
   ]
  },
  {
   "cell_type": "code",
   "execution_count": 97,
   "metadata": {},
   "outputs": [
    {
     "name": "stdout",
     "output_type": "stream",
     "text": [
      "14591\n"
     ]
    }
   ],
   "source": [
    "results = set()\n",
    "\n",
    "train['tweet'].str.lower().str.split().apply(results.update)\n",
    "\n",
    "print(len(results))"
   ]
  },
  {
   "cell_type": "code",
   "execution_count": 104,
   "metadata": {},
   "outputs": [
    {
     "name": "stdout",
     "output_type": "stream",
     "text": [
      "14446\n"
     ]
    }
   ],
   "source": [
    "from nltk.corpus import stopwords\n",
    "stop_words=set(stopwords.words('english'))\n",
    "#print(stop_words)\n",
    "\n",
    "#unique_without_stpwrd = [word for (word in list(results)) and (word not in stop_words)]\n",
    "unq_word_list = results - stop_words\n",
    "print(len(unq_word_list))"
   ]
  },
  {
   "cell_type": "code",
   "execution_count": 131,
   "metadata": {},
   "outputs": [],
   "source": [
    "def unq_word_count(tweet):\n",
    "    lst1 = tweet.split()\n",
    "    lst1 = list(set(lst1))\n",
    "    lst2 = [w for w in lst1 if w in unq_word_list]\n",
    "    return len(set(lst2))"
   ]
  },
  {
   "cell_type": "code",
   "execution_count": 132,
   "metadata": {},
   "outputs": [],
   "source": [
    "train['uwc'] = train['tweet'].apply(unq_word_count)"
   ]
  },
  {
   "cell_type": "code",
   "execution_count": 133,
   "metadata": {},
   "outputs": [
    {
     "data": {
      "text/plain": [
       "9     908\n",
       "8     885\n",
       "7     798\n",
       "5     719\n",
       "6     716\n",
       "10    632\n",
       "11    545\n",
       "4     487\n",
       "12    417\n",
       "3     389\n",
       "13    239\n",
       "2     165\n",
       "14    131\n",
       "1      96\n",
       "15     83\n",
       "16     29\n",
       "17     13\n",
       "18     11\n",
       "0       6\n",
       "19      4\n",
       "Name: uwc, dtype: int64"
      ]
     },
     "execution_count": 133,
     "metadata": {},
     "output_type": "execute_result"
    }
   ],
   "source": [
    "train['uwc'].value_counts()"
   ]
  },
  {
   "cell_type": "code",
   "execution_count": 134,
   "metadata": {},
   "outputs": [
    {
     "data": {
      "text/plain": [
       "<matplotlib.axes._subplots.AxesSubplot at 0x18b6d130>"
      ]
     },
     "execution_count": 134,
     "metadata": {},
     "output_type": "execute_result"
    },
    {
     "data": {
      "image/png": "[encoded data removed]",
      "text/plain": [
       "<Figure size 432x288 with 1 Axes>"
      ]
     },
     "metadata": {},
     "output_type": "display_data"
    }
   ],
   "source": [
    "sns.boxplot(x=train['sentiment'],y=train['uwc'])"
   ]
  },
  {
   "cell_type": "code",
   "execution_count": 120,
   "metadata": {},
   "outputs": [
    {
     "name": "stderr",
     "output_type": "stream",
     "text": [
      "<input>:1: DeprecationWarning: invalid escape sequence \\W\n",
      "<input>:1: DeprecationWarning: invalid escape sequence \\W\n",
      "<input>:1: DeprecationWarning: invalid escape sequence \\W\n",
      "<ipython-input-120-446eac2dd133>:1: DeprecationWarning: invalid escape sequence \\W\n",
      "  train['special_char_count'] = train['tweet'].map(lambda x: len(re.findall('\\W', x.replace(' ',''))))\n"
     ]
    }
   ],
   "source": [
    "train['special_char_count'] = train['tweet'].map(lambda x: len(re.findall('\\W', x.replace(' ',''))))"
   ]
  },
  {
   "cell_type": "code",
   "execution_count": 135,
   "metadata": {},
   "outputs": [
    {
     "data": {
      "text/plain": [
       "<matplotlib.axes._subplots.AxesSubplot at 0x18b5dd70>"
      ]
     },
     "execution_count": 135,
     "metadata": {},
     "output_type": "execute_result"
    },
    {
     "data": {
      "image/png": "[encoded data removed]",
      "text/plain": [
       "<Figure size 432x288 with 1 Axes>"
      ]
     },
     "metadata": {},
     "output_type": "display_data"
    }
   ],
   "source": [
    "sns.boxplot(x=train['sentiment'],y=train['special_char_count'])"
   ]
  },
  {
   "cell_type": "code",
   "execution_count": 136,
   "metadata": {},
   "outputs": [],
   "source": [
    "train['len_tweet'] = train['tweet'].apply(len)"
   ]
  },
  {
   "cell_type": "code",
   "execution_count": 138,
   "metadata": {},
   "outputs": [
    {
     "data": {
      "text/plain": [
       "<matplotlib.axes._subplots.AxesSubplot at 0x18b34570>"
      ]
     },
     "execution_count": 138,
     "metadata": {},
     "output_type": "execute_result"
    },
    {
     "data": {
      "image/png": "[encoded data removed]",
      "text/plain": [
       "<Figure size 432x288 with 1 Axes>"
      ]
     },
     "metadata": {},
     "output_type": "display_data"
    }
   ],
   "source": [
    "sns.boxplot(x=train['sentiment'],y=train['len_tweet']-train['special_char_count'])"
   ]
  },
  {
   "cell_type": "code",
   "execution_count": 168,
   "metadata": {},
   "outputs": [],
   "source": [
    "from nltk.tokenize import word_tokenize\n",
    "def n_words(tweet):\n",
    "    return len(tweet.split())\n",
    "    #tokens = nltk.word_tokenize(tweet)\n",
    "    #return len(tokens)"
   ]
  },
  {
   "cell_type": "code",
   "execution_count": 169,
   "metadata": {},
   "outputs": [],
   "source": [
    "train['n_wds'] = train['tweet'].apply(n_words)"
   ]
  },
  {
   "cell_type": "code",
   "execution_count": 170,
   "metadata": {},
   "outputs": [
    {
     "data": {
      "text/plain": [
       "<matplotlib.axes._subplots.AxesSubplot at 0x18dcff70>"
      ]
     },
     "execution_count": 170,
     "metadata": {},
     "output_type": "execute_result"
    },
    {
     "data": {
      "image/png": "[encoded data removed]",
      "text/plain": [
       "<Figure size 432x288 with 1 Axes>"
      ]
     },
     "metadata": {},
     "output_type": "display_data"
    }
   ],
   "source": [
    "sns.boxplot(x=train['sentiment'],y=train['n_wds'])"
   ]
  },
  {
   "cell_type": "code",
   "execution_count": 148,
   "metadata": {},
   "outputs": [
    {
     "data": {
      "text/plain": [
       "<matplotlib.axes._subplots.AxesSubplot at 0x9964c30>"
      ]
     },
     "execution_count": 148,
     "metadata": {},
     "output_type": "execute_result"
    },
    {
     "data": {
      "image/png": "[encoded data removed]",
      "text/plain": [
       "<Figure size 432x288 with 1 Axes>"
      ]
     },
     "metadata": {},
     "output_type": "display_data"
    }
   ],
   "source": [
    "sns.boxplot(x=train['sentiment'],y=train['len_tweet']-train['n_wds'])"
   ]
  },
  {
   "cell_type": "code",
   "execution_count": 67,
   "metadata": {},
   "outputs": [
    {
     "data": {
      "text/plain": [
       "17001"
      ]
     },
     "execution_count": 67,
     "metadata": {},
     "output_type": "execute_result"
    }
   ],
   "source": [
    "len(train['tweet'].str.split(' ', expand=True).stack().unique())"
   ]
  },
  {
   "cell_type": "code",
   "execution_count": 66,
   "metadata": {},
   "outputs": [
    {
     "data": {
      "text/plain": [
       "@mention                5366\n",
       "{link}                  3355\n",
       "#sxsw                   3232\n",
       "the                     3161\n",
       "#SXSW                   2899\n",
       "to                      2792\n",
       "RT                      2312\n",
       "at                      2289\n",
       "for                     1944\n",
       "a                       1729\n",
       "in                      1433\n",
       "of                      1343\n",
       "iPad                    1322\n",
       "Google                  1294\n",
       "is                      1258\n",
       "                        1254\n",
       "and                     1194\n",
       "Apple                   1154\n",
       "on                       992\n",
       "I                        782\n",
       "store                    727\n",
       "iPhone                   705\n",
       "-                        697\n",
       "2                        670\n",
       "an                       667\n",
       "with                     647\n",
       "you                      628\n",
       "up                       590\n",
       "&amp;                    574\n",
       "my                       566\n",
       "                        ... \n",
       "#flashmob                  1\n",
       "tomato,                    1\n",
       "Move:                      1\n",
       "iPad!!!!!                  1\n",
       "lucky...                   1\n",
       "follow.                    1\n",
       "done,                      1\n",
       "Knocks                     1\n",
       "http://bit.ly/bvHD5s       1\n",
       "lookalike                  1\n",
       "2.0?                       1\n",
       "got.                       1\n",
       "/indexing                  1\n",
       "databases                  1\n",
       "Each                       1\n",
       "÷Ý                        1\n",
       "%GOOG                      1\n",
       "city.                      1\n",
       "Sketchily                  1\n",
       "spotting                   1\n",
       "#startupbus?               1\n",
       "FourSquare,                1\n",
       "#amazing                   1\n",
       "Torrent                    1\n",
       "installing                 1\n",
       "shape?)                    1\n",
       "(photo,                    1\n",
       "tip,                       1\n",
       "Respect                    1\n",
       "happens-                   1\n",
       "Length: 17001, dtype: int64"
      ]
     },
     "execution_count": 66,
     "metadata": {},
     "output_type": "execute_result"
    }
   ],
   "source": [
    "train['tweet'].str.split(' ', expand=True).stack().value_counts()"
   ]
  },
  {
   "cell_type": "code",
   "execution_count": 12,
   "metadata": {},
   "outputs": [],
   "source": [
    "negative_df = train[train['sentiment']==0]\n",
    "neutral_df = train[train['sentiment']==1]\n",
    "positive_df = train[train['sentiment']==2]\n",
    "undecided_df = train[train['sentiment']==3]"
   ]
  },
  {
   "cell_type": "code",
   "execution_count": 15,
   "metadata": {},
   "outputs": [],
   "source": [
    "import re"
   ]
  },
  {
   "cell_type": "code",
   "execution_count": null,
   "metadata": {},
   "outputs": [],
   "source": [
    "'''#anything that is not a word, not a number, not a white space will be found outneg_spl = set(re.findall('\\W', negative_df))\n",
    "neu_spl = set(re.findall('\\W', neutral_df))\n",
    "pos_spl = set(re.findall('\\W', positive_df))\n",
    "cts_spl = set(re.findall('\\W', undecided_df))\n",
    "#Print statement\n",
    "#unique number of special characters and the special characters in each tweet sentiment\n",
    "print('Negative spl characters:', len(neg_spl))\n",
    "print('Negative spl characters are:', neg_spl)\n",
    "print('='*50)\n",
    "print('Neutral spl characters:', len(neu_spl))\n",
    "print('Neutral spl characters are:', neu_spl)\n",
    "print ('='*50)\n",
    "\n",
    "print('Positive spl characters:', len(pos_spl))\n",
    "print('Positive spl characters are:', pos_spl)\n",
    "print ('='*50)\n",
    "print('Undecided spl characters:', len(cts_spl))\n",
    "print('Undecided spl characters are:', cts_spl)'''"
   ]
  },
  {
   "cell_type": "code",
   "execution_count": 110,
   "metadata": {},
   "outputs": [
    {
     "data": {
      "text/plain": [
       "TfidfVectorizer(analyzer='word', binary=False, decode_error='strict',\n",
       "                dtype=<class 'numpy.float64'>, encoding='utf-8',\n",
       "                input='content', lowercase=True, max_df=0.5, max_features=None,\n",
       "                min_df=2, ngram_range=(1, 1), norm='l2', preprocessor=None,\n",
       "                smooth_idf=True, stop_words='english', strip_accents=None,\n",
       "                sublinear_tf=False, token_pattern='\\\\b[a-zA-Z0-9]{3,}\\\\b',\n",
       "                tokenizer=<bound method TreebankWordTokenizer.tokenize of <nltk.tokenize.treebank.TreebankWordTokenizer object at 0x192195F0>>,\n",
       "                use_idf=True, vocabulary=None)"
      ]
     },
     "execution_count": 110,
     "metadata": {},
     "output_type": "execute_result"
    }
   ],
   "source": [
    "import nltk\n",
    "from nltk.tokenize import TreebankWordTokenizer\n",
    "\n",
    "from sklearn.feature_extraction.text import CountVectorizer, TfidfVectorizer\n",
    "#vect = CountVectorizer()\n",
    "\n",
    "vect = TfidfVectorizer()\n",
    "\n",
    "tokenizer = TreebankWordTokenizer()\n",
    "vect.set_params(tokenizer=tokenizer.tokenize)\n",
    "\n",
    "# remove English stop words\n",
    "vect.set_params(stop_words='english')\n",
    "\n",
    "# include 1-grams and 2-grams\n",
    "vect.set_params(ngram_range=(1, 1))\n",
    "\n",
    "# ignore terms that appear in more than 50% of the documents\n",
    "vect.set_params(max_df=0.5)\n",
    "\n",
    "# only keep terms that appear in at least 2 documents\n",
    "vect.set_params(min_df=2)\n",
    "\n",
    "#vect.set_params(token_pattern=r'(?u)\\b[A-Za-z]+{4,}\\b')\n",
    "\n",
    "#/[0-9a-zA-Z]{6,}/\n",
    "\n",
    "#vect.set_params(token_pattern=r'/[0-9a-zA-Z]{6,}/')\n",
    "\n",
    "#r'\\b[a-zA-Z0-9]{3,}\\b'\n",
    "\n",
    "vect.set_params(token_pattern=r'\\b[a-zA-Z0-9]{3,}\\b')"
   ]
  },
  {
   "cell_type": "code",
   "execution_count": 92,
   "metadata": {},
   "outputs": [
    {
     "data": {
      "text/plain": [
       "TfidfVectorizer(analyzer='word', binary=False, decode_error='strict',\n",
       "                dtype=<class 'numpy.float64'>, encoding='utf-8',\n",
       "                input='content', lowercase=True, max_df=0.5, max_features=None,\n",
       "                min_df=2, ngram_range=(1, 1), norm='l2', preprocessor=None,\n",
       "                smooth_idf=True, stop_words='english', strip_accents=None,\n",
       "                sublinear_tf=False, token_pattern='\\\\b[a-zA-Z0-9]{3,}\\\\b',\n",
       "                tokenizer=<bound method TreebankWordTokenizer.tokenize of <nltk.tokenize.treebank.TreebankWordTokenizer object at 0x185AECB0>>,\n",
       "                use_idf=True, vocabulary=None)"
      ]
     },
     "execution_count": 92,
     "metadata": {},
     "output_type": "execute_result"
    }
   ],
   "source": [
    "vect.fit(train['tweet'])"
   ]
  },
  {
   "cell_type": "code",
   "execution_count": 93,
   "metadata": {},
   "outputs": [
    {
     "name": "stdout",
     "output_type": "stream",
     "text": [
      "['!', '$', '%', '&', \"'\", \"'80s-themed\", \"'checkout\", \"'circles\", \"'d\", \"'em\", \"'enchanted\", \"'fast\", \"'get\", \"'google\", \"'humorous\", \"'i\", \"'ll\", \"'lots\", \"'m\", \"'major\", \"'matt\", \"'michaels\", \"'popping\", \"'power\", \"'re\", \"'registers\", \"'s\", \"'saving\", \"'ve\", \"'very\", \"'where\", \"'your\", '(', ')', '*another', '*everyone', '*sigh*', '*south', '*spark', '+', '+1', '+others', ',', '-', '--', '-/', '-\\\\', '-but', '-d', '-google']\n",
      "5263\n"
     ]
    }
   ],
   "source": [
    "print(vect.get_feature_names()[:50])\n",
    "print(len(vect.get_feature_names()))"
   ]
  },
  {
   "cell_type": "code",
   "execution_count": 78,
   "metadata": {},
   "outputs": [],
   "source": [
    "from sklearn.model_selection import train_test_split\n",
    "X_train, X_test, y_train, y_test = train_test_split(train['tweet'], \n",
    "                                    train['sentiment'], train_size = 0.8)"
   ]
  },
  {
   "cell_type": "code",
   "execution_count": 79,
   "metadata": {},
   "outputs": [
    {
     "data": {
      "text/plain": [
       "3341    RT @mention Apple opening a pop up store in do...\n",
       "452     RT @mention Post: SXSWi 2011. Day 1. #BPM @men...\n",
       "5034    RT @mention Celebrate Beauty of the Web @menti...\n",
       "6649    RT @mention Who is flying to #SXSW and wants s...\n",
       "2521    Awesome! RT @mention What happens when #Apple ...\n",
       "Name: tweet, dtype: object"
      ]
     },
     "execution_count": 79,
     "metadata": {},
     "output_type": "execute_result"
    }
   ],
   "source": [
    "X_train = pd.Series(X_train)\n",
    "X_test = pd.Series(X_test)\n",
    "\n",
    "X_train.head()"
   ]
  },
  {
   "cell_type": "code",
   "execution_count": 111,
   "metadata": {},
   "outputs": [
    {
     "data": {
      "text/plain": [
       "TfidfVectorizer(analyzer='word', binary=False, decode_error='strict',\n",
       "                dtype=<class 'numpy.float64'>, encoding='utf-8',\n",
       "                input='content', lowercase=True, max_df=0.5, max_features=None,\n",
       "                min_df=2, ngram_range=(1, 1), norm='l2', preprocessor=None,\n",
       "                smooth_idf=True, stop_words='english', strip_accents=None,\n",
       "                sublinear_tf=False, token_pattern='\\\\b[a-zA-Z0-9]{3,}\\\\b',\n",
       "                tokenizer=<bound method TreebankWordTokenizer.tokenize of <nltk.tokenize.treebank.TreebankWordTokenizer object at 0x192195F0>>,\n",
       "                use_idf=True, vocabulary=None)"
      ]
     },
     "execution_count": 111,
     "metadata": {},
     "output_type": "execute_result"
    }
   ],
   "source": [
    "vect.fit(X_train)"
   ]
  },
  {
   "cell_type": "code",
   "execution_count": null,
   "metadata": {},
   "outputs": [],
   "source": []
  },
  {
   "cell_type": "code",
   "execution_count": 112,
   "metadata": {},
   "outputs": [
    {
     "data": {
      "text/plain": [
       "['!',\n",
       " '$',\n",
       " '%',\n",
       " '&',\n",
       " \"'\",\n",
       " \"'80s-themed\",\n",
       " \"'checkout\",\n",
       " \"'circles\",\n",
       " \"'d\",\n",
       " \"'em\",\n",
       " \"'fast\",\n",
       " \"'get\",\n",
       " \"'google\",\n",
       " \"'humorous\",\n",
       " \"'i\",\n",
       " \"'ll\",\n",
       " \"'m\",\n",
       " \"'major\",\n",
       " \"'matt\",\n",
       " \"'michaels\",\n",
       " \"'popping\",\n",
       " \"'power\",\n",
       " \"'re\",\n",
       " \"'registers\",\n",
       " \"'s\",\n",
       " \"'saving\",\n",
       " \"'ve\",\n",
       " \"'where\",\n",
       " \"'your\",\n",
       " '(',\n",
       " ')',\n",
       " '*everyone',\n",
       " '*sigh*',\n",
       " '*south',\n",
       " '*spark',\n",
       " '+',\n",
       " '+1',\n",
       " '+others',\n",
       " ',',\n",
       " '-',\n",
       " '--',\n",
       " '-/',\n",
       " '-kek',\n",
       " '-marissa',\n",
       " '-mayer.',\n",
       " '-possibly',\n",
       " '.',\n",
       " '..',\n",
       " '...',\n",
       " '..sitting']"
      ]
     },
     "execution_count": 112,
     "metadata": {},
     "output_type": "execute_result"
    }
   ],
   "source": [
    "vect.get_feature_names()[:50]"
   ]
  },
  {
   "cell_type": "code",
   "execution_count": 113,
   "metadata": {},
   "outputs": [
    {
     "data": {
      "text/plain": [
       "<5818x4493 sparse matrix of type '<class 'numpy.float64'>'\n",
       "\twith 69558 stored elements in Compressed Sparse Row format>"
      ]
     },
     "execution_count": 113,
     "metadata": {},
     "output_type": "execute_result"
    }
   ],
   "source": [
    "train_vectors = vect.transform(X_train)\n",
    "train_vectors"
   ]
  },
  {
   "cell_type": "code",
   "execution_count": 114,
   "metadata": {},
   "outputs": [
    {
     "data": {
      "text/plain": [
       "<1455x4493 sparse matrix of type '<class 'numpy.float64'>'\n",
       "\twith 16495 stored elements in Compressed Sparse Row format>"
      ]
     },
     "execution_count": 114,
     "metadata": {},
     "output_type": "execute_result"
    }
   ],
   "source": [
    "test_vectors = vect.transform(X_test)\n",
    "test_vectors"
   ]
  },
  {
   "cell_type": "code",
   "execution_count": 61,
   "metadata": {},
   "outputs": [],
   "source": [
    "from sklearn.naive_bayes import GaussianNB, MultinomialNB, BernoulliNB\n",
    "nb = GaussianNB()\n",
    "bnb = BernoulliNB()"
   ]
  },
  {
   "cell_type": "code",
   "execution_count": null,
   "metadata": {},
   "outputs": [],
   "source": []
  },
  {
   "cell_type": "code",
   "execution_count": 115,
   "metadata": {},
   "outputs": [
    {
     "data": {
      "text/plain": [
       "GaussianNB(priors=None, var_smoothing=1e-09)"
      ]
     },
     "execution_count": 115,
     "metadata": {},
     "output_type": "execute_result"
    }
   ],
   "source": [
    "nb.fit(train_vectors.toarray(), y_train)"
   ]
  },
  {
   "cell_type": "code",
   "execution_count": 116,
   "metadata": {},
   "outputs": [
    {
     "name": "stdout",
     "output_type": "stream",
     "text": [
      "              precision    recall  f1-score   support\n",
      "\n",
      "           0       0.19      0.24      0.21       103\n",
      "           1       0.65      0.51      0.57       858\n",
      "           2       0.41      0.54      0.46       469\n",
      "           3       0.00      0.00      0.00        25\n",
      "\n",
      "    accuracy                           0.49      1455\n",
      "   macro avg       0.31      0.32      0.31      1455\n",
      "weighted avg       0.53      0.49      0.50      1455\n",
      "\n",
      "ACCURACY:: 0.49209621993127145\n"
     ]
    }
   ],
   "source": [
    "from sklearn.metrics.classification import classification_report, accuracy_score\n",
    "                                        \n",
    "from sklearn.model_selection import cross_val_predict\n",
    "\n",
    "# generate your cross-validation prediction with 10 fold \n",
    "#Stratified sampling\n",
    "y_pred = cross_val_predict(nb, test_vectors.toarray(), y_test, cv=10)\n",
    "\n",
    "print(classification_report(y_test, y_pred))\n",
    "print(\"ACCURACY::\",accuracy_score(y_pred, y_test))"
   ]
  },
  {
   "cell_type": "code",
   "execution_count": 117,
   "metadata": {},
   "outputs": [
    {
     "data": {
      "text/plain": [
       "BernoulliNB(alpha=1.0, binarize=0.0, class_prior=None, fit_prior=True)"
      ]
     },
     "execution_count": 117,
     "metadata": {},
     "output_type": "execute_result"
    }
   ],
   "source": [
    "bnb.fit(train_vectors.toarray(), y_train)"
   ]
  },
  {
   "cell_type": "code",
   "execution_count": 118,
   "metadata": {},
   "outputs": [
    {
     "name": "stdout",
     "output_type": "stream",
     "text": [
      "              precision    recall  f1-score   support\n",
      "\n",
      "           0       0.00      0.00      0.00       103\n",
      "           1       0.62      0.95      0.75       858\n",
      "           2       0.61      0.18      0.27       469\n",
      "           3       0.00      0.00      0.00        25\n",
      "\n",
      "    accuracy                           0.62      1455\n",
      "   macro avg       0.31      0.28      0.26      1455\n",
      "weighted avg       0.56      0.62      0.53      1455\n",
      "\n",
      "ACCURACY:: 0.6164948453608248\n"
     ]
    },
    {
     "name": "stderr",
     "output_type": "stream",
     "text": [
      "C:\\ProgramData\\Anaconda3\\lib\\site-packages\\sklearn\\metrics\\classification.py:1437: UndefinedMetricWarning: Precision and F-score are ill-defined and being set to 0.0 in labels with no predicted samples.\n",
      "  'precision', 'predicted', average, warn_for)\n",
      "C:\\ProgramData\\Anaconda3\\lib\\site-packages\\sklearn\\metrics\\classification.py:1437: UndefinedMetricWarning: Precision and F-score are ill-defined and being set to 0.0 in labels with no predicted samples.\n",
      "  'precision', 'predicted', average, warn_for)\n",
      "C:\\ProgramData\\Anaconda3\\lib\\site-packages\\sklearn\\metrics\\classification.py:1437: UndefinedMetricWarning: Precision and F-score are ill-defined and being set to 0.0 in labels with no predicted samples.\n",
      "  'precision', 'predicted', average, warn_for)\n"
     ]
    }
   ],
   "source": [
    "y_pred = cross_val_predict(bnb, test_vectors.toarray(), y_test, cv=10)\n",
    "\n",
    "print(classification_report(y_test, y_pred))\n",
    "print(\"ACCURACY::\",accuracy_score(y_pred, y_test))"
   ]
  },
  {
   "cell_type": "code",
   "execution_count": null,
   "metadata": {},
   "outputs": [],
   "source": [
    "from imblearn.over_sampling import SMOTE, ADASYN\n",
    "train_vec_resampled, y_train_resampled = SMOTE().fit_sample(train_vectors.toarray(), y_train)"
   ]
  },
  {
   "cell_type": "code",
   "execution_count": 171,
   "metadata": {},
   "outputs": [],
   "source": [
    "X_1_train, X_1_test, y_1_train, y_1_test = train_test_split(train[['tweet','n_wds']], \n",
    "                                    train['sentiment'], train_size = 0.8)"
   ]
  },
  {
   "cell_type": "code",
   "execution_count": 172,
   "metadata": {},
   "outputs": [
    {
     "data": {
      "text/plain": [
       "(5818, 2)"
      ]
     },
     "execution_count": 172,
     "metadata": {},
     "output_type": "execute_result"
    }
   ],
   "source": [
    "X_1_train.shape"
   ]
  },
  {
   "cell_type": "code",
   "execution_count": 173,
   "metadata": {},
   "outputs": [
    {
     "data": {
      "text/plain": [
       "0"
      ]
     },
     "execution_count": 173,
     "metadata": {},
     "output_type": "execute_result"
    }
   ],
   "source": [
    "X_1_train['n_wds'].isnull().sum()"
   ]
  },
  {
   "cell_type": "code",
   "execution_count": 174,
   "metadata": {},
   "outputs": [
    {
     "data": {
      "text/plain": [
       "TfidfVectorizer(analyzer='word', binary=False, decode_error='strict',\n",
       "                dtype=<class 'numpy.float64'>, encoding='utf-8',\n",
       "                input='content', lowercase=True, max_df=0.5, max_features=None,\n",
       "                min_df=2, ngram_range=(1, 1), norm='l2', preprocessor=None,\n",
       "                smooth_idf=True, stop_words='english', strip_accents=None,\n",
       "                sublinear_tf=False, token_pattern='\\\\b[a-zA-Z0-9]{3,}\\\\b',\n",
       "                tokenizer=<bound method TreebankWordTokenizer.tokenize of <nltk.tokenize.treebank.TreebankWordTokenizer object at 0x192195F0>>,\n",
       "                use_idf=True, vocabulary=None)"
      ]
     },
     "execution_count": 174,
     "metadata": {},
     "output_type": "execute_result"
    }
   ],
   "source": [
    "vect.fit(X_1_train['tweet'])"
   ]
  },
  {
   "cell_type": "code",
   "execution_count": 175,
   "metadata": {},
   "outputs": [
    {
     "data": {
      "text/plain": [
       "(5818, 4465)"
      ]
     },
     "execution_count": 175,
     "metadata": {},
     "output_type": "execute_result"
    }
   ],
   "source": [
    "train_1_vectors = vect.transform(X_1_train['tweet'])\n",
    "train_1_vectors.shape"
   ]
  },
  {
   "cell_type": "code",
   "execution_count": 176,
   "metadata": {},
   "outputs": [],
   "source": [
    "train_1_df = pd.DataFrame(train_1_vectors.toarray(), columns=vect.get_feature_names())"
   ]
  },
  {
   "cell_type": "code",
   "execution_count": 195,
   "metadata": {},
   "outputs": [],
   "source": [
    "train_1_df['n_wds'] = X_1_train['n_wds'].values"
   ]
  },
  {
   "cell_type": "code",
   "execution_count": 196,
   "metadata": {},
   "outputs": [
    {
     "name": "stdout",
     "output_type": "stream",
     "text": [
      "0\n",
      "0\n",
      "(5818,)\n",
      "(5818,)\n",
      "0     20\n",
      "1     12\n",
      "2     13\n",
      "3     19\n",
      "4     15\n",
      "5     23\n",
      "6     18\n",
      "7     22\n",
      "8     14\n",
      "9     16\n",
      "10    21\n",
      "11    23\n",
      "12    25\n",
      "13    16\n",
      "14    12\n",
      "15    24\n",
      "16    19\n",
      "17    15\n",
      "18    26\n",
      "19    16\n",
      "Name: n_wds, dtype: int64\n",
      "3725    20\n",
      "2196    12\n",
      "6454    13\n",
      "4106    19\n",
      "750     15\n",
      "5296    23\n",
      "837     18\n",
      "2653    22\n",
      "3404    14\n",
      "2790    16\n",
      "3669    21\n",
      "7212    23\n",
      "7246    25\n",
      "4302    16\n",
      "6236    12\n",
      "1455    24\n",
      "1285    19\n",
      "6728    15\n",
      "6748    26\n",
      "194     16\n",
      "Name: n_wds, dtype: int64\n"
     ]
    }
   ],
   "source": [
    "print(X_1_train['n_wds'].isnull().sum())\n",
    "print(train_1_df['n_wds'].isnull().sum())\n",
    "\n",
    "print(X_1_train['n_wds'].shape)\n",
    "print(train_1_df['n_wds'].shape)\n",
    "\n",
    "#train_1_df[train_1_df['n_wds'].isnull()].index.tolist()\n",
    "\n",
    "print(train_1_df['n_wds'].head(20))\n",
    "print(X_1_train['n_wds'].head(20))\n"
   ]
  },
  {
   "cell_type": "code",
   "execution_count": 191,
   "metadata": {},
   "outputs": [
    {
     "data": {
      "text/plain": [
       "16"
      ]
     },
     "execution_count": 191,
     "metadata": {},
     "output_type": "execute_result"
    }
   ],
   "source": [
    "X_1_train['n_wds'].iloc[9]"
   ]
  },
  {
   "cell_type": "code",
   "execution_count": 192,
   "metadata": {},
   "outputs": [
    {
     "data": {
      "text/plain": [
       "15.0"
      ]
     },
     "execution_count": 192,
     "metadata": {},
     "output_type": "execute_result"
    }
   ],
   "source": [
    "train_1_df['n_wds'].iloc[9]"
   ]
  },
  {
   "cell_type": "code",
   "execution_count": 197,
   "metadata": {},
   "outputs": [
    {
     "data": {
      "text/plain": [
       "<1455x4465 sparse matrix of type '<class 'numpy.float64'>'\n",
       "\twith 16651 stored elements in Compressed Sparse Row format>"
      ]
     },
     "execution_count": 197,
     "metadata": {},
     "output_type": "execute_result"
    }
   ],
   "source": [
    "test_1_vectors = vect.transform(X_1_test['tweet'])\n",
    "test_1_vectors"
   ]
  },
  {
   "cell_type": "code",
   "execution_count": 198,
   "metadata": {},
   "outputs": [],
   "source": [
    "test_1_df = pd.DataFrame(test_1_vectors.toarray(), \n",
    "             columns=vect.get_feature_names())\n",
    "\n",
    "test_1_df['n_wds'] = X_1_test['n_wds'].values"
   ]
  },
  {
   "cell_type": "code",
   "execution_count": 199,
   "metadata": {},
   "outputs": [
    {
     "data": {
      "text/plain": [
       "GaussianNB(priors=None, var_smoothing=1e-09)"
      ]
     },
     "execution_count": 199,
     "metadata": {},
     "output_type": "execute_result"
    }
   ],
   "source": [
    "nb.fit(train_1_df, y_1_train)"
   ]
  },
  {
   "cell_type": "code",
   "execution_count": 200,
   "metadata": {},
   "outputs": [
    {
     "name": "stdout",
     "output_type": "stream",
     "text": [
      "              precision    recall  f1-score   support\n",
      "\n",
      "           0       0.08      0.10      0.09        81\n",
      "           1       0.66      0.52      0.58       874\n",
      "           2       0.41      0.56      0.47       473\n",
      "           3       0.04      0.04      0.04        27\n",
      "\n",
      "    accuracy                           0.50      1455\n",
      "   macro avg       0.30      0.30      0.30      1455\n",
      "weighted avg       0.54      0.50      0.51      1455\n",
      "\n",
      "ACCURACY:: 0.5003436426116838\n"
     ]
    }
   ],
   "source": [
    "\n",
    "y_1_pred = cross_val_predict(nb, test_1_df, y_1_test, cv=10)\n",
    "\n",
    "print(classification_report(y_1_test, y_1_pred))\n",
    "print(\"ACCURACY::\",accuracy_score(y_1_pred, y_1_test))"
   ]
  },
  {
   "cell_type": "code",
   "execution_count": 201,
   "metadata": {},
   "outputs": [
    {
     "data": {
      "text/plain": [
       "BernoulliNB(alpha=1.0, binarize=0.0, class_prior=None, fit_prior=True)"
      ]
     },
     "execution_count": 201,
     "metadata": {},
     "output_type": "execute_result"
    }
   ],
   "source": [
    "bnb.fit(train_1_df, y_1_train)"
   ]
  },
  {
   "cell_type": "code",
   "execution_count": 202,
   "metadata": {},
   "outputs": [
    {
     "name": "stdout",
     "output_type": "stream",
     "text": [
      "              precision    recall  f1-score   support\n",
      "\n",
      "           0       0.00      0.00      0.00        81\n",
      "           1       0.63      0.97      0.76       874\n",
      "           2       0.69      0.18      0.28       473\n",
      "           3       0.00      0.00      0.00        27\n",
      "\n",
      "    accuracy                           0.64      1455\n",
      "   macro avg       0.33      0.29      0.26      1455\n",
      "weighted avg       0.60      0.64      0.55      1455\n",
      "\n",
      "ACCURACY:: 0.6378006872852233\n"
     ]
    },
    {
     "name": "stderr",
     "output_type": "stream",
     "text": [
      "C:\\ProgramData\\Anaconda3\\lib\\site-packages\\sklearn\\metrics\\classification.py:1437: UndefinedMetricWarning: Precision and F-score are ill-defined and being set to 0.0 in labels with no predicted samples.\n",
      "  'precision', 'predicted', average, warn_for)\n",
      "C:\\ProgramData\\Anaconda3\\lib\\site-packages\\sklearn\\metrics\\classification.py:1437: UndefinedMetricWarning: Precision and F-score are ill-defined and being set to 0.0 in labels with no predicted samples.\n",
      "  'precision', 'predicted', average, warn_for)\n",
      "C:\\ProgramData\\Anaconda3\\lib\\site-packages\\sklearn\\metrics\\classification.py:1437: UndefinedMetricWarning: Precision and F-score are ill-defined and being set to 0.0 in labels with no predicted samples.\n",
      "  'precision', 'predicted', average, warn_for)\n"
     ]
    }
   ],
   "source": [
    "y_1_pred = cross_val_predict(bnb, test_1_df, y_1_test, cv=10)\n",
    "\n",
    "print(classification_report(y_1_test, y_1_pred))\n",
    "print(\"ACCURACY::\",accuracy_score(y_1_pred, y_1_test))"
   ]
  },
  {
   "cell_type": "code",
   "execution_count": 181,
   "metadata": {},
   "outputs": [
    {
     "data": {
      "text/plain": [
       "1156"
      ]
     },
     "execution_count": 181,
     "metadata": {},
     "output_type": "execute_result"
    }
   ],
   "source": []
  },
  {
   "cell_type": "code",
   "execution_count": null,
   "metadata": {},
   "outputs": [],
   "source": []
  }
 ],
 "metadata": {
  "kernelspec": {
   "display_name": "Python 3",
   "language": "python",
   "name": "python3"
  },
  "language_info": {
   "codemirror_mode": {
    "name": "ipython",
    "version": 3
   },
   "file_extension": ".py",
   "mimetype": "text/x-python",
   "name": "python",
   "nbconvert_exporter": "python",
   "pygments_lexer": "ipython3",
   "version": "3.7.1"
  }
 },
 "nbformat": 4,
 "nbformat_minor": 2
}
