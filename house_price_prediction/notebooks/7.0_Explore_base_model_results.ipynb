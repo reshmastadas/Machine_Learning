{
 "cells": [
  {
   "cell_type": "code",
   "execution_count": 1,
   "metadata": {},
   "outputs": [],
   "source": [
    "import os\n",
    "import glob\n",
    "import pandas as pd"
   ]
  },
  {
   "cell_type": "code",
   "execution_count": 2,
   "metadata": {},
   "outputs": [],
   "source": [
    "MODEL_PATH = os.path.abspath(os.path.join(os.getcwd(),os.path.pardir,'models'))"
   ]
  },
  {
   "cell_type": "code",
   "execution_count": 3,
   "metadata": {},
   "outputs": [
    {
     "name": "stdout",
     "output_type": "stream",
     "text": [
      "['.gitkeep', 'Decsion_Tree', 'Linear_Regression', 'Random_Forest', 'SVM_Linear', 'SVM_Poly', 'SVM_RBF']\n"
     ]
    },
    {
     "data": {
      "text/plain": [
       "['Decsion_Tree',\n",
       " 'Linear_Regression',\n",
       " 'Random_Forest',\n",
       " 'SVM_Linear',\n",
       " 'SVM_Poly',\n",
       " 'SVM_RBF']"
      ]
     },
     "execution_count": 3,
     "metadata": {},
     "output_type": "execute_result"
    }
   ],
   "source": [
    "print(os.listdir(MODEL_PATH))\n",
    "dir_list = [i for i in os.listdir(MODEL_PATH) if i != '.gitkeep']\n",
    "dir_list"
   ]
  },
  {
   "cell_type": "code",
   "execution_count": 4,
   "metadata": {},
   "outputs": [
    {
     "name": "stdout",
     "output_type": "stream",
     "text": [
      "\n",
      "Directory name is  Decsion_Tree\n",
      "   Unnamed: 0             0\n",
      "0           0  73673.320816\n",
      "1           1  78754.314505\n",
      "2           2  76460.434200\n",
      "3           3  75395.296638\n",
      "4           4  69744.277174\n",
      "5           5  72655.544416\n",
      "6           6  74187.394865\n",
      "7           7  68184.746418\n",
      "8           8  76537.858413\n",
      "9           9  76013.722130\n",
      "\n",
      "Directory name is  Linear_Regression\n",
      "   Unnamed: 0             0\n",
      "0           0  62633.094637\n",
      "1           1  70357.724288\n",
      "2           2  66389.214588\n",
      "3           3  67348.895985\n",
      "4           4  68483.819983\n",
      "5           5  67375.117739\n",
      "6           6  67422.741850\n",
      "7           7  66058.930993\n",
      "8           8  68744.088299\n",
      "9           9  71827.050681\n",
      "\n",
      "Directory name is  Random_Forest\n",
      "   Unnamed: 0             0\n",
      "0           0  52136.624702\n",
      "1           1  53839.488427\n",
      "2           2  52342.112456\n",
      "3           3  55570.066661\n",
      "4           4  53096.067337\n",
      "5           5  53928.485022\n",
      "6           6  54386.110057\n",
      "7           7  53776.052888\n",
      "8           8  53190.848152\n",
      "9           9  59747.059410\n",
      "\n",
      "Directory name is  SVM_Linear\n",
      "   Unnamed: 0              0\n",
      "0           0  108034.888556\n",
      "1           1  117094.231446\n",
      "2           2  114453.059472\n",
      "3           3  113788.986047\n",
      "4           4  112927.415036\n",
      "5           5  116808.299482\n",
      "6           6  110226.725493\n",
      "7           7  114007.510202\n",
      "8           8  110946.852707\n",
      "9           9  115775.745815\n",
      "\n",
      "Directory name is  SVM_Poly\n",
      "   Unnamed: 0              0\n",
      "0           0  112501.063739\n",
      "1           1  130736.771623\n",
      "2           2  119202.568517\n",
      "3           3  118213.374123\n",
      "4           4  117620.246595\n",
      "5           5  121636.256131\n",
      "6           6  114688.397522\n",
      "7           7  119037.198682\n",
      "8           8  115443.897462\n",
      "9           9  123186.072801\n",
      "\n",
      "Directory name is  SVM_RBF\n",
      "   Unnamed: 0              0\n",
      "0           0  112510.599061\n",
      "1           1  121711.721621\n",
      "2           2  119084.419920\n",
      "3           3  118212.465758\n",
      "4           4  117641.070736\n",
      "5           5  121451.760853\n",
      "6           6  114514.980720\n",
      "7           7  118982.413526\n",
      "8           8  115442.981680\n",
      "9           9  120322.042352\n"
     ]
    }
   ],
   "source": [
    "for dir_name in dir_list:\n",
    "    print('\\nDirectory name is ', dir_name)\n",
    "    DIR_PATH = os.path.join(MODEL_PATH,dir_name)\n",
    "    FILE_PATH = os.path.join(DIR_PATH, 'cross_val_scores.csv')\n",
    "    print(pd.read_csv(FILE_PATH))"
   ]
  },
  {
   "cell_type": "markdown",
   "metadata": {},
   "source": [
    "**Insights**\n",
    "1. After looking at cross validation scores, we can say that, Random forest is most stable base model."
   ]
  }
 ],
 "metadata": {
  "kernelspec": {
   "display_name": "Python 3",
   "language": "python",
   "name": "python3"
  },
  "language_info": {
   "codemirror_mode": {
    "name": "ipython",
    "version": 3
   },
   "file_extension": ".py",
   "mimetype": "text/x-python",
   "name": "python",
   "nbconvert_exporter": "python",
   "pygments_lexer": "ipython3",
   "version": "3.7.1"
  }
 },
 "nbformat": 4,
 "nbformat_minor": 2
}
